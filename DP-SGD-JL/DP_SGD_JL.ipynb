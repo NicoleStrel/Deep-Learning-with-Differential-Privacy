{
 "cells": [
  {
   "attachments": {},
   "cell_type": "markdown",
   "metadata": {},
   "source": [
    "## Imports"
   ]
  },
  {
   "cell_type": "code",
   "execution_count": 167,
   "metadata": {},
   "outputs": [],
   "source": [
    "import tensorflow as tf\n",
    "from tensorflow import keras\n",
    "from keras import layers\n",
    "from sklearn.utils import shuffle\n",
    "from sklearn.model_selection import train_test_split\n",
    "import matplotlib.pyplot as plt\n",
    "import numpy as np\n",
    "import time\n",
    "\n",
    "tf.random.set_seed(5)"
   ]
  },
  {
   "attachments": {},
   "cell_type": "markdown",
   "metadata": {},
   "source": [
    "## Data Loading"
   ]
  },
  {
   "cell_type": "code",
   "execution_count": 168,
   "metadata": {},
   "outputs": [],
   "source": [
    "# Load data\n",
    "from sklearn.datasets import load_digits\n",
    "data = load_digits()\n",
    "\n",
    "x = data.images\n",
    "y = data.target\n",
    "\n",
    "# Shuffle data\n",
    "x, y = shuffle(x, y, random_state=0)\n",
    "\n",
    "# Normalize data\n",
    "x = x.reshape(-1, 8, 8, 1).astype(\"float32\") / 16.0\n",
    "\n",
    "# Split data 80/10/10\n",
    "x_train, x_remaining, y_train, y_remaining = train_test_split(x, y, train_size=0.8)\n",
    "x_valid, x_test, y_valid, y_test = train_test_split(x_remaining, y_remaining, test_size=0.5) # split remaining 20% into 10% and 10%"
   ]
  },
  {
   "cell_type": "code",
   "execution_count": 169,
   "metadata": {},
   "outputs": [],
   "source": [
    "# convert to tensorflow tensors\n",
    "x_train = tf.convert_to_tensor(np.array(x_train, dtype=np.float32), dtype=tf.float32)\n",
    "y_train = tf.convert_to_tensor(np.array(y_train, dtype=np.float32), dtype=tf.float32)\n",
    "x_test = tf.convert_to_tensor(np.array(x_test, dtype=np.float32), dtype=tf.float32)\n",
    "y_test = tf.convert_to_tensor(np.array(y_test, dtype=np.float32), dtype=tf.float32)\n",
    "x_valid = tf.convert_to_tensor(np.array(x_valid, dtype=np.float32), dtype=tf.float32)\n",
    "y_valid = tf.convert_to_tensor(np.array(y_valid, dtype=np.float32), dtype=tf.float32)"
   ]
  },
  {
   "attachments": {},
   "cell_type": "markdown",
   "metadata": {},
   "source": [
    "## Defining CNN"
   ]
  },
  {
   "cell_type": "code",
   "execution_count": 170,
   "metadata": {},
   "outputs": [],
   "source": [
    "class CNN(tf.keras.Model):\n",
    "    def __init__(self):\n",
    "        super().__init__()\n",
    "        self.conv1 = layers.Conv2D(filters = 16, kernel_size = 3, activation = 'relu', dtype='float32', padding = 'same', input_shape = (8,8,1))\n",
    "        self.pool = layers.MaxPool2D(pool_size = 2)\n",
    "        self.conv2 = layers.Conv2D(filters = 32, kernel_size = 3, activation = 'relu', padding = 'same')\n",
    "        self.fc1 = layers.Dense(units = 32, activation = 'relu')\n",
    "        self.fc2 = layers.Dense(units = 10, activation = 'softmax')\n",
    "        self.flat = layers.Flatten()\n",
    "            \n",
    "    def call(self, inputs):\n",
    "        x = self.conv1(inputs)\n",
    "        x = self.pool(x)\n",
    "        x = self.conv2(x)\n",
    "        x = self.pool(x)\n",
    "        x = self.flat(x)\n",
    "        x = self.fc1(x)\n",
    "        x = self.fc2(x)\n",
    "        return x"
   ]
  },
  {
   "attachments": {},
   "cell_type": "markdown",
   "metadata": {},
   "source": [
    "## Regular SGD"
   ]
  },
  {
   "cell_type": "code",
   "execution_count": 171,
   "metadata": {},
   "outputs": [],
   "source": [
    "# hyperparameters\n",
    "epochs = 30\n",
    "batch = int(np.sqrt(len(x_train)))\n",
    "lr = 0.1\n",
    "\n",
    "# functions\n",
    "loss_fcn = tf.keras.losses.SparseCategoricalCrossentropy()\n",
    "optimizer = tf.keras.optimizers.experimental.SGD(learning_rate=lr)\n",
    "train_acc_metric = keras.metrics.SparseCategoricalAccuracy()\n",
    "valid_acc_metric = keras.metrics.SparseCategoricalAccuracy()"
   ]
  },
  {
   "cell_type": "code",
   "execution_count": 172,
   "metadata": {},
   "outputs": [],
   "source": [
    "def train_sgd(x_train, y_train, x_valid, y_valid, model, epoch_num, batch_size):\n",
    "    train_accuracies = []\n",
    "    valid_accuracies = []\n",
    "\n",
    "    train_dataset = tf.data.Dataset.from_tensor_slices((x_train, y_train))\n",
    "    train_dataset = train_dataset.batch(batch_size)\n",
    "\n",
    "    val_dataset = tf.data.Dataset.from_tensor_slices((x_valid, y_valid))\n",
    "    val_dataset = val_dataset.batch(batch_size)\n",
    "\n",
    "    for epoch in range(epoch_num):\n",
    "        for step, (x_batch_train, y_batch_train) in enumerate(train_dataset):\n",
    "            with tf.GradientTape() as tape:\n",
    "                logits = model(x_batch_train, training=True)\n",
    "                loss_value = loss_fcn(y_batch_train, logits)\n",
    "            grads = tape.gradient(loss_value, model.trainable_weights)\n",
    "            optimizer.apply_gradients(zip(grads, model.trainable_weights))\n",
    "            train_acc_metric.update_state(y_batch_train, logits)\n",
    "        train_accuracy = float(train_acc_metric.result())\n",
    "        train_accuracies.append(train_accuracy)\n",
    "        train_acc_metric.reset_states()\n",
    "\n",
    "        for step, (x_batch_valid, y_batch_valid) in enumerate(val_dataset):\n",
    "            val_logits = model(x_batch_valid, training=False)\n",
    "            valid_acc_metric.update_state(y_batch_valid, val_logits)\n",
    "        valid_accuracy = float(valid_acc_metric.result())\n",
    "        valid_accuracies.append(valid_accuracy)\n",
    "        valid_acc_metric.reset_states()\n",
    "\n",
    "        print(\"Epoch\", epoch+1, \"Training Accuracy: \", train_accuracy, \", Validation Accuracy: \",  valid_accuracy)\n",
    "    return train_accuracies, valid_accuracies\n"
   ]
  },
  {
   "cell_type": "code",
   "execution_count": 173,
   "metadata": {},
   "outputs": [
    {
     "name": "stdout",
     "output_type": "stream",
     "text": [
      "Epoch 1 Training Accuracy:  0.23034098744392395 , Validation Accuracy:  0.27222222089767456\n",
      "Epoch 2 Training Accuracy:  0.41405707597732544 , Validation Accuracy:  0.5888888835906982\n",
      "Epoch 3 Training Accuracy:  0.6645789742469788 , Validation Accuracy:  0.7555555701255798\n",
      "Epoch 4 Training Accuracy:  0.8037578463554382 , Validation Accuracy:  0.9166666865348816\n",
      "Epoch 5 Training Accuracy:  0.8830897808074951 , Validation Accuracy:  0.9166666865348816\n",
      "Epoch 6 Training Accuracy:  0.9199721813201904 , Validation Accuracy:  0.9444444179534912\n",
      "Epoch 7 Training Accuracy:  0.9318023920059204 , Validation Accuracy:  0.9611111283302307\n",
      "Epoch 8 Training Accuracy:  0.9450243711471558 , Validation Accuracy:  0.9722222089767456\n",
      "Epoch 9 Training Accuracy:  0.9568545818328857 , Validation Accuracy:  0.9777777791023254\n",
      "Epoch 10 Training Accuracy:  0.9652053117752075 , Validation Accuracy:  0.9888888597488403\n",
      "Epoch 11 Training Accuracy:  0.9721642136573792 , Validation Accuracy:  0.9833333492279053\n",
      "Epoch 12 Training Accuracy:  0.9791231751441956 , Validation Accuracy:  0.9888888597488403\n",
      "Epoch 13 Training Accuracy:  0.9826026558876038 , Validation Accuracy:  0.9888888597488403\n",
      "Epoch 14 Training Accuracy:  0.98816978931427 , Validation Accuracy:  0.9888888597488403\n",
      "Epoch 15 Training Accuracy:  0.9895615577697754 , Validation Accuracy:  0.9888888597488403\n",
      "Epoch 16 Training Accuracy:  0.9895615577697754 , Validation Accuracy:  0.9833333492279053\n",
      "Epoch 17 Training Accuracy:  0.9902575016021729 , Validation Accuracy:  0.9833333492279053\n",
      "Epoch 18 Training Accuracy:  0.9902575016021729 , Validation Accuracy:  0.9833333492279053\n",
      "Epoch 19 Training Accuracy:  0.9937369227409363 , Validation Accuracy:  0.9833333492279053\n",
      "Epoch 20 Training Accuracy:  0.9958246350288391 , Validation Accuracy:  0.9833333492279053\n",
      "Epoch 21 Training Accuracy:  0.9958246350288391 , Validation Accuracy:  0.9833333492279053\n",
      "Epoch 22 Training Accuracy:  0.9972164034843445 , Validation Accuracy:  0.9833333492279053\n",
      "Epoch 23 Training Accuracy:  0.9979122877120972 , Validation Accuracy:  0.9833333492279053\n",
      "Epoch 24 Training Accuracy:  0.9979122877120972 , Validation Accuracy:  0.9833333492279053\n",
      "Epoch 25 Training Accuracy:  0.9972164034843445 , Validation Accuracy:  0.9833333492279053\n",
      "Epoch 26 Training Accuracy:  0.9986082315444946 , Validation Accuracy:  0.9833333492279053\n",
      "Epoch 27 Training Accuracy:  0.9986082315444946 , Validation Accuracy:  0.9833333492279053\n",
      "Epoch 28 Training Accuracy:  0.9993041157722473 , Validation Accuracy:  0.9833333492279053\n",
      "Epoch 29 Training Accuracy:  0.9993041157722473 , Validation Accuracy:  0.9833333492279053\n",
      "Epoch 30 Training Accuracy:  1.0 , Validation Accuracy:  0.9833333492279053\n",
      "0.9777777791023254\n"
     ]
    }
   ],
   "source": [
    "sgd_model = CNN()\n",
    "train_accuracies_regular, valid_accuracies_regular = train_sgd(x_train, y_train, x_valid, y_valid, sgd_model, epochs, batch)\n",
    "output = sgd_model(tf.Variable(x_test))\n",
    "\n",
    "acc = keras.metrics.SparseCategoricalAccuracy()\n",
    "acc.update_state(y_test, output)\n",
    "print(float(acc.result()))\n",
    "\n",
    "# ind_max_amp=np.argmax(output.numpy(), axis=1, out=None)\n",
    "# print(np.mean(y_test == ind_max_amp))"
   ]
  },
  {
   "cell_type": "code",
   "execution_count": 174,
   "metadata": {},
   "outputs": [
    {
     "data": {
      "image/png": "[encoded data removed]",
      "text/plain": [
       "<Figure size 640x480 with 1 Axes>"
      ]
     },
     "metadata": {},
     "output_type": "display_data"
    }
   ],
   "source": [
    "plt.title(\"Training and Validation Accuracies of Regular CNN\")\n",
    "plt.plot(train_accuracies_regular, label=\"Train\")\n",
    "plt.plot(valid_accuracies_regular, label=\"Validation\")\n",
    "plt.xlabel(\"Epoch\")\n",
    "plt.ylabel(\"Accuracy (%)\")\n",
    "plt.legend(loc='best')\n",
    "plt.show()"
   ]
  },
  {
   "attachments": {},
   "cell_type": "markdown",
   "metadata": {},
   "source": [
    "## DP-SGD"
   ]
  },
  {
   "cell_type": "code",
   "execution_count": 242,
   "metadata": {},
   "outputs": [],
   "source": [
    "# hyperparameters\n",
    "epochs = 30\n",
    "batch = 100\n",
    "lr = 0.01\n",
    "sigma = 4\n",
    "C = 1 \n",
    "#r = 10 # number of JL projections\n",
    "\n",
    "# functions\n",
    "loss_fcn = tf.keras.losses.SparseCategoricalCrossentropy()\n",
    "optimizer = tf.keras.optimizers.experimental.SGD(learning_rate=lr)\n",
    "train_acc_metric = keras.metrics.SparseCategoricalAccuracy()\n",
    "valid_acc_metric = keras.metrics.SparseCategoricalAccuracy()"
   ]
  },
  {
   "cell_type": "code",
   "execution_count": 247,
   "metadata": {},
   "outputs": [],
   "source": [
    "def train_dp_sgd(x_train, y_train, x_valid, y_valid, model, epoch_num, batch_size):\n",
    "    train_accuracies = []\n",
    "    valid_accuracies = []\n",
    "\n",
    "    train_dataset = tf.data.Dataset.from_tensor_slices((x_train, y_train))\n",
    "    train_dataset = train_dataset.batch(batch_size)\n",
    "\n",
    "    val_dataset = tf.data.Dataset.from_tensor_slices((x_valid, y_valid))\n",
    "    val_dataset = val_dataset.batch(batch_size)\n",
    "\n",
    "    for epoch in range(epoch_num):\n",
    "        # Sample a batch from the dataset\n",
    "        #batch_data = train_dataset.sample(batch_size)\n",
    "        for step, (x_batch_train, y_batch_train) in enumerate(train_dataset):\n",
    "        \n",
    "        # Compute the gradients for each sample in the batch\n",
    "            grads = []\n",
    "            for i in range(len(x_batch_train)):\n",
    "                x = tf.expand_dims(x_batch_train[i], 0)\n",
    "                y = tf.expand_dims(y_batch_train[i], 0)\n",
    "                with tf.GradientTape() as tape:\n",
    "                    # Compute the loss for the sample\n",
    "                    loss = loss_fcn(model(x), y)\n",
    "                # Compute the gradients for the sample\n",
    "                sample_grads = tape.gradient(loss, model.trainable_variables)\n",
    "                # Clip the L2 norm of the gradients\n",
    "                sample_grads, _ = tf.clip_by_global_norm(sample_grads, C)\n",
    "                # Add Gaussian noise to the gradients\n",
    "                noise = tf.random.normal(shape=sample_grads.shape, stddev=sigma*C/batch_size)\n",
    "                sample_grads += noise\n",
    "                # Append the noisy gradients to the list of gradients for the batch\n",
    "                grads.append(sample_grads)\n",
    "        \n",
    "            # Compute the average gradient for the batch\n",
    "            avg_grads = [tf.reduce_mean(g, axis=0) for g in grads]\n",
    "            \n",
    "            # Update the model parameters using the average gradient\n",
    "            model.optimizer.apply_gradients(zip(avg_grads, model.trainable_variables))\n",
    "    \n",
    "\n",
    "    # for epoch in range(epoch_num):\n",
    "    #     grads = []\n",
    "    #     for step, (x_batch_train, y_batch_train) in enumerate(train_dataset):\n",
    "    #         with tf.GradientTape() as tape:\n",
    "    #             logits = model(x_batch_train, training=True)\n",
    "    #             loss_value = loss_fcn(y_batch_train, logits)\n",
    "    #         grads = tape.gradient(loss_value, model.trainable_variables)\n",
    "\n",
    "    #         clipped_grads, _ = tf.clip_by_global_norm(grads, C)\n",
    "    #         print(len(clipped_grads))\n",
    "    #         clipped_grads_tensor = tf.stack(clipped_grads)\n",
    "    #         clipped_grads_tensor = tf.reshape(clipped_grads_tensor, [batch_size, -1])\n",
    "\n",
    "    #         # Loop over samples in the batch\n",
    "    #         train_acc = []\n",
    "    #         for i in range(len(x_batch_train)):\n",
    "    #             noise = tf.random.normal(tf.shape(clipped_grads_tensor), stddev=sigma)\n",
    "    #             #noise = tf.reshape(noise, tf.shape(clipped_grads))\n",
    "    #             sample_grads = [clipped_grads[j][i] + noise[j][i] for j in range(len(clipped_grads))]\n",
    "    #             optimizer.apply_gradients(zip(sample_grads, model.trainable_variables))\n",
    "    #             train_acc_metric.update_state(y_batch_train[i], logits[i,:])\n",
    "    #             train_accuracy = float(train_acc_metric.result())\n",
    "    #             train_acc.append(train_accuracy)\n",
    "    #             train_samples += 1\n",
    "    #             train_acc_metric.reset_states()\n",
    "\n",
    "    #     val_acc = []\n",
    "    #     for step, (x_batch_valid, y_batch_valid) in enumerate(val_dataset):\n",
    "    #         val_logits = model(x_batch_valid, training=False)\n",
    "    #         for i in range(len(x_batch_valid)):\n",
    "    #             valid_acc_metric.update_state(y_batch_valid[i], val_logits[i,:])\n",
    "    #             valid_accuracy = float(valid_acc_metric.result())\n",
    "    #             val_acc.append(valid_accuracy)\n",
    "    #             val_samples += 1\n",
    "    #             valid_acc_metric.reset_states()\n",
    "\n",
    "    #     train_accuracy = np.sum(train_acc) / train_samples\n",
    "    #     valid_accuracy = np.sum(val_acc) / val_samples\n",
    "\n",
    "        print(\"Epoch\", epoch+1)#, \"Training Accuracy: \", train_accuracy, \", Validation Accuracy: \",  valid_accuracy)\n",
    "    return train_accuracies, valid_accuracies"
   ]
  },
  {
   "cell_type": "code",
   "execution_count": 248,
   "metadata": {},
   "outputs": [
    {
     "ename": "ValueError",
     "evalue": "`labels.shape` must equal `logits.shape` except for the last dimension. Received: labels.shape=(10,) and logits.shape=(1, 1)",
     "output_type": "error",
     "traceback": [
      "\u001b[1;31m---------------------------------------------------------------------------\u001b[0m",
      "\u001b[1;31mValueError\u001b[0m                                Traceback (most recent call last)",
      "Cell \u001b[1;32mIn[248], line 2\u001b[0m\n\u001b[0;32m      1\u001b[0m dp_sgd_model \u001b[39m=\u001b[39m CNN()\n\u001b[1;32m----> 2\u001b[0m train_accuracies_dp, valid_accuracies_dp \u001b[39m=\u001b[39m train_dp_sgd(x_train, y_train, x_valid, y_valid, dp_sgd_model, epochs, batch)\n\u001b[0;32m      3\u001b[0m output \u001b[39m=\u001b[39m dp_sgd_model(tf\u001b[39m.\u001b[39mVariable(x_test))\n\u001b[0;32m      5\u001b[0m acc \u001b[39m=\u001b[39m keras\u001b[39m.\u001b[39mmetrics\u001b[39m.\u001b[39mSparseCategoricalAccuracy()\n",
      "Cell \u001b[1;32mIn[247], line 23\u001b[0m, in \u001b[0;36mtrain_dp_sgd\u001b[1;34m(x_train, y_train, x_valid, y_valid, model, epoch_num, batch_size)\u001b[0m\n\u001b[0;32m     20\u001b[0m y \u001b[39m=\u001b[39m tf\u001b[39m.\u001b[39mexpand_dims(y_batch_train[i], \u001b[39m0\u001b[39m)\n\u001b[0;32m     21\u001b[0m \u001b[39mwith\u001b[39;00m tf\u001b[39m.\u001b[39mGradientTape() \u001b[39mas\u001b[39;00m tape:\n\u001b[0;32m     22\u001b[0m     \u001b[39m# Compute the loss for the sample\u001b[39;00m\n\u001b[1;32m---> 23\u001b[0m     loss \u001b[39m=\u001b[39m loss_fcn(model(x), y)\n\u001b[0;32m     24\u001b[0m \u001b[39m# Compute the gradients for the sample\u001b[39;00m\n\u001b[0;32m     25\u001b[0m sample_grads \u001b[39m=\u001b[39m tape\u001b[39m.\u001b[39mgradient(loss, model\u001b[39m.\u001b[39mtrainable_variables)\n",
      "File \u001b[1;32mc:\\Users\\ria_u\\Anaconda3\\envs\\rob313\\lib\\site-packages\\keras\\losses.py:152\u001b[0m, in \u001b[0;36mLoss.__call__\u001b[1;34m(self, y_true, y_pred, sample_weight)\u001b[0m\n\u001b[0;32m    148\u001b[0m \u001b[39melse\u001b[39;00m:\n\u001b[0;32m    149\u001b[0m     call_fn \u001b[39m=\u001b[39m tf\u001b[39m.\u001b[39m__internal__\u001b[39m.\u001b[39mautograph\u001b[39m.\u001b[39mtf_convert(\n\u001b[0;32m    150\u001b[0m         \u001b[39mself\u001b[39m\u001b[39m.\u001b[39mcall, tf\u001b[39m.\u001b[39m__internal__\u001b[39m.\u001b[39mautograph\u001b[39m.\u001b[39mcontrol_status_ctx()\n\u001b[0;32m    151\u001b[0m     )\n\u001b[1;32m--> 152\u001b[0m losses \u001b[39m=\u001b[39m call_fn(y_true, y_pred)\n\u001b[0;32m    153\u001b[0m mask \u001b[39m=\u001b[39m losses_utils\u001b[39m.\u001b[39mget_mask(losses)\n\u001b[0;32m    154\u001b[0m reduction \u001b[39m=\u001b[39m \u001b[39mself\u001b[39m\u001b[39m.\u001b[39m_get_reduction()\n",
      "File \u001b[1;32mc:\\Users\\ria_u\\Anaconda3\\envs\\rob313\\lib\\site-packages\\keras\\losses.py:272\u001b[0m, in \u001b[0;36mLossFunctionWrapper.call\u001b[1;34m(self, y_true, y_pred)\u001b[0m\n\u001b[0;32m    265\u001b[0m     y_pred, y_true \u001b[39m=\u001b[39m losses_utils\u001b[39m.\u001b[39msqueeze_or_expand_dimensions(\n\u001b[0;32m    266\u001b[0m         y_pred, y_true\n\u001b[0;32m    267\u001b[0m     )\n\u001b[0;32m    269\u001b[0m ag_fn \u001b[39m=\u001b[39m tf\u001b[39m.\u001b[39m__internal__\u001b[39m.\u001b[39mautograph\u001b[39m.\u001b[39mtf_convert(\n\u001b[0;32m    270\u001b[0m     \u001b[39mself\u001b[39m\u001b[39m.\u001b[39mfn, tf\u001b[39m.\u001b[39m__internal__\u001b[39m.\u001b[39mautograph\u001b[39m.\u001b[39mcontrol_status_ctx()\n\u001b[0;32m    271\u001b[0m )\n\u001b[1;32m--> 272\u001b[0m \u001b[39mreturn\u001b[39;00m ag_fn(y_true, y_pred, \u001b[39m*\u001b[39m\u001b[39m*\u001b[39m\u001b[39mself\u001b[39m\u001b[39m.\u001b[39m_fn_kwargs)\n",
      "File \u001b[1;32mc:\\Users\\ria_u\\Anaconda3\\envs\\rob313\\lib\\site-packages\\tensorflow\\python\\util\\traceback_utils.py:153\u001b[0m, in \u001b[0;36mfilter_traceback.<locals>.error_handler\u001b[1;34m(*args, **kwargs)\u001b[0m\n\u001b[0;32m    151\u001b[0m \u001b[39mexcept\u001b[39;00m \u001b[39mException\u001b[39;00m \u001b[39mas\u001b[39;00m e:\n\u001b[0;32m    152\u001b[0m   filtered_tb \u001b[39m=\u001b[39m _process_traceback_frames(e\u001b[39m.\u001b[39m__traceback__)\n\u001b[1;32m--> 153\u001b[0m   \u001b[39mraise\u001b[39;00m e\u001b[39m.\u001b[39mwith_traceback(filtered_tb) \u001b[39mfrom\u001b[39;00m \u001b[39mNone\u001b[39m\n\u001b[0;32m    154\u001b[0m \u001b[39mfinally\u001b[39;00m:\n\u001b[0;32m    155\u001b[0m   \u001b[39mdel\u001b[39;00m filtered_tb\n",
      "File \u001b[1;32mc:\\Users\\ria_u\\Anaconda3\\envs\\rob313\\lib\\site-packages\\keras\\losses.py:2084\u001b[0m, in \u001b[0;36msparse_categorical_crossentropy\u001b[1;34m(y_true, y_pred, from_logits, axis, ignore_class)\u001b[0m\n\u001b[0;32m   2034\u001b[0m \u001b[39m@keras_export\u001b[39m(\n\u001b[0;32m   2035\u001b[0m     \u001b[39m\"\u001b[39m\u001b[39mkeras.metrics.sparse_categorical_crossentropy\u001b[39m\u001b[39m\"\u001b[39m,\n\u001b[0;32m   2036\u001b[0m     \u001b[39m\"\u001b[39m\u001b[39mkeras.losses.sparse_categorical_crossentropy\u001b[39m\u001b[39m\"\u001b[39m,\n\u001b[1;32m   (...)\u001b[0m\n\u001b[0;32m   2040\u001b[0m     y_true, y_pred, from_logits\u001b[39m=\u001b[39m\u001b[39mFalse\u001b[39;00m, axis\u001b[39m=\u001b[39m\u001b[39m-\u001b[39m\u001b[39m1\u001b[39m, ignore_class\u001b[39m=\u001b[39m\u001b[39mNone\u001b[39;00m\n\u001b[0;32m   2041\u001b[0m ):\n\u001b[0;32m   2042\u001b[0m     \u001b[39m\"\"\"Computes the sparse categorical crossentropy loss.\u001b[39;00m\n\u001b[0;32m   2043\u001b[0m \n\u001b[0;32m   2044\u001b[0m \u001b[39m    Standalone usage:\u001b[39;00m\n\u001b[1;32m   (...)\u001b[0m\n\u001b[0;32m   2082\u001b[0m \u001b[39m      Sparse categorical crossentropy loss value.\u001b[39;00m\n\u001b[0;32m   2083\u001b[0m \u001b[39m    \"\"\"\u001b[39;00m\n\u001b[1;32m-> 2084\u001b[0m     \u001b[39mreturn\u001b[39;00m backend\u001b[39m.\u001b[39;49msparse_categorical_crossentropy(\n\u001b[0;32m   2085\u001b[0m         y_true,\n\u001b[0;32m   2086\u001b[0m         y_pred,\n\u001b[0;32m   2087\u001b[0m         from_logits\u001b[39m=\u001b[39;49mfrom_logits,\n\u001b[0;32m   2088\u001b[0m         ignore_class\u001b[39m=\u001b[39;49mignore_class,\n\u001b[0;32m   2089\u001b[0m         axis\u001b[39m=\u001b[39;49maxis,\n\u001b[0;32m   2090\u001b[0m     )\n",
      "File \u001b[1;32mc:\\Users\\ria_u\\Anaconda3\\envs\\rob313\\lib\\site-packages\\keras\\backend.py:5634\u001b[0m, in \u001b[0;36msparse_categorical_crossentropy\u001b[1;34m(target, output, from_logits, axis, ignore_class)\u001b[0m\n\u001b[0;32m   5630\u001b[0m         res \u001b[39m=\u001b[39m tf\u001b[39m.\u001b[39mnn\u001b[39m.\u001b[39msparse_softmax_cross_entropy_with_logits(\n\u001b[0;32m   5631\u001b[0m             labels\u001b[39m=\u001b[39mtarget, logits\u001b[39m=\u001b[39moutput\n\u001b[0;32m   5632\u001b[0m         )\n\u001b[0;32m   5633\u001b[0m \u001b[39melse\u001b[39;00m:\n\u001b[1;32m-> 5634\u001b[0m     res \u001b[39m=\u001b[39m tf\u001b[39m.\u001b[39;49mnn\u001b[39m.\u001b[39;49msparse_softmax_cross_entropy_with_logits(\n\u001b[0;32m   5635\u001b[0m         labels\u001b[39m=\u001b[39;49mtarget, logits\u001b[39m=\u001b[39;49moutput\n\u001b[0;32m   5636\u001b[0m     )\n\u001b[0;32m   5638\u001b[0m \u001b[39mif\u001b[39;00m ignore_class \u001b[39mis\u001b[39;00m \u001b[39mnot\u001b[39;00m \u001b[39mNone\u001b[39;00m:\n\u001b[0;32m   5639\u001b[0m     res_shape \u001b[39m=\u001b[39m cast(output_shape[:\u001b[39m-\u001b[39m\u001b[39m1\u001b[39m], \u001b[39m\"\u001b[39m\u001b[39mint64\u001b[39m\u001b[39m\"\u001b[39m)\n",
      "\u001b[1;31mValueError\u001b[0m: `labels.shape` must equal `logits.shape` except for the last dimension. Received: labels.shape=(10,) and logits.shape=(1, 1)"
     ]
    }
   ],
   "source": [
    "dp_sgd_model = CNN()\n",
    "train_accuracies_dp, valid_accuracies_dp = train_dp_sgd(x_train, y_train, x_valid, y_valid, dp_sgd_model, epochs, batch)\n",
    "output = dp_sgd_model(tf.Variable(x_test))\n",
    "\n",
    "acc = keras.metrics.SparseCategoricalAccuracy()\n",
    "acc.update_state(y_test, output)\n",
    "print(float(acc.result()))"
   ]
  },
  {
   "cell_type": "code",
   "execution_count": 213,
   "metadata": {},
   "outputs": [
    {
     "data": {
      "image/png": "[encoded data removed]",
      "text/plain": [
       "<Figure size 640x480 with 1 Axes>"
      ]
     },
     "metadata": {},
     "output_type": "display_data"
    }
   ],
   "source": [
    "plt.title(\"Training and Validation Accuracies of DP CNN\")\n",
    "plt.plot(train_accuracies_dp, label=\"Train\")\n",
    "plt.plot(valid_accuracies_dp, label=\"Validation\")\n",
    "plt.xlabel(\"Epoch\")\n",
    "plt.ylabel(\"Accuracy (%)\")\n",
    "plt.legend(loc='best')\n",
    "plt.show()"
   ]
  },
  {
   "attachments": {},
   "cell_type": "markdown",
   "metadata": {},
   "source": [
    "## DP-SGD-JL"
   ]
  },
  {
   "cell_type": "code",
   "execution_count": 249,
   "metadata": {},
   "outputs": [],
   "source": [
    "# hyperparameters\n",
    "epochs = 30\n",
    "batch = 100\n",
    "lr = 0.01\n",
    "sigma = 4\n",
    "C = 2 \n",
    "r = 10 # number of JL projections\n",
    "\n",
    "# functions\n",
    "loss_fcn = tf.keras.losses.SparseCategoricalCrossentropy()\n",
    "optimizer = tf.keras.optimizers.experimental.SGD(learning_rate=lr)\n",
    "train_acc_metric = keras.metrics.SparseCategoricalAccuracy()\n",
    "valid_acc_metric = keras.metrics.SparseCategoricalAccuracy()"
   ]
  },
  {
   "cell_type": "code",
   "execution_count": 250,
   "metadata": {},
   "outputs": [],
   "source": [
    "def train_dp_sgd_jl(x_train, y_train, x_valid, y_valid, model, epoch_num, batch_size):\n",
    "    train_accuracies = []\n",
    "    valid_accuracies = []\n",
    "\n",
    "    train_dataset = tf.data.Dataset.from_tensor_slices((x_train, y_train))\n",
    "    train_dataset = train_dataset.batch(batch_size)\n",
    "\n",
    "    val_dataset = tf.data.Dataset.from_tensor_slices((x_valid, y_valid))\n",
    "    val_dataset = val_dataset.batch(batch_size)\n",
    "\n",
    "    for epoch in range(epoch_num):\n",
    "        for step, (x_batch_train, y_batch_train) in enumerate(train_dataset):\n",
    "            start = time.time()\n",
    "\n",
    "            per_sample_grads = []\n",
    "            F = []      # store losses\n",
    "            V = []      # store gaussian variables\n",
    "\n",
    "            for j in range(1, r):\n",
    "                v = tf.random.normal([tf.shape(x_batch_train[0])])\n",
    "                V.append(v)\n",
    "\n",
    "            for i in range(len(x_batch_train)):\n",
    "                with tf.GradientTape() as tape:\n",
    "                    logits = model(tf.expand_dims(x_batch_train[i], 0), training=True)\n",
    "                    loss_value = loss_fcn(tf.expand_dims(y_batch_train[i], 0), logits)\n",
    "                    F.append(loss_value)\n",
    "                P = []\n",
    "                for j in range(1, r):\n",
    "                    with tf.autodiff.ForwardAccumulator(tf.constant(F[i]), tf.constant(V[i])) as acc:\n",
    "                        P.append(acc.jvp(loss_fcn()))\n",
    "                    # jvp for all v and keep adding the square over r\n",
    "\n",
    "                M = tf.reduce_mean(tf.constant(P))\n",
    "\n",
    "                sample_loss = min(1, C/M)*F[i]\n",
    "\n",
    "                grads_i = tape.gradient(sample_loss, model.trainable_weights)\n",
    "                # grads_i = [tf.clip_by_norm(g, C) for g in grads_i]\n",
    "                per_sample_grads.append([g/batch for g in grads_i])\n",
    "                train_acc_metric.update_state(tf.expand_dims(y_batch_train[i], 0), logits)\n",
    "\n",
    "            sum = per_sample_grads[0]\n",
    "            for i in range(1, len(per_sample_grads)):\n",
    "                sum += per_sample_grads[i]\n",
    "\n",
    "            four = time.time()\n",
    "\n",
    "            noise = sigma*C*(1/batch)*tf.random.normal(tf.shape(sum[0]))\n",
    "            grads = sum + noise\n",
    "\n",
    "            five = time.time()\n",
    "            print('Time to add noise', five-four)\n",
    "\n",
    "            optimizer.apply_gradients(zip(grads, model.trainable_weights))\n",
    "            print('Time to apply gradients:', time.time()-five)\n",
    "            print('Total time to complete batch:', time.time()-start)\n",
    "\n",
    "        train_accuracy = float(train_acc_metric.result())\n",
    "        train_accuracies.append(train_accuracy)\n",
    "        train_acc_metric.reset_states()\n",
    "\n",
    "        for step, (x_batch_valid, y_batch_valid) in enumerate(val_dataset):\n",
    "            val_logits = model(x_batch_valid, training=False)\n",
    "            valid_acc_metric.update_state(y_batch_valid, val_logits)\n",
    "        valid_accuracy = float(valid_acc_metric.result())\n",
    "        valid_accuracies.append(valid_accuracy)\n",
    "        valid_acc_metric.reset_states()\n",
    "\n",
    "        print(\"Epoch\", epoch+1, \"Training Accuracy: \", train_accuracy, \", Validation Accuracy: \",  valid_accuracy)\n",
    "    return train_accuracies, valid_accuracies"
   ]
  },
  {
   "cell_type": "code",
   "execution_count": 251,
   "metadata": {},
   "outputs": [
    {
     "ename": "InvalidArgumentError",
     "evalue": "{{function_node __wrapped__RandomStandardNormal_device_/job:localhost/replica:0/task:0/device:CPU:0}} shape must be a vector of {int32,int64}, got shape [1,3] [Op:RandomStandardNormal]",
     "output_type": "error",
     "traceback": [
      "\u001b[1;31m---------------------------------------------------------------------------\u001b[0m",
      "\u001b[1;31mInvalidArgumentError\u001b[0m                      Traceback (most recent call last)",
      "Cell \u001b[1;32mIn[251], line 2\u001b[0m\n\u001b[0;32m      1\u001b[0m dp_sgd_jl_model \u001b[39m=\u001b[39m CNN()\n\u001b[1;32m----> 2\u001b[0m train_accuracies_dp, valid_accuracies_dp \u001b[39m=\u001b[39m train_dp_sgd_jl(x_train, y_train, x_valid, y_valid, dp_sgd_jl_model, epochs, batch)\n\u001b[0;32m      3\u001b[0m output \u001b[39m=\u001b[39m dp_sgd_model(tf\u001b[39m.\u001b[39mVariable(x_test))\n\u001b[0;32m      5\u001b[0m acc \u001b[39m=\u001b[39m keras\u001b[39m.\u001b[39mmetrics\u001b[39m.\u001b[39mSparseCategoricalAccuracy()\n",
      "Cell \u001b[1;32mIn[250], line 20\u001b[0m, in \u001b[0;36mtrain_dp_sgd_jl\u001b[1;34m(x_train, y_train, x_valid, y_valid, model, epoch_num, batch_size)\u001b[0m\n\u001b[0;32m     17\u001b[0m V \u001b[39m=\u001b[39m []      \u001b[39m# store gaussian variables\u001b[39;00m\n\u001b[0;32m     19\u001b[0m \u001b[39mfor\u001b[39;00m j \u001b[39min\u001b[39;00m \u001b[39mrange\u001b[39m(\u001b[39m1\u001b[39m, r):\n\u001b[1;32m---> 20\u001b[0m     v \u001b[39m=\u001b[39m tf\u001b[39m.\u001b[39;49mrandom\u001b[39m.\u001b[39;49mnormal([tf\u001b[39m.\u001b[39;49mshape(x_batch_train[\u001b[39m0\u001b[39;49m])])\n\u001b[0;32m     21\u001b[0m     V\u001b[39m.\u001b[39mappend(v)\n\u001b[0;32m     23\u001b[0m \u001b[39mfor\u001b[39;00m i \u001b[39min\u001b[39;00m \u001b[39mrange\u001b[39m(\u001b[39mlen\u001b[39m(x_batch_train)):\n",
      "File \u001b[1;32mc:\\Users\\ria_u\\Anaconda3\\envs\\rob313\\lib\\site-packages\\tensorflow\\python\\util\\traceback_utils.py:153\u001b[0m, in \u001b[0;36mfilter_traceback.<locals>.error_handler\u001b[1;34m(*args, **kwargs)\u001b[0m\n\u001b[0;32m    151\u001b[0m \u001b[39mexcept\u001b[39;00m \u001b[39mException\u001b[39;00m \u001b[39mas\u001b[39;00m e:\n\u001b[0;32m    152\u001b[0m   filtered_tb \u001b[39m=\u001b[39m _process_traceback_frames(e\u001b[39m.\u001b[39m__traceback__)\n\u001b[1;32m--> 153\u001b[0m   \u001b[39mraise\u001b[39;00m e\u001b[39m.\u001b[39mwith_traceback(filtered_tb) \u001b[39mfrom\u001b[39;00m \u001b[39mNone\u001b[39m\n\u001b[0;32m    154\u001b[0m \u001b[39mfinally\u001b[39;00m:\n\u001b[0;32m    155\u001b[0m   \u001b[39mdel\u001b[39;00m filtered_tb\n",
      "File \u001b[1;32mc:\\Users\\ria_u\\Anaconda3\\envs\\rob313\\lib\\site-packages\\tensorflow\\python\\framework\\ops.py:7209\u001b[0m, in \u001b[0;36mraise_from_not_ok_status\u001b[1;34m(e, name)\u001b[0m\n\u001b[0;32m   7207\u001b[0m \u001b[39mdef\u001b[39;00m \u001b[39mraise_from_not_ok_status\u001b[39m(e, name):\n\u001b[0;32m   7208\u001b[0m   e\u001b[39m.\u001b[39mmessage \u001b[39m+\u001b[39m\u001b[39m=\u001b[39m (\u001b[39m\"\u001b[39m\u001b[39m name: \u001b[39m\u001b[39m\"\u001b[39m \u001b[39m+\u001b[39m name \u001b[39mif\u001b[39;00m name \u001b[39mis\u001b[39;00m \u001b[39mnot\u001b[39;00m \u001b[39mNone\u001b[39;00m \u001b[39melse\u001b[39;00m \u001b[39m\"\u001b[39m\u001b[39m\"\u001b[39m)\n\u001b[1;32m-> 7209\u001b[0m   \u001b[39mraise\u001b[39;00m core\u001b[39m.\u001b[39m_status_to_exception(e) \u001b[39mfrom\u001b[39;00m \u001b[39mNone\u001b[39m\n",
      "\u001b[1;31mInvalidArgumentError\u001b[0m: {{function_node __wrapped__RandomStandardNormal_device_/job:localhost/replica:0/task:0/device:CPU:0}} shape must be a vector of {int32,int64}, got shape [1,3] [Op:RandomStandardNormal]"
     ]
    }
   ],
   "source": [
    "dp_sgd_jl_model = CNN()\n",
    "train_accuracies_dp, valid_accuracies_dp = train_dp_sgd_jl(x_train, y_train, x_valid, y_valid, dp_sgd_jl_model, epochs, batch)\n",
    "output = dp_sgd_model(tf.Variable(x_test))\n",
    "\n",
    "acc = keras.metrics.SparseCategoricalAccuracy()\n",
    "acc.update_state(y_test, output)\n",
    "print(float(acc.result()))"
   ]
  },
  {
   "cell_type": "code",
   "execution_count": null,
   "metadata": {},
   "outputs": [],
   "source": [
    "plt.title(\"Training and Validation Accuracies of DP CNN\")\n",
    "plt.plot(train_accuracies_dp, label=\"Train\")\n",
    "plt.plot(valid_accuracies_dp, label=\"Validation\")\n",
    "plt.xlabel(\"Epoch\")\n",
    "plt.ylabel(\"Accuracy (%)\")\n",
    "plt.legend(loc='best')\n",
    "plt.show()"
   ]
  }
 ],
 "metadata": {
  "kernelspec": {
   "display_name": "rob313",
   "language": "python",
   "name": "python3"
  },
  "language_info": {
   "codemirror_mode": {
    "name": "ipython",
    "version": 3
   },
   "file_extension": ".py",
   "mimetype": "text/x-python",
   "name": "python",
   "nbconvert_exporter": "python",
   "pygments_lexer": "ipython3",
   "version": "3.9.16"
  },
  "orig_nbformat": 4,
  "vscode": {
   "interpreter": {
    "hash": "5b199b516bd7cf0fe026abe94e002457e69aea17c612aee09df078f95e526798"
   }
  }
 },
 "nbformat": 4,
 "nbformat_minor": 2
}
