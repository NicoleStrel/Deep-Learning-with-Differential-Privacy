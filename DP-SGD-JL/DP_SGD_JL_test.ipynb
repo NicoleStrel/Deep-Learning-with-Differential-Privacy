{
 "cells": [
  {
   "attachments": {},
   "cell_type": "markdown",
   "metadata": {},
   "source": [
    "## Imports"
   ]
  },
  {
   "cell_type": "code",
   "execution_count": 1,
   "metadata": {},
   "outputs": [],
   "source": [
    "import tensorflow as tf\n",
    "from tensorflow import keras\n",
    "from keras import layers\n",
    "from sklearn.utils import shuffle\n",
    "from sklearn.model_selection import train_test_split\n",
    "import matplotlib.pyplot as plt\n",
    "import numpy as np\n",
    "import time\n",
    "\n",
    "tf.random.set_seed(5)"
   ]
  },
  {
   "attachments": {},
   "cell_type": "markdown",
   "metadata": {},
   "source": [
    "## Data Loading"
   ]
  },
  {
   "cell_type": "code",
   "execution_count": 2,
   "metadata": {},
   "outputs": [],
   "source": [
    "# Load data\n",
    "from sklearn.datasets import load_digits\n",
    "data = load_digits()\n",
    "\n",
    "x = data.images\n",
    "y = data.target\n",
    "\n",
    "# Shuffle data\n",
    "x, y = shuffle(x, y, random_state=0)\n",
    "\n",
    "# Normalize data\n",
    "x = x.reshape(-1, 8, 8, 1).astype(\"float32\") / 16.0\n",
    "\n",
    "# Split data 80/10/10\n",
    "x_train, x_remaining, y_train, y_remaining = train_test_split(x, y, train_size=0.8)\n",
    "x_valid, x_test, y_valid, y_test = train_test_split(x_remaining, y_remaining, test_size=0.5) # split remaining 20% into 10% and 10%"
   ]
  },
  {
   "cell_type": "code",
   "execution_count": 3,
   "metadata": {},
   "outputs": [],
   "source": [
    "# convert to tensorflow tensors\n",
    "x_train = tf.convert_to_tensor(np.array(x_train, dtype=np.float32), dtype=tf.float32)\n",
    "y_train = tf.convert_to_tensor(np.array(y_train, dtype=np.float32), dtype=tf.float32)\n",
    "x_test = tf.convert_to_tensor(np.array(x_test, dtype=np.float32), dtype=tf.float32)\n",
    "y_test = tf.convert_to_tensor(np.array(y_test, dtype=np.float32), dtype=tf.float32)\n",
    "x_valid = tf.convert_to_tensor(np.array(x_valid, dtype=np.float32), dtype=tf.float32)\n",
    "y_valid = tf.convert_to_tensor(np.array(y_valid, dtype=np.float32), dtype=tf.float32)"
   ]
  },
  {
   "attachments": {},
   "cell_type": "markdown",
   "metadata": {},
   "source": [
    "## Defining CNN"
   ]
  },
  {
   "cell_type": "code",
   "execution_count": 4,
   "metadata": {},
   "outputs": [],
   "source": [
    "class CNN(tf.keras.Model):\n",
    "    def __init__(self):\n",
    "        super().__init__()\n",
    "        self.conv1 = layers.Conv2D(filters = 16, kernel_size = 3, activation = 'relu', dtype='float32', padding = 'same', input_shape = (8,8,1))\n",
    "        self.pool = layers.MaxPool2D(pool_size = 2)\n",
    "        self.conv2 = layers.Conv2D(filters = 32, kernel_size = 3, activation = 'relu', padding = 'same')\n",
    "        self.fc1 = layers.Dense(units = 32, activation = 'relu')\n",
    "        self.fc2 = layers.Dense(units = 10, activation = 'softmax')\n",
    "        self.flat = layers.Flatten()\n",
    "            \n",
    "    def call(self, inputs):\n",
    "        x = self.conv1(inputs)\n",
    "        x = self.pool(x)\n",
    "        x = self.conv2(x)\n",
    "        x = self.pool(x)\n",
    "        x = self.flat(x)\n",
    "        x = self.fc1(x)\n",
    "        x = self.fc2(x)\n",
    "        return x"
   ]
  },
  {
   "attachments": {},
   "cell_type": "markdown",
   "metadata": {},
   "source": [
    "## Regular SGD"
   ]
  },
  {
   "cell_type": "code",
   "execution_count": 5,
   "metadata": {},
   "outputs": [],
   "source": [
    "# hyperparameters\n",
    "epochs = 30\n",
    "batch = int(np.sqrt(len(x_train)))\n",
    "lr = 0.1\n",
    "\n",
    "# functions\n",
    "loss_fcn = tf.keras.losses.SparseCategoricalCrossentropy()\n",
    "optimizer = tf.keras.optimizers.experimental.SGD(learning_rate=lr)\n",
    "train_acc_metric = keras.metrics.SparseCategoricalAccuracy()\n",
    "valid_acc_metric = keras.metrics.SparseCategoricalAccuracy()"
   ]
  },
  {
   "cell_type": "code",
   "execution_count": 6,
   "metadata": {},
   "outputs": [],
   "source": [
    "def train_sgd(x_train, y_train, x_valid, y_valid, model, epoch_num, batch_size):\n",
    "    train_accuracies = []\n",
    "    valid_accuracies = []\n",
    "\n",
    "    train_dataset = tf.data.Dataset.from_tensor_slices((x_train, y_train))\n",
    "    train_dataset = train_dataset.batch(batch_size)\n",
    "\n",
    "    val_dataset = tf.data.Dataset.from_tensor_slices((x_valid, y_valid))\n",
    "    val_dataset = val_dataset.batch(batch_size)\n",
    "\n",
    "    for epoch in range(epoch_num):\n",
    "        for step, (x_batch_train, y_batch_train) in enumerate(train_dataset):\n",
    "            with tf.GradientTape() as tape:\n",
    "                logits = model(x_batch_train, training=True)\n",
    "                loss_value = loss_fcn(y_batch_train, logits)\n",
    "            grads = tape.gradient(loss_value, model.trainable_weights)\n",
    "            optimizer.apply_gradients(zip(grads, model.trainable_weights))\n",
    "            train_acc_metric.update_state(y_batch_train, logits)\n",
    "        train_accuracy = float(train_acc_metric.result())\n",
    "        train_accuracies.append(train_accuracy)\n",
    "        train_acc_metric.reset_states()\n",
    "\n",
    "        for step, (x_batch_valid, y_batch_valid) in enumerate(val_dataset):\n",
    "            val_logits = model(x_batch_valid, training=False)\n",
    "            valid_acc_metric.update_state(y_batch_valid, val_logits)\n",
    "        valid_accuracy = float(valid_acc_metric.result())\n",
    "        valid_accuracies.append(valid_accuracy)\n",
    "        valid_acc_metric.reset_states()\n",
    "\n",
    "        print(\"Epoch\", epoch+1, \"Training Accuracy: \", train_accuracy, \", Validation Accuracy: \",  valid_accuracy)\n",
    "    return train_accuracies, valid_accuracies\n"
   ]
  },
  {
   "cell_type": "code",
   "execution_count": 7,
   "metadata": {},
   "outputs": [
    {
     "name": "stdout",
     "output_type": "stream",
     "text": [
      "Epoch 1 Training Accuracy:  0.18928322196006775 , Validation Accuracy:  0.4555555582046509\n",
      "Epoch 2 Training Accuracy:  0.4077940285205841 , Validation Accuracy:  0.6222222447395325\n",
      "Epoch 3 Training Accuracy:  0.6082115769386292 , Validation Accuracy:  0.8500000238418579\n",
      "Epoch 4 Training Accuracy:  0.81210857629776 , Validation Accuracy:  0.8888888955116272\n",
      "Epoch 5 Training Accuracy:  0.8775225877761841 , Validation Accuracy:  0.8888888955116272\n",
      "Epoch 6 Training Accuracy:  0.9192762970924377 , Validation Accuracy:  0.9222221970558167\n",
      "Epoch 7 Training Accuracy:  0.9338900446891785 , Validation Accuracy:  0.9444444179534912\n",
      "Epoch 8 Training Accuracy:  0.9491997361183167 , Validation Accuracy:  0.9444444179534912\n",
      "Epoch 9 Training Accuracy:  0.9589422345161438 , Validation Accuracy:  0.9555555582046509\n",
      "Epoch 10 Training Accuracy:  0.9645093679428101 , Validation Accuracy:  0.9666666388511658\n",
      "Epoch 11 Training Accuracy:  0.9735560417175293 , Validation Accuracy:  0.9777777791023254\n",
      "Epoch 12 Training Accuracy:  0.9791231751441956 , Validation Accuracy:  0.9777777791023254\n",
      "Epoch 13 Training Accuracy:  0.9826026558876038 , Validation Accuracy:  0.9777777791023254\n",
      "Epoch 14 Training Accuracy:  0.9826026558876038 , Validation Accuracy:  0.9777777791023254\n",
      "Epoch 15 Training Accuracy:  0.9867780208587646 , Validation Accuracy:  0.9833333492279053\n",
      "Epoch 16 Training Accuracy:  0.986082136631012 , Validation Accuracy:  0.9833333492279053\n",
      "Epoch 17 Training Accuracy:  0.9874739050865173 , Validation Accuracy:  0.9833333492279053\n",
      "Epoch 18 Training Accuracy:  0.98816978931427 , Validation Accuracy:  0.9833333492279053\n",
      "Epoch 19 Training Accuracy:  0.9909533858299255 , Validation Accuracy:  0.9833333492279053\n",
      "Epoch 20 Training Accuracy:  0.9916492700576782 , Validation Accuracy:  0.9888888597488403\n",
      "Epoch 21 Training Accuracy:  0.9937369227409363 , Validation Accuracy:  0.9888888597488403\n",
      "Epoch 22 Training Accuracy:  0.9944328665733337 , Validation Accuracy:  0.9888888597488403\n",
      "Epoch 23 Training Accuracy:  0.9944328665733337 , Validation Accuracy:  0.9888888597488403\n",
      "Epoch 24 Training Accuracy:  0.9958246350288391 , Validation Accuracy:  0.9888888597488403\n",
      "Epoch 25 Training Accuracy:  0.9965205192565918 , Validation Accuracy:  0.9888888597488403\n",
      "Epoch 26 Training Accuracy:  0.9972164034843445 , Validation Accuracy:  0.9888888597488403\n",
      "Epoch 27 Training Accuracy:  0.9979122877120972 , Validation Accuracy:  0.9888888597488403\n",
      "Epoch 28 Training Accuracy:  0.9979122877120972 , Validation Accuracy:  0.9888888597488403\n",
      "Epoch 29 Training Accuracy:  0.9979122877120972 , Validation Accuracy:  0.9888888597488403\n",
      "Epoch 30 Training Accuracy:  0.9979122877120972 , Validation Accuracy:  0.9888888597488403\n",
      "0.9833333492279053\n"
     ]
    }
   ],
   "source": [
    "sgd_model = CNN()\n",
    "train_accuracies_regular, valid_accuracies_regular = train_sgd(x_train, y_train, x_valid, y_valid, sgd_model, epochs, batch)\n",
    "output = sgd_model(tf.Variable(x_test))\n",
    "\n",
    "acc = keras.metrics.SparseCategoricalAccuracy()\n",
    "acc.update_state(y_test, output)\n",
    "print(float(acc.result()))\n",
    "\n",
    "# ind_max_amp=np.argmax(output.numpy(), axis=1, out=None)\n",
    "# print(np.mean(y_test == ind_max_amp))"
   ]
  },
  {
   "cell_type": "code",
   "execution_count": 8,
   "metadata": {},
   "outputs": [
    {
     "data": {
      "image/png": "[encoded data removed]",
      "text/plain": [
       "<Figure size 640x480 with 1 Axes>"
      ]
     },
     "metadata": {},
     "output_type": "display_data"
    }
   ],
   "source": [
    "plt.title(\"Training and Validation Accuracies of Regular CNN\")\n",
    "plt.plot(train_accuracies_regular, label=\"Train\")\n",
    "plt.plot(valid_accuracies_regular, label=\"Validation\")\n",
    "plt.xlabel(\"Epoch\")\n",
    "plt.ylabel(\"Accuracy (%)\")\n",
    "plt.legend(loc='best')\n",
    "plt.show()"
   ]
  },
  {
   "attachments": {},
   "cell_type": "markdown",
   "metadata": {},
   "source": [
    "## DP-SGD-JL"
   ]
  },
  {
   "cell_type": "code",
   "execution_count": 9,
   "metadata": {},
   "outputs": [],
   "source": [
    "# hyperparameters\n",
    "epochs = 100\n",
    "batch = 100\n",
    "lr = 0.1\n",
    "sigma = 4\n",
    "C = 30. \n",
    "r = 10 # number of JL projections\n",
    "\n",
    "# functions\n",
    "loss_fcn = tf.keras.losses.SparseCategoricalCrossentropy(reduction=tf.keras.losses.Reduction.NONE)\n",
    "optimizer = tf.keras.optimizers.experimental.SGD(learning_rate=lr)\n",
    "train_acc_metric = keras.metrics.SparseCategoricalAccuracy()\n",
    "valid_acc_metric = keras.metrics.SparseCategoricalAccuracy()"
   ]
  },
  {
   "cell_type": "code",
   "execution_count": 10,
   "metadata": {},
   "outputs": [],
   "source": [
    "def RMS(A):\n",
    "    return tf.math.sqrt(tf.math.reduce_mean(tf.math.square(A)))"
   ]
  },
  {
   "cell_type": "code",
   "execution_count": 11,
   "metadata": {},
   "outputs": [],
   "source": [
    "def train_dp_sgd_jl(x_train, y_train, x_valid, y_valid, model, epoch_num, batch_size):\n",
    "    train_accuracies = []\n",
    "    valid_accuracies = []\n",
    "\n",
    "    train_dataset = tf.data.Dataset.from_tensor_slices((x_train, y_train))\n",
    "    train_dataset = train_dataset.batch(batch_size)\n",
    "\n",
    "    val_dataset = tf.data.Dataset.from_tensor_slices((x_valid, y_valid))\n",
    "    val_dataset = val_dataset.batch(batch_size)\n",
    "\n",
    "    # Need to use a test variable to initialize the trainable weights of the model\n",
    "    test = tf.ones((1, 8, 8, 1))\n",
    "    output = model(test)\n",
    "    #print(len(model.trainable_weights))\n",
    "\n",
    "    for epoch in range(epoch_num):\n",
    "        for step, (x_batch_train, y_batch_train) in enumerate(train_dataset):\n",
    "            a = time.time()\n",
    "            P = []  # store Pij\n",
    "            M = []  # store per sample gradient norm estimates\n",
    "\n",
    "            for j in range(r):\n",
    "                #start = time.time()\n",
    "                vj = [tf.random.normal(w.shape) for w in model.trainable_weights]\n",
    "                with tf.autodiff.ForwardAccumulator(model.trainable_weights, vj) as acc:\n",
    "                    logits = model(x_batch_train, training=True)\n",
    "                    F = loss_fcn(y_batch_train, logits)\n",
    "                jvp = acc.jvp(F)\n",
    "                P.append(jvp)\n",
    "                #print('Time to complete jvp for v_j:', time.time()-start)\n",
    "\n",
    "            P = tf.stack(P)\n",
    "\n",
    "            for i in range(len(x_batch_train)):\n",
    "                M.append(RMS(tf.gather(P, i, axis=1)))\n",
    "\n",
    "            M = tf.convert_to_tensor(M, dtype=tf.float32)   # {M_i}\n",
    "            clipped_M = tf.clip_by_value(M, clip_value_min=-np.inf, clip_value_max=C)   # min{M_i, C}\n",
    "            scale = tf.math.divide_no_nan(clipped_M, M)     # min{1, C/M_i}\n",
    "\n",
    "            with tf.GradientTape(persistent=True) as tape:\n",
    "                logits = model(x_batch_train, training=True)\n",
    "                F = loss_fcn(y_batch_train, logits)\n",
    "                average_loss = tf.tensordot(scale, F, 1)/len(scale)\n",
    "\n",
    "            g = tape.gradient(average_loss, model.trainable_weights)\n",
    "            coeff = sigma*C/len(x_batch_train)\n",
    "            noise = [coeff*tf.random.normal(w.shape) for w in model.trainable_weights]\n",
    "            g = g + noise\n",
    "            optimizer.apply_gradients(zip(g, model.trainable_weights))\n",
    "            train_acc_metric.update_state(y_batch_train, logits)\n",
    "\n",
    "            #print('Time to complete batch:', time.time()-a)\n",
    "\n",
    "        #print('calculated loss values')\n",
    "\n",
    "        train_accuracy = float(train_acc_metric.result())\n",
    "        train_accuracies.append(train_accuracy)\n",
    "        train_acc_metric.reset_states()\n",
    "\n",
    "        for step, (x_batch_valid, y_batch_valid) in enumerate(val_dataset):\n",
    "            val_logits = model(x_batch_valid, training=False)\n",
    "            valid_acc_metric.update_state(y_batch_valid, val_logits)\n",
    "        valid_accuracy = float(valid_acc_metric.result())\n",
    "        valid_accuracies.append(valid_accuracy)\n",
    "        valid_acc_metric.reset_states()\n",
    "\n",
    "        print(\"Epoch\", epoch+1, \", Training Accuracy: \", train_accuracy, \"Validation Accuracy: \",  valid_accuracy) # \"Training Accuracy: \", train_accuracy, \n",
    "    return train_accuracies, valid_accuracies #train_accuracies, "
   ]
  },
  {
   "cell_type": "code",
   "execution_count": 12,
   "metadata": {},
   "outputs": [
    {
     "name": "stdout",
     "output_type": "stream",
     "text": [
      "Epoch 1 , Training Accuracy:  0.20389701426029205 Validation Accuracy:  0.25\n",
      "Epoch 2 , Training Accuracy:  0.3103688359260559 Validation Accuracy:  0.39444443583488464\n",
      "Epoch 3 , Training Accuracy:  0.40292274951934814 Validation Accuracy:  0.5111111402511597\n",
      "Epoch 4 , Training Accuracy:  0.5100904703140259 Validation Accuracy:  0.25555557012557983\n",
      "Epoch 5 , Training Accuracy:  0.48921364545822144 Validation Accuracy:  0.5888888835906982\n",
      "Epoch 6 , Training Accuracy:  0.6645789742469788 Validation Accuracy:  0.7055555582046509\n",
      "Epoch 7 , Training Accuracy:  0.7209464311599731 Validation Accuracy:  0.7611111402511597\n",
      "Epoch 8 , Training Accuracy:  0.8357689380645752 Validation Accuracy:  0.7666666507720947\n",
      "Epoch 9 , Training Accuracy:  0.8475991487503052 Validation Accuracy:  0.7944444417953491\n",
      "Epoch 10 , Training Accuracy:  0.8886569142341614 Validation Accuracy:  0.7944444417953491\n",
      "Epoch 11 , Training Accuracy:  0.9046624898910522 Validation Accuracy:  0.8500000238418579\n",
      "Epoch 12 , Training Accuracy:  0.9144049882888794 Validation Accuracy:  0.8833333253860474\n",
      "Epoch 13 , Training Accuracy:  0.9283229112625122 Validation Accuracy:  0.9277777671813965\n",
      "Epoch 14 , Training Accuracy:  0.9394571781158447 Validation Accuracy:  0.949999988079071\n",
      "Epoch 15 , Training Accuracy:  0.9450243711471558 Validation Accuracy:  0.9555555582046509\n",
      "Epoch 16 , Training Accuracy:  0.950591504573822 Validation Accuracy:  0.949999988079071\n",
      "Epoch 17 , Training Accuracy:  0.9554627537727356 Validation Accuracy:  0.9555555582046509\n",
      "Epoch 18 , Training Accuracy:  0.9596381187438965 Validation Accuracy:  0.949999988079071\n",
      "Epoch 19 , Training Accuracy:  0.9610299468040466 Validation Accuracy:  0.949999988079071\n",
      "Epoch 20 , Training Accuracy:  0.968684732913971 Validation Accuracy:  0.9666666388511658\n",
      "Epoch 21 , Training Accuracy:  0.9700765609741211 Validation Accuracy:  0.9555555582046509\n",
      "Epoch 22 , Training Accuracy:  0.9714683294296265 Validation Accuracy:  0.9666666388511658\n",
      "Epoch 23 , Training Accuracy:  0.9756436944007874 Validation Accuracy:  0.9666666388511658\n",
      "Epoch 24 , Training Accuracy:  0.9749478101730347 Validation Accuracy:  0.9666666388511658\n",
      "Epoch 25 , Training Accuracy:  0.97633957862854 Validation Accuracy:  0.9666666388511658\n",
      "Epoch 26 , Training Accuracy:  0.9777314066886902 Validation Accuracy:  0.9666666388511658\n",
      "Epoch 27 , Training Accuracy:  0.9798190593719482 Validation Accuracy:  0.9666666388511658\n",
      "Epoch 28 , Training Accuracy:  0.9826026558876038 Validation Accuracy:  0.9722222089767456\n",
      "Epoch 29 , Training Accuracy:  0.9805149435997009 Validation Accuracy:  0.9722222089767456\n",
      "Epoch 30 , Training Accuracy:  0.9853861927986145 Validation Accuracy:  0.9722222089767456\n",
      "Epoch 31 , Training Accuracy:  0.9846903085708618 Validation Accuracy:  0.9722222089767456\n",
      "Epoch 32 , Training Accuracy:  0.9853861927986145 Validation Accuracy:  0.9722222089767456\n",
      "Epoch 33 , Training Accuracy:  0.9867780208587646 Validation Accuracy:  0.9722222089767456\n",
      "Epoch 34 , Training Accuracy:  0.98816978931427 Validation Accuracy:  0.9722222089767456\n",
      "Epoch 35 , Training Accuracy:  0.9888656735420227 Validation Accuracy:  0.9722222089767456\n",
      "Epoch 36 , Training Accuracy:  0.98816978931427 Validation Accuracy:  0.9722222089767456\n",
      "Epoch 37 , Training Accuracy:  0.98816978931427 Validation Accuracy:  0.9777777791023254\n",
      "Epoch 38 , Training Accuracy:  0.9916492700576782 Validation Accuracy:  0.9777777791023254\n",
      "Epoch 39 , Training Accuracy:  0.9916492700576782 Validation Accuracy:  0.9777777791023254\n",
      "Epoch 40 , Training Accuracy:  0.9916492700576782 Validation Accuracy:  0.9777777791023254\n",
      "Epoch 41 , Training Accuracy:  0.9923451542854309 Validation Accuracy:  0.9833333492279053\n",
      "Epoch 42 , Training Accuracy:  0.9951287508010864 Validation Accuracy:  0.9833333492279053\n",
      "Epoch 43 , Training Accuracy:  0.9937369227409363 Validation Accuracy:  0.9833333492279053\n",
      "Epoch 44 , Training Accuracy:  0.9944328665733337 Validation Accuracy:  0.9777777791023254\n",
      "Epoch 45 , Training Accuracy:  0.9951287508010864 Validation Accuracy:  0.9777777791023254\n",
      "Epoch 46 , Training Accuracy:  0.9944328665733337 Validation Accuracy:  0.9777777791023254\n",
      "Epoch 47 , Training Accuracy:  0.9951287508010864 Validation Accuracy:  0.9777777791023254\n",
      "Epoch 48 , Training Accuracy:  0.9951287508010864 Validation Accuracy:  0.9777777791023254\n",
      "Epoch 49 , Training Accuracy:  0.9951287508010864 Validation Accuracy:  0.9777777791023254\n",
      "Epoch 50 , Training Accuracy:  0.9958246350288391 Validation Accuracy:  0.9777777791023254\n",
      "Epoch 51 , Training Accuracy:  0.9958246350288391 Validation Accuracy:  0.9777777791023254\n",
      "Epoch 52 , Training Accuracy:  0.9958246350288391 Validation Accuracy:  0.9777777791023254\n",
      "Epoch 53 , Training Accuracy:  0.9958246350288391 Validation Accuracy:  0.9777777791023254\n",
      "Epoch 54 , Training Accuracy:  0.9958246350288391 Validation Accuracy:  0.9833333492279053\n",
      "Epoch 55 , Training Accuracy:  0.9951287508010864 Validation Accuracy:  0.9777777791023254\n",
      "Epoch 56 , Training Accuracy:  0.9958246350288391 Validation Accuracy:  0.9833333492279053\n",
      "Epoch 57 , Training Accuracy:  0.9958246350288391 Validation Accuracy:  0.9833333492279053\n",
      "Epoch 58 , Training Accuracy:  0.9958246350288391 Validation Accuracy:  0.9833333492279053\n",
      "Epoch 59 , Training Accuracy:  0.9972164034843445 Validation Accuracy:  0.9777777791023254\n",
      "Epoch 60 , Training Accuracy:  0.9965205192565918 Validation Accuracy:  0.9777777791023254\n",
      "Epoch 61 , Training Accuracy:  0.9972164034843445 Validation Accuracy:  0.9833333492279053\n",
      "Epoch 62 , Training Accuracy:  0.9972164034843445 Validation Accuracy:  0.9833333492279053\n",
      "Epoch 63 , Training Accuracy:  0.9972164034843445 Validation Accuracy:  0.9833333492279053\n",
      "Epoch 64 , Training Accuracy:  0.9972164034843445 Validation Accuracy:  0.9833333492279053\n",
      "Epoch 65 , Training Accuracy:  0.9979122877120972 Validation Accuracy:  0.9833333492279053\n",
      "Epoch 66 , Training Accuracy:  0.9972164034843445 Validation Accuracy:  0.9833333492279053\n",
      "Epoch 67 , Training Accuracy:  0.9979122877120972 Validation Accuracy:  0.9833333492279053\n",
      "Epoch 68 , Training Accuracy:  0.9972164034843445 Validation Accuracy:  0.9833333492279053\n",
      "Epoch 69 , Training Accuracy:  0.9972164034843445 Validation Accuracy:  0.9833333492279053\n",
      "Epoch 70 , Training Accuracy:  0.9979122877120972 Validation Accuracy:  0.9833333492279053\n",
      "Epoch 71 , Training Accuracy:  0.9979122877120972 Validation Accuracy:  0.9833333492279053\n",
      "Epoch 72 , Training Accuracy:  0.9972164034843445 Validation Accuracy:  0.9833333492279053\n",
      "Epoch 73 , Training Accuracy:  0.9979122877120972 Validation Accuracy:  0.9833333492279053\n",
      "Epoch 74 , Training Accuracy:  0.9972164034843445 Validation Accuracy:  0.9833333492279053\n",
      "Epoch 75 , Training Accuracy:  0.9986082315444946 Validation Accuracy:  0.9833333492279053\n",
      "Epoch 76 , Training Accuracy:  0.9986082315444946 Validation Accuracy:  0.9833333492279053\n",
      "Epoch 77 , Training Accuracy:  0.9986082315444946 Validation Accuracy:  0.9833333492279053\n",
      "Epoch 78 , Training Accuracy:  0.9986082315444946 Validation Accuracy:  0.9833333492279053\n",
      "Epoch 79 , Training Accuracy:  0.9986082315444946 Validation Accuracy:  0.9833333492279053\n",
      "Epoch 80 , Training Accuracy:  0.9986082315444946 Validation Accuracy:  0.9833333492279053\n",
      "Epoch 81 , Training Accuracy:  0.9986082315444946 Validation Accuracy:  0.9833333492279053\n",
      "Epoch 82 , Training Accuracy:  0.9986082315444946 Validation Accuracy:  0.9833333492279053\n",
      "Epoch 83 , Training Accuracy:  0.9986082315444946 Validation Accuracy:  0.9833333492279053\n",
      "Epoch 84 , Training Accuracy:  0.9986082315444946 Validation Accuracy:  0.9833333492279053\n",
      "Epoch 85 , Training Accuracy:  0.9986082315444946 Validation Accuracy:  0.9833333492279053\n",
      "Epoch 86 , Training Accuracy:  0.9986082315444946 Validation Accuracy:  0.9833333492279053\n",
      "Epoch 87 , Training Accuracy:  0.9986082315444946 Validation Accuracy:  0.9833333492279053\n",
      "Epoch 88 , Training Accuracy:  0.9986082315444946 Validation Accuracy:  0.9833333492279053\n",
      "Epoch 89 , Training Accuracy:  0.9986082315444946 Validation Accuracy:  0.9833333492279053\n",
      "Epoch 90 , Training Accuracy:  0.9986082315444946 Validation Accuracy:  0.9833333492279053\n",
      "Epoch 91 , Training Accuracy:  0.9986082315444946 Validation Accuracy:  0.9833333492279053\n",
      "Epoch 92 , Training Accuracy:  0.9986082315444946 Validation Accuracy:  0.9833333492279053\n",
      "Epoch 93 , Training Accuracy:  0.9986082315444946 Validation Accuracy:  0.9833333492279053\n",
      "Epoch 94 , Training Accuracy:  0.9986082315444946 Validation Accuracy:  0.9833333492279053\n",
      "Epoch 95 , Training Accuracy:  0.9986082315444946 Validation Accuracy:  0.9833333492279053\n",
      "Epoch 96 , Training Accuracy:  0.9986082315444946 Validation Accuracy:  0.9833333492279053\n",
      "Epoch 97 , Training Accuracy:  0.9986082315444946 Validation Accuracy:  0.9833333492279053\n",
      "Epoch 98 , Training Accuracy:  0.9986082315444946 Validation Accuracy:  0.9833333492279053\n",
      "Epoch 99 , Training Accuracy:  0.9986082315444946 Validation Accuracy:  0.9833333492279053\n",
      "Epoch 100 , Training Accuracy:  0.9993041157722473 Validation Accuracy:  0.9833333492279053\n",
      "0.9888888597488403\n"
     ]
    }
   ],
   "source": [
    "dp_sgd_jl_model = CNN()\n",
    "dp_sgd_jl_model.build(input_shape=(None, 8, 8, 1))\n",
    "\n",
    "train_accuracies_dp, valid_accuracies_dp = train_dp_sgd_jl(x_train, y_train, x_valid, y_valid, dp_sgd_jl_model, epochs, batch)\n",
    "output = dp_sgd_jl_model(tf.Variable(x_test))\n",
    "\n",
    "acc = keras.metrics.SparseCategoricalAccuracy()\n",
    "acc.update_state(y_test, output)\n",
    "print(float(acc.result()))"
   ]
  },
  {
   "cell_type": "code",
   "execution_count": 13,
   "metadata": {},
   "outputs": [
    {
     "data": {
      "image/png": "[encoded data removed]",
      "text/plain": [
       "<Figure size 640x480 with 1 Axes>"
      ]
     },
     "metadata": {},
     "output_type": "display_data"
    }
   ],
   "source": [
    "plt.title(\"Training and Validation Accuracies for DP-SGD-JL\")\n",
    "plt.plot(train_accuracies_dp, label=\"Train\")\n",
    "plt.plot(valid_accuracies_dp, label=\"Validation\")\n",
    "plt.xlabel(\"Epoch\")\n",
    "plt.ylabel(\"Accuracy (%)\")\n",
    "plt.legend(loc='best')\n",
    "plt.show()"
   ]
  }
 ],
 "metadata": {
  "kernelspec": {
   "display_name": "rob313",
   "language": "python",
   "name": "python3"
  },
  "language_info": {
   "codemirror_mode": {
    "name": "ipython",
    "version": 3
   },
   "file_extension": ".py",
   "mimetype": "text/x-python",
   "name": "python",
   "nbconvert_exporter": "python",
   "pygments_lexer": "ipython3",
   "version": "3.9.16"
  },
  "orig_nbformat": 4,
  "vscode": {
   "interpreter": {
    "hash": "5b199b516bd7cf0fe026abe94e002457e69aea17c612aee09df078f95e526798"
   }
  }
 },
 "nbformat": 4,
 "nbformat_minor": 2
}
