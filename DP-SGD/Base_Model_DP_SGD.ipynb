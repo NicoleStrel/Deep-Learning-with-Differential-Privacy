{
  "cells": [
    {
      "cell_type": "markdown",
      "metadata": {
        "id": "4JSrfSYJo7JF"
      },
      "source": [
        "<img src=\"https://ethical-principles-in-ai.github.io/static/media/epai_logo.e502dc0cef3c434c1abf.png\" width=\"100\">"
      ]
    },
    {
      "cell_type": "markdown",
      "metadata": {
        "id": "rTtGPThhlUvB"
      },
      "source": [
        "# Deep Learning with Differential Privacy: Base Model\n",
        "\n",
        "This model provides a baseline for comparison between various differential privacy techniques. It uses the DP-SGD techqniue, as described in [Abadi et al.](https://arxiv.org/abs/1607.00133). Guassian noise is applied within SGD to ensure the model cannot be reverse engineered using inputs/outputs, which makes the model differientially private.\n",
        "\n",
        "*Written by Nicole Streltsov February - March 2023*"
      ]
    },
    {
      "cell_type": "code",
      "execution_count": 2,
      "metadata": {
        "colab": {
          "base_uri": "https://localhost:8080/"
        },
        "id": "KWobhPsyVHbB",
        "outputId": "6fd8b20a-453b-4246-8bc1-8b6a6e50355e"
      },
      "outputs": [
        {
          "output_type": "stream",
          "name": "stdout",
          "text": [
            "3.9.16\n"
          ]
        }
      ],
      "source": [
        "#check that we are on the correct python kernel \n",
        "from platform import python_version\n",
        "print(python_version())"
      ]
    },
    {
      "cell_type": "code",
      "execution_count": 39,
      "metadata": {
        "id": "00pnurrnlT-K"
      },
      "outputs": [],
      "source": [
        "# imports\n",
        "!pip --quiet install  objax # only for google colab\n",
        "!pip --quiet install memory_profiler # only for google colab\n",
        "import jax\n",
        "import jax.numpy as jn\n",
        "import objax # to define a custom model with more control\n",
        "import tensorflow as tf \n",
        "from sklearn.utils import shuffle\n",
        "from sklearn.model_selection import train_test_split\n",
        "import matplotlib.pyplot as plt\n",
        "import numpy as np\n",
        "import pickle\n",
        "import os\n",
        "import gzip\n",
        "import time\n",
        "from memory_profiler import memory_usage\n",
        "# Disable absl INFO and WARNING log messages\n",
        "from absl import logging as absl_logging\n",
        "absl_logging.set_verbosity(absl_logging.ERROR)"
      ]
    },
    {
      "cell_type": "markdown",
      "metadata": {
        "id": "VCsxyXdkQ_uU"
      },
      "source": [
        "## Data Load and Model Creation"
      ]
    },
    {
      "cell_type": "code",
      "execution_count": 56,
      "metadata": {
        "id": "2ceqZpR2VHbE"
      },
      "outputs": [],
      "source": [
        "def convert_x(x):\n",
        "  '''helper function to convert numpy array to proper format'''\n",
        "  return x.transpose(0, 3, 1, 2) / 255.0 # normalize, and ensure correct indicies for model\n",
        "\n",
        "def load_from_pickle_files(prefix, path=''):\n",
        "  '''helper function to load pickle files and return the numpy arrays we need'''\n",
        "  with gzip.open(os.path.join(path, prefix + '_x_train.gz'), 'rb') as i:\n",
        "      x_train = pickle.load(i)\n",
        "  with gzip.open(os.path.join(path, prefix + '_x_val.gz'), 'rb') as i:\n",
        "      x_valid = pickle.load(i)    \n",
        "  with gzip.open(os.path.join(path, prefix + '_x_test.gz'), 'rb') as i:\n",
        "      x_test = pickle.load(i)  \n",
        "  with gzip.open(os.path.join(path, prefix + '_y_train.gz'), 'rb') as i:\n",
        "      y_train = pickle.load(i)  \n",
        "  with gzip.open(os.path.join(path, prefix + '_y_val.gz'), 'rb') as i:\n",
        "      y_valid = pickle.load(i) \n",
        "  with gzip.open(os.path.join(path, prefix + '_y_test.gz'), 'rb') as i:\n",
        "      y_test = pickle.load(i) \n",
        "    \n",
        "  x_train = convert_x(x_train)\n",
        "  y_train = y_train.flatten()\n",
        "\n",
        "  x_valid = convert_x(x_valid)\n",
        "  y_valid = y_valid.flatten()\n",
        "\n",
        "  x_test = convert_x(x_test)\n",
        "  y_test = y_test.flatten()\n",
        "\n",
        "  print(\"numpy array shapes --> \", x_train.shape, x_valid.shape, x_test.shape, y_train.shape, y_valid.shape, y_test.shape)\n",
        "\n",
        "  return x_train, x_valid, x_test, y_train, y_valid, y_test         "
      ]
    },
    {
      "cell_type": "code",
      "source": [
        "# load datasets\n",
        "\n",
        "#variables that determine if the dataset should be run\n",
        "chest_data = True\n",
        "knee_data  = True\n",
        "\n",
        "if chest_data:\n",
        "  print(\"loading chest data ...\")\n",
        "  x_train_c, x_valid_c, x_test_c, y_train_c, y_valid_c, y_test_c = load_from_pickle_files('chest')\n",
        "if knee_data:\n",
        "  print(\"loading knee data ...\")\n",
        "  x_train_k, x_valid_k, x_test_k, y_train_k, y_valid_k, y_test_k = load_from_pickle_files('knee')"
      ],
      "metadata": {
        "colab": {
          "base_uri": "https://localhost:8080/"
        },
        "id": "i3AcTWwlt7BM",
        "outputId": "76ffa395-ef5a-42c6-d2f7-e34159637213"
      },
      "execution_count": 80,
      "outputs": [
        {
          "output_type": "stream",
          "name": "stdout",
          "text": [
            "loading chest data ...\n",
            "numpy array shapes -->  (6808, 3, 64, 64) (586, 3, 64, 64) (585, 3, 64, 64) (6808,) (586,) (585,)\n",
            "loading knee data ...\n",
            "numpy array shapes -->  (15415, 3, 64, 64) (979, 3, 64, 64) (978, 3, 64, 64) (15415,) (979,) (978,)\n"
          ]
        }
      ]
    },
    {
      "cell_type": "code",
      "execution_count": 81,
      "metadata": {
        "id": "pEgrzvAIn1AH"
      },
      "outputs": [],
      "source": [
        "# define cnn\n",
        "class CNN(objax.Module):\n",
        "  def __init__(self, channels, classes, size, kernel=3):\n",
        "    self.conv1 = objax.nn.Sequential([objax.nn.Conv2D(channels, size, kernel), objax.functional.relu])\n",
        "    self.conv2 = objax.nn.Sequential([objax.nn.Conv2D(size, 32, kernel), objax.functional.relu])\n",
        "    self.fc1 = objax.nn.Sequential([objax.nn.Linear(8192, 64*classes), objax.functional.relu]) #128\n",
        "    self.fc2 = objax.nn.Linear(64*classes, classes)\n",
        "\n",
        "  def __call__(self, x):\n",
        "    x = objax.functional.max_pool_2d(self.conv1(x), 2, 2)\n",
        "    x = objax.functional.max_pool_2d(self.conv2(x), 2, 2)\n",
        "    x = objax.functional.flatten(x)\n",
        "    x = self.fc1(x)\n",
        "    x = self.fc2(x)\n",
        "    return x"
      ]
    },
    {
      "cell_type": "code",
      "execution_count": 82,
      "metadata": {
        "colab": {
          "base_uri": "https://localhost:8080/",
          "height": 592
        },
        "id": "v43qz6hAnEXE",
        "outputId": "e475fafe-796e-4ff9-cf55-880c6d588515"
      },
      "outputs": [
        {
          "output_type": "stream",
          "name": "stdout",
          "text": [
            "samples for chest data:\n",
            "samples for knee data:\n"
          ]
        },
        {
          "output_type": "display_data",
          "data": {
            "text/plain": [
              "<Figure size 432x288 with 0 Axes>"
            ]
          },
          "metadata": {}
        },
        {
          "output_type": "display_data",
          "data": {
            "text/plain": [
              "<Figure size 432x288 with 3 Axes>"
            ],
            "image/png": "[encoded data removed]"
          },
          "metadata": {
            "needs_background": "light"
          }
        },
        {
          "output_type": "display_data",
          "data": {
            "text/plain": [
              "<Figure size 432x288 with 0 Axes>"
            ]
          },
          "metadata": {}
        },
        {
          "output_type": "display_data",
          "data": {
            "text/plain": [
              "<Figure size 432x288 with 3 Axes>"
            ],
            "image/png": "[encoded data removed]"
          },
          "metadata": {
            "needs_background": "light"
          }
        }
      ],
      "source": [
        "# show preview of dataset images\n",
        "def show_3_samples(x_train, x_valid, x_test):\n",
        "  plt.figure()\n",
        "  f, axarr = plt.subplots(3,1) \n",
        "  axarr[0].imshow(x_train[0].transpose(1,2,0))\n",
        "  axarr[1].imshow(x_valid[0].transpose(1,2,0))\n",
        "  axarr[2].imshow(x_test[0].transpose(1,2,0))\n",
        "\n",
        "if chest_data:\n",
        "  print(\"samples for chest data:\")\n",
        "  show_3_samples(x_train_c, x_valid_c, x_test_c)\n",
        "if knee_data:\n",
        "  print(\"samples for knee data:\")\n",
        "  show_3_samples(x_train_k, x_valid_k, x_test_k)"
      ]
    },
    {
      "cell_type": "markdown",
      "source": [
        "## Helper Functions"
      ],
      "metadata": {
        "id": "ciOOj9FjRq4U"
      }
    },
    {
      "cell_type": "code",
      "execution_count": 83,
      "metadata": {
        "id": "HdvTNLnT450u"
      },
      "outputs": [],
      "source": [
        "#training loop helper function\n",
        "def train_per_batch(x, y, lr, batch, train_op, predict):\n",
        "  acc = 0\n",
        "  shuffle_indicies = np.arange(len(x))\n",
        "  np.random.shuffle(shuffle_indicies) #shuffle before running batches to remove correlation\n",
        "\n",
        "  for i in range(0, x.shape[0], batch):\n",
        "      batch_idxs = shuffle_indicies[i:i+batch]\n",
        "\n",
        "      #run train_op step\n",
        "      loss = float(train_op(x[batch_idxs], y[batch_idxs], lr)[0]) * len(batch_idxs)\n",
        "      \n",
        "      #store accuracy\n",
        "      acc += (np.array(predict(x[batch_idxs]).argmax(1)).flatten() == y[batch_idxs]).sum()\n",
        "\n",
        "  return acc\n",
        "\n",
        "#training loop\n",
        "def train(epochs, batch, lr, x_train, x_valid, y_train, y_valid, train_op, predict):\n",
        "  train_accuracies = []\n",
        "  valid_accuracies = []\n",
        "  epsilons = []\n",
        "\n",
        "  for epoch in range(1, epochs+1):\n",
        "      train_loss = []\n",
        "      valid_loss = []\n",
        "\n",
        "      # batch training\n",
        "      avg_train_acc = train_per_batch(x_train, y_train, lr, batch, train_op, predict) / x_train.shape[0]\n",
        "      train_accuracies.append(avg_train_acc)\n",
        "      \n",
        "      # batch validation \n",
        "      avg_val_acc = train_per_batch(x_valid, y_valid, lr, batch, train_op, predict) / x_valid.shape[0]\n",
        "      valid_accuracies.append(avg_val_acc)\n",
        "\n",
        "      print('Epoch %d  Training Accuracy %.4f Validation Accuracy %.4f' % (epoch, avg_train_acc*100, avg_val_acc*100))\n",
        "  \n",
        "  return train_accuracies, valid_accuracies"
      ]
    },
    {
      "cell_type": "code",
      "source": [
        "# show plot helper function\n",
        "def show_plot(train_accuracies, valid_accuracies, dataset, cnn_type):\n",
        "  title = \"Training and Validation Accuracies of \"+ cnn_type + \" CNN for \" + dataset + \" data\"\n",
        "  plt.title(title)\n",
        "  plt.plot(train_accuracies, label=\"Train\")\n",
        "  plt.plot(valid_accuracies, label=\"Validation\")\n",
        "  plt.xlabel(\"Epoch\")\n",
        "  plt.ylabel(\"Accuracy (%)\")\n",
        "  plt.legend(loc='best')\n",
        "  plt.show()"
      ],
      "metadata": {
        "id": "aPfF_xysmqYL"
      },
      "execution_count": 84,
      "outputs": []
    },
    {
      "cell_type": "code",
      "source": [
        "# test accuracy helper function\n",
        "def get_test_accuracy(predict, x_test, y_test, dataset, cnn_type):\n",
        "  test_accuracy = (np.array(predict(x_test).argmax(1)).flatten() == y_test).sum()\n",
        "  print(\"Test Accuracy of \", cnn_type, \" Model for \", dataset, \" data: \", 100*test_accuracy/x_test.shape[0])\n",
        "  return 100*test_accuracy/x_test.shape[0]"
      ],
      "metadata": {
        "id": "mlnt5QV9my05"
      },
      "execution_count": 111,
      "outputs": []
    },
    {
      "cell_type": "code",
      "source": [
        "!pip --quiet install tensorflow-privacy #for google colab\n",
        "def get_epsilon_momentents_gaussian_dp(num_train_data, noise_multiplier, num_epochs, batch_size):\n",
        "  '''\n",
        "  calculates epsilon (ε) of the differentially private model. The model is said to be ε-differentially private if the model cannot differentiate \n",
        "  between two datasets that differ by one point. \n",
        "\n",
        "  @param num_training_data (int): the number of training examples\n",
        "  @param noise_multiplier (double): standard deviation of the gaussian noise added to the gradients \n",
        "  @param num_epochs (int): number of epochs the model ran for\n",
        "  @param batch_size (int): batch size used\n",
        "  @returns epsilon(int) : epsilon value\n",
        "\n",
        "  NOTE - to disable warning messages add this: \n",
        "    from absl import logging as absl_logging\n",
        "    absl_logging.set_verbosity(absl_logging.ERROR)\n",
        "  '''\n",
        "  from tensorflow_privacy.privacy.analysis import compute_dp_sgd_privacy_lib\n",
        "  delta = 1e-5 #typical value for delta \n",
        "\n",
        "  # compute the privacy budget\n",
        "  epsilon, __ = compute_dp_sgd_privacy_lib.compute_dp_sgd_privacy(\n",
        "      n=num_train_data,\n",
        "      batch_size=batch_size,\n",
        "      noise_multiplier=noise_multiplier,\n",
        "      epochs=num_epochs,\n",
        "      delta=delta,\n",
        "  )\n",
        "  return epsilon"
      ],
      "metadata": {
        "id": "hiI-aSiULbZY"
      },
      "execution_count": 86,
      "outputs": []
    },
    {
      "cell_type": "code",
      "source": [
        "def get_memory_usage_and_runtime(train_function, arguments):\n",
        "    '''\n",
        "    gets peak memory usage of the training function in MB and runtime in seconds\n",
        "    \n",
        "    @param train_function: the model's training loop\n",
        "    @param a, b ... etc : arguments for the function\n",
        "    @return runtime (s), peak_mem (MB)\n",
        "\n",
        "    NOTE - if the function has no return values or arguments, run it like this: \n",
        "    mem = memory_usage(proc=train_function)\n",
        "    '''\n",
        "\n",
        "    s = time.time()\n",
        "    mem, result = memory_usage((train_function, arguments), retval=True)\n",
        "    e = time.time()\n",
        "    runtime = e-s\n",
        "    peak_mem = max(mem)\n",
        "    \n",
        "    return runtime, peak_mem, result"
      ],
      "metadata": {
        "id": "SD0NsxqzeM6B"
      },
      "execution_count": 87,
      "outputs": []
    },
    {
      "cell_type": "markdown",
      "metadata": {
        "id": "Sx9ytkpaROBn"
      },
      "source": [
        "## Train Regular CNN"
      ]
    },
    {
      "cell_type": "code",
      "execution_count": 93,
      "metadata": {
        "id": "cSvlFDT_aJ59"
      },
      "outputs": [],
      "source": [
        "# hyperparameters\n",
        "epochs = 100\n",
        "lr = 0.01 #0.001\n",
        "size = 64 #h/w of images in dataset"
      ]
    },
    {
      "cell_type": "code",
      "execution_count": 94,
      "metadata": {
        "id": "mGWKDLHu0rdJ"
      },
      "outputs": [],
      "source": [
        "def define_model_and_train_regular(x_train, x_valid, y_train, y_valid, num_classes):\n",
        "  ''' regular SGD'''\n",
        "\n",
        "  #define model\n",
        "  model_regular = CNN(channels = 3, classes = num_classes, size = size, kernel = 3) \n",
        "\n",
        "  #define loss\n",
        "  def loss_fn_regular(x, y):\n",
        "      return objax.functional.loss.cross_entropy_logits_sparse(model_regular(x), y).mean()\n",
        "\n",
        "  #define prediction function (to get results of model training)\n",
        "  predict_regular = objax.Jit(lambda x: objax.functional.softmax(model_regular(x)), model_regular.vars())\n",
        "\n",
        "  # define 'forward' operation.\n",
        "  gv_regular = objax.GradValues(loss_fn_regular, model_regular.vars()) #function that calculates gradient\n",
        "  tv_regular = objax.ModuleList(objax.TrainRef(x) for x in model_regular.vars().subset(objax.TrainVar)) #trainable variables\n",
        "\n",
        "  def train_op_regular(x, y, lr):\n",
        "      g, v = gv_regular(x, y) # apply gradient\n",
        "      \n",
        "      # ** optimzer: SGD **\n",
        "      for grad, params in zip(g, tv_regular.vars()):\n",
        "        params.value -= jn.multiply(grad, lr) #jax speeds up computation\n",
        "\n",
        "      return v # v is the loss\n",
        "\n",
        "  train_op_regular = objax.Jit(train_op_regular, gv_regular.vars() + tv_regular.vars()) # compile train_op to make it faster\n",
        "\n",
        "  train_accuracies_regular, valid_accuracies_regular = train(epochs, batch, lr, x_train, x_valid, y_train, y_valid, train_op_regular, predict_regular)\n",
        "\n",
        "  return train_accuracies_regular, valid_accuracies_regular, predict_regular"
      ]
    },
    {
      "cell_type": "code",
      "execution_count": 95,
      "metadata": {
        "id": "y1rAgia_QvKj",
        "colab": {
          "base_uri": "https://localhost:8080/"
        },
        "outputId": "765ceb17-fb58-4a1c-c2cb-1c0713496bd0"
      },
      "outputs": [
        {
          "output_type": "stream",
          "name": "stdout",
          "text": [
            "-----Training for chest x-ray data: ------\n",
            "Epoch 1  Training Accuracy 72.3267 Validation Accuracy 74.4027\n",
            "Epoch 2  Training Accuracy 78.1140 Validation Accuracy 77.4744\n",
            "Epoch 3  Training Accuracy 83.2844 Validation Accuracy 84.1297\n",
            "Epoch 4  Training Accuracy 88.1022 Validation Accuracy 87.5427\n",
            "Epoch 5  Training Accuracy 89.7620 Validation Accuracy 79.0102\n",
            "Epoch 6  Training Accuracy 91.6422 Validation Accuracy 92.3208\n",
            "Epoch 7  Training Accuracy 92.6998 Validation Accuracy 86.3481\n",
            "Epoch 8  Training Accuracy 93.8455 Validation Accuracy 91.9795\n",
            "Epoch 9  Training Accuracy 93.9336 Validation Accuracy 92.4915\n",
            "Epoch 10  Training Accuracy 94.4477 Validation Accuracy 93.0034\n",
            "Epoch 11  Training Accuracy 95.1528 Validation Accuracy 94.5392\n",
            "Epoch 12  Training Accuracy 95.2262 Validation Accuracy 94.3686\n",
            "Epoch 13  Training Accuracy 95.3290 Validation Accuracy 94.7099\n",
            "Epoch 14  Training Accuracy 95.5494 Validation Accuracy 95.0512\n",
            "Epoch 15  Training Accuracy 95.8284 Validation Accuracy 95.2218\n",
            "Epoch 16  Training Accuracy 95.7256 Validation Accuracy 95.3925\n",
            "Epoch 17  Training Accuracy 95.4906 Validation Accuracy 94.7099\n",
            "Epoch 18  Training Accuracy 95.9166 Validation Accuracy 92.3208\n",
            "Epoch 19  Training Accuracy 95.9606 Validation Accuracy 95.3925\n",
            "Epoch 20  Training Accuracy 96.0635 Validation Accuracy 94.5392\n",
            "Epoch 21  Training Accuracy 96.2838 Validation Accuracy 95.9044\n",
            "Epoch 22  Training Accuracy 96.4747 Validation Accuracy 95.7338\n",
            "Epoch 23  Training Accuracy 96.4307 Validation Accuracy 94.3686\n",
            "Epoch 24  Training Accuracy 96.4600 Validation Accuracy 95.7338\n",
            "Epoch 25  Training Accuracy 96.7244 Validation Accuracy 96.7577\n",
            "Epoch 26  Training Accuracy 96.7538 Validation Accuracy 95.9044\n",
            "Epoch 27  Training Accuracy 96.6069 Validation Accuracy 94.3686\n",
            "Epoch 28  Training Accuracy 96.8126 Validation Accuracy 96.7577\n",
            "Epoch 29  Training Accuracy 96.7244 Validation Accuracy 95.9044\n",
            "Epoch 30  Training Accuracy 96.7685 Validation Accuracy 96.5870\n",
            "Epoch 31  Training Accuracy 96.9741 Validation Accuracy 96.0751\n",
            "Epoch 32  Training Accuracy 96.9595 Validation Accuracy 96.4164\n",
            "Epoch 33  Training Accuracy 97.1357 Validation Accuracy 96.7577\n",
            "Epoch 34  Training Accuracy 96.8566 Validation Accuracy 95.9044\n",
            "Epoch 35  Training Accuracy 96.9888 Validation Accuracy 94.0273\n",
            "Epoch 36  Training Accuracy 96.8860 Validation Accuracy 96.5870\n",
            "Epoch 37  Training Accuracy 97.1210 Validation Accuracy 96.5870\n",
            "Epoch 38  Training Accuracy 97.3120 Validation Accuracy 96.7577\n",
            "Epoch 39  Training Accuracy 97.3120 Validation Accuracy 96.7577\n",
            "Epoch 40  Training Accuracy 97.2385 Validation Accuracy 96.5870\n",
            "Epoch 41  Training Accuracy 97.3267 Validation Accuracy 96.5870\n",
            "Epoch 42  Training Accuracy 97.3707 Validation Accuracy 96.7577\n",
            "Epoch 43  Training Accuracy 97.4442 Validation Accuracy 96.9283\n",
            "Epoch 44  Training Accuracy 97.3854 Validation Accuracy 95.9044\n",
            "Epoch 45  Training Accuracy 97.4736 Validation Accuracy 97.6109\n",
            "Epoch 46  Training Accuracy 97.5764 Validation Accuracy 96.7577\n",
            "Epoch 47  Training Accuracy 97.4736 Validation Accuracy 97.0990\n",
            "Epoch 48  Training Accuracy 97.6645 Validation Accuracy 97.0990\n",
            "Epoch 49  Training Accuracy 97.5323 Validation Accuracy 96.9283\n",
            "Epoch 50  Training Accuracy 97.5617 Validation Accuracy 96.7577\n",
            "Epoch 51  Training Accuracy 97.7380 Validation Accuracy 97.4403\n",
            "Epoch 52  Training Accuracy 97.7380 Validation Accuracy 97.4403\n",
            "Epoch 53  Training Accuracy 97.7380 Validation Accuracy 96.7577\n",
            "Epoch 54  Training Accuracy 97.9730 Validation Accuracy 96.7577\n",
            "Epoch 55  Training Accuracy 97.8408 Validation Accuracy 97.2696\n",
            "Epoch 56  Training Accuracy 97.7820 Validation Accuracy 97.6109\n",
            "Epoch 57  Training Accuracy 98.0024 Validation Accuracy 97.2696\n",
            "Epoch 58  Training Accuracy 97.9289 Validation Accuracy 96.9283\n",
            "Epoch 59  Training Accuracy 98.0464 Validation Accuracy 97.2696\n",
            "Epoch 60  Training Accuracy 97.8848 Validation Accuracy 97.4403\n",
            "Epoch 61  Training Accuracy 98.0170 Validation Accuracy 97.2696\n",
            "Epoch 62  Training Accuracy 98.1786 Validation Accuracy 98.1229\n",
            "Epoch 63  Training Accuracy 98.0317 Validation Accuracy 97.6109\n",
            "Epoch 64  Training Accuracy 98.1345 Validation Accuracy 96.4164\n",
            "Epoch 65  Training Accuracy 97.9289 Validation Accuracy 95.2218\n",
            "Epoch 66  Training Accuracy 98.1199 Validation Accuracy 97.6109\n",
            "Epoch 67  Training Accuracy 98.2521 Validation Accuracy 98.1229\n",
            "Epoch 68  Training Accuracy 98.1492 Validation Accuracy 97.9522\n",
            "Epoch 69  Training Accuracy 98.3843 Validation Accuracy 97.6109\n",
            "Epoch 70  Training Accuracy 98.3549 Validation Accuracy 97.9522\n",
            "Epoch 71  Training Accuracy 98.3255 Validation Accuracy 98.6348\n",
            "Epoch 72  Training Accuracy 98.3108 Validation Accuracy 97.6109\n",
            "Epoch 73  Training Accuracy 98.3843 Validation Accuracy 97.9522\n",
            "Epoch 74  Training Accuracy 98.3843 Validation Accuracy 98.2935\n",
            "Epoch 75  Training Accuracy 98.4283 Validation Accuracy 98.1229\n",
            "Epoch 76  Training Accuracy 98.4283 Validation Accuracy 98.1229\n",
            "Epoch 77  Training Accuracy 98.5311 Validation Accuracy 97.9522\n",
            "Epoch 78  Training Accuracy 98.4136 Validation Accuracy 98.1229\n",
            "Epoch 79  Training Accuracy 98.4871 Validation Accuracy 97.9522\n",
            "Epoch 80  Training Accuracy 98.5165 Validation Accuracy 98.2935\n",
            "Epoch 81  Training Accuracy 98.6486 Validation Accuracy 97.7816\n",
            "Epoch 82  Training Accuracy 98.5165 Validation Accuracy 98.4642\n",
            "Epoch 83  Training Accuracy 98.6927 Validation Accuracy 98.2935\n",
            "Epoch 84  Training Accuracy 98.5018 Validation Accuracy 98.8055\n",
            "Epoch 85  Training Accuracy 98.6633 Validation Accuracy 98.2935\n",
            "Epoch 86  Training Accuracy 98.6046 Validation Accuracy 98.8055\n",
            "Epoch 87  Training Accuracy 98.6927 Validation Accuracy 98.8055\n",
            "Epoch 88  Training Accuracy 98.8396 Validation Accuracy 98.4642\n",
            "Epoch 89  Training Accuracy 98.8837 Validation Accuracy 98.4642\n",
            "Epoch 90  Training Accuracy 98.7808 Validation Accuracy 98.9761\n",
            "Epoch 91  Training Accuracy 98.9277 Validation Accuracy 99.1468\n",
            "Epoch 92  Training Accuracy 98.8102 Validation Accuracy 98.1229\n",
            "Epoch 93  Training Accuracy 98.8102 Validation Accuracy 98.8055\n",
            "Epoch 94  Training Accuracy 98.9718 Validation Accuracy 98.6348\n",
            "Epoch 95  Training Accuracy 99.0012 Validation Accuracy 98.2935\n",
            "Epoch 96  Training Accuracy 98.9130 Validation Accuracy 98.8055\n",
            "Epoch 97  Training Accuracy 99.0012 Validation Accuracy 96.9283\n",
            "Epoch 98  Training Accuracy 98.9865 Validation Accuracy 98.8055\n",
            "Epoch 99  Training Accuracy 99.0893 Validation Accuracy 99.1468\n",
            "Epoch 100  Training Accuracy 99.0893 Validation Accuracy 99.1468\n",
            "Runtime(s):  123.68997192382812 Memory(MB):  5909.16015625\n",
            "-----Training for knee x-ray data: ------\n",
            "Epoch 1  Training Accuracy 29.8930 Validation Accuracy 35.7508\n",
            "Epoch 2  Training Accuracy 31.9494 Validation Accuracy 35.4443\n",
            "Epoch 3  Training Accuracy 32.9614 Validation Accuracy 36.0572\n",
            "Epoch 4  Training Accuracy 34.1226 Validation Accuracy 37.3851\n",
            "Epoch 5  Training Accuracy 34.4664 Validation Accuracy 33.6057\n",
            "Epoch 6  Training Accuracy 35.0892 Validation Accuracy 35.5465\n",
            "Epoch 7  Training Accuracy 35.7509 Validation Accuracy 38.2022\n",
            "Epoch 8  Training Accuracy 36.2504 Validation Accuracy 36.3636\n",
            "Epoch 9  Training Accuracy 36.2245 Validation Accuracy 35.5465\n",
            "Epoch 10  Training Accuracy 36.5683 Validation Accuracy 33.9122\n",
            "Epoch 11  Training Accuracy 37.2884 Validation Accuracy 38.5087\n",
            "Epoch 12  Training Accuracy 37.8203 Validation Accuracy 39.0194\n",
            "Epoch 13  Training Accuracy 38.0863 Validation Accuracy 36.1593\n",
            "Epoch 14  Training Accuracy 38.8712 Validation Accuracy 39.3258\n",
            "Epoch 15  Training Accuracy 38.9880 Validation Accuracy 38.2022\n",
            "Epoch 16  Training Accuracy 39.3383 Validation Accuracy 37.2829\n",
            "Epoch 17  Training Accuracy 39.4551 Validation Accuracy 37.1808\n",
            "Epoch 18  Training Accuracy 39.8832 Validation Accuracy 40.3473\n",
            "Epoch 19  Training Accuracy 41.3364 Validation Accuracy 39.1216\n",
            "Epoch 20  Training Accuracy 40.8433 Validation Accuracy 35.8529\n",
            "Epoch 21  Training Accuracy 41.7321 Validation Accuracy 40.7559\n",
            "Epoch 22  Training Accuracy 41.7061 Validation Accuracy 40.9602\n",
            "Epoch 23  Training Accuracy 42.4716 Validation Accuracy 42.3902\n",
            "Epoch 24  Training Accuracy 42.9452 Validation Accuracy 41.0623\n",
            "Epoch 25  Training Accuracy 43.6977 Validation Accuracy 39.9387\n",
            "Epoch 26  Training Accuracy 44.2102 Validation Accuracy 42.5945\n",
            "Epoch 27  Training Accuracy 44.0675 Validation Accuracy 41.4709\n",
            "Epoch 28  Training Accuracy 44.6383 Validation Accuracy 41.4709\n",
            "Epoch 29  Training Accuracy 44.8394 Validation Accuracy 41.8795\n",
            "Epoch 30  Training Accuracy 44.8849 Validation Accuracy 43.6159\n",
            "Epoch 31  Training Accuracy 45.1833 Validation Accuracy 39.2237\n",
            "Epoch 32  Training Accuracy 46.2926 Validation Accuracy 42.4923\n",
            "Epoch 33  Training Accuracy 46.5910 Validation Accuracy 45.1481\n",
            "Epoch 34  Training Accuracy 46.2147 Validation Accuracy 44.9438\n",
            "Epoch 35  Training Accuracy 46.3380 Validation Accuracy 44.6374\n",
            "Epoch 36  Training Accuracy 46.0461 Validation Accuracy 40.7559\n",
            "Epoch 37  Training Accuracy 47.1489 Validation Accuracy 45.2503\n",
            "Epoch 38  Training Accuracy 47.1813 Validation Accuracy 40.7559\n",
            "Epoch 39  Training Accuracy 47.1424 Validation Accuracy 46.2717\n",
            "Epoch 40  Training Accuracy 47.7133 Validation Accuracy 47.8039\n",
            "Epoch 41  Training Accuracy 47.6484 Validation Accuracy 46.9867\n",
            "Epoch 42  Training Accuracy 48.0701 Validation Accuracy 42.7988\n",
            "Epoch 43  Training Accuracy 48.7253 Validation Accuracy 40.7559\n",
            "Epoch 44  Training Accuracy 48.8226 Validation Accuracy 46.2717\n",
            "Epoch 45  Training Accuracy 49.4453 Validation Accuracy 39.7344\n",
            "Epoch 46  Training Accuracy 48.9458 Validation Accuracy 43.7181\n",
            "Epoch 47  Training Accuracy 49.9838 Validation Accuracy 42.1859\n",
            "Epoch 48  Training Accuracy 49.5491 Validation Accuracy 48.9275\n",
            "Epoch 49  Training Accuracy 49.9059 Validation Accuracy 48.6210\n",
            "Epoch 50  Training Accuracy 49.9189 Validation Accuracy 42.2880\n",
            "Epoch 51  Training Accuracy 50.6130 Validation Accuracy 45.8631\n",
            "Epoch 52  Training Accuracy 51.0088 Validation Accuracy 42.3902\n",
            "Epoch 53  Training Accuracy 50.7947 Validation Accuracy 50.6639\n",
            "Epoch 54  Training Accuracy 51.0347 Validation Accuracy 44.7395\n",
            "Epoch 55  Training Accuracy 51.0412 Validation Accuracy 42.5945\n",
            "Epoch 56  Training Accuracy 51.5926 Validation Accuracy 48.0082\n",
            "Epoch 57  Training Accuracy 51.9040 Validation Accuracy 40.0409\n",
            "Epoch 58  Training Accuracy 51.2877 Validation Accuracy 45.3524\n",
            "Epoch 59  Training Accuracy 52.3451 Validation Accuracy 47.2932\n",
            "Epoch 60  Training Accuracy 52.2089 Validation Accuracy 50.9704\n",
            "Epoch 61  Training Accuracy 52.3321 Validation Accuracy 47.0889\n",
            "Epoch 62  Training Accuracy 52.7343 Validation Accuracy 51.4811\n",
            "Epoch 63  Training Accuracy 52.2283 Validation Accuracy 50.4597\n",
            "Epoch 64  Training Accuracy 53.1430 Validation Accuracy 51.9918\n",
            "Epoch 65  Training Accuracy 52.8576 Validation Accuracy 44.6374\n",
            "Epoch 66  Training Accuracy 53.7269 Validation Accuracy 43.3095\n",
            "Epoch 67  Training Accuracy 52.5787 Validation Accuracy 47.9060\n",
            "Epoch 68  Training Accuracy 53.5258 Validation Accuracy 42.6966\n",
            "Epoch 69  Training Accuracy 53.6685 Validation Accuracy 45.9653\n",
            "Epoch 70  Training Accuracy 53.9994 Validation Accuracy 46.5781\n",
            "Epoch 71  Training Accuracy 53.9734 Validation Accuracy 52.1961\n",
            "Epoch 72  Training Accuracy 53.4609 Validation Accuracy 42.7988\n",
            "Epoch 73  Training Accuracy 54.2848 Validation Accuracy 47.3953\n",
            "Epoch 74  Training Accuracy 54.2524 Validation Accuracy 48.1103\n",
            "Epoch 75  Training Accuracy 54.7778 Validation Accuracy 46.8846\n",
            "Epoch 76  Training Accuracy 54.9465 Validation Accuracy 47.8039\n",
            "Epoch 77  Training Accuracy 55.8223 Validation Accuracy 53.3197\n",
            "Epoch 78  Training Accuracy 54.7194 Validation Accuracy 45.3524\n",
            "Epoch 79  Training Accuracy 55.4460 Validation Accuracy 48.1103\n",
            "Epoch 80  Training Accuracy 55.6017 Validation Accuracy 53.1154\n",
            "Epoch 81  Training Accuracy 55.4071 Validation Accuracy 54.3412\n",
            "Epoch 82  Training Accuracy 55.2189 Validation Accuracy 48.0082\n",
            "Epoch 83  Training Accuracy 55.7509 Validation Accuracy 42.2880\n",
            "Epoch 84  Training Accuracy 55.9260 Validation Accuracy 55.1583\n",
            "Epoch 85  Training Accuracy 55.7833 Validation Accuracy 53.8304\n",
            "Epoch 86  Training Accuracy 55.4719 Validation Accuracy 50.1532\n",
            "Epoch 87  Training Accuracy 55.7379 Validation Accuracy 48.9275\n",
            "Epoch 88  Training Accuracy 56.2439 Validation Accuracy 52.2983\n",
            "Epoch 89  Training Accuracy 56.1271 Validation Accuracy 48.7232\n",
            "Epoch 90  Training Accuracy 57.4895 Validation Accuracy 48.7232\n",
            "Epoch 91  Training Accuracy 57.0094 Validation Accuracy 50.7661\n",
            "Epoch 92  Training Accuracy 57.0743 Validation Accuracy 43.6159\n",
            "Epoch 93  Training Accuracy 57.5868 Validation Accuracy 55.4648\n",
            "Epoch 94  Training Accuracy 57.5284 Validation Accuracy 47.5996\n",
            "Epoch 95  Training Accuracy 57.0548 Validation Accuracy 51.9918\n",
            "Epoch 96  Training Accuracy 57.4830 Validation Accuracy 50.8682\n",
            "Epoch 97  Training Accuracy 57.7295 Validation Accuracy 55.6691\n",
            "Epoch 98  Training Accuracy 57.5414 Validation Accuracy 48.5189\n",
            "Epoch 99  Training Accuracy 58.1252 Validation Accuracy 51.7875\n",
            "Epoch 100  Training Accuracy 57.9176 Validation Accuracy 47.2932\n",
            "Runtime(s):  279.8356511592865 Memory(MB):  5959.734375\n"
          ]
        }
      ],
      "source": [
        "# train without differential privacy (dp)\n",
        "if chest_data:\n",
        "  print(\"-----Training for chest x-ray data: ------\")\n",
        "  num_classes = 2\n",
        "  batch = 100\n",
        "\n",
        "  runtime_regular_c, peak_mem_regular_c, (train_accuracies_regular_c, valid_accuracies_regular_c, predict_regular_c) = get_memory_usage_and_runtime(define_model_and_train_regular, (x_train_c, x_valid_c, y_train_c, y_valid_c, num_classes))\n",
        "  print (\"Runtime(s): \", runtime_regular_c, \"Memory(MB): \", peak_mem_regular_c)\n",
        "\n",
        "if knee_data:\n",
        "  print(\"-----Training for knee x-ray data: ------\")\n",
        "  num_classes = 5\n",
        "  batch = 300\n",
        "\n",
        "  runtime_regular_k, peak_mem_regular_k, (train_accuracies_regular_k, valid_accuracies_regular_k, predict_regular_k) = get_memory_usage_and_runtime(define_model_and_train_regular, (x_train_k, x_valid_k, y_train_k, y_valid_k, num_classes))\n",
        "  print (\"Runtime(s): \", runtime_regular_k, \"Memory(MB): \", peak_mem_regular_k)"
      ]
    },
    {
      "cell_type": "code",
      "execution_count": 96,
      "metadata": {
        "colab": {
          "base_uri": "https://localhost:8080/",
          "height": 573
        },
        "id": "mfYgUE6ZYHFO",
        "outputId": "68c3bd0d-b291-443d-ba45-40b10271b5b5"
      },
      "outputs": [
        {
          "output_type": "display_data",
          "data": {
            "text/plain": [
              "<Figure size 432x288 with 1 Axes>"
            ],
            "image/png": "[encoded data removed]"
          },
          "metadata": {
            "needs_background": "light"
          }
        },
        {
          "output_type": "display_data",
          "data": {
            "text/plain": [
              "<Figure size 432x288 with 1 Axes>"
            ],
            "image/png": "[encoded data removed]"
          },
          "metadata": {
            "needs_background": "light"
          }
        }
      ],
      "source": [
        "if chest_data:\n",
        "  show_plot(train_accuracies_regular_c, valid_accuracies_regular_c, \"Chest X-ray\", \"Regular\")\n",
        "if knee_data:\n",
        "  show_plot(train_accuracies_regular_k, valid_accuracies_regular_k, \"Knee X-ray\", \"Regular\")"
      ]
    },
    {
      "cell_type": "code",
      "execution_count": 112,
      "metadata": {
        "colab": {
          "base_uri": "https://localhost:8080/"
        },
        "id": "QSgSLVcxXdm8",
        "outputId": "ce274949-f296-476d-f3dd-409da4a61424"
      },
      "outputs": [
        {
          "output_type": "stream",
          "name": "stdout",
          "text": [
            "Test Accuracy of  Regular  Model for  Chest X-ray  data:  96.41025641025641\n",
            "Test Accuracy of  Regular  Model for  Knee X-ray  data:  36.9120654396728\n"
          ]
        }
      ],
      "source": [
        "if chest_data:\n",
        "  test_accuracy_regular_c = get_test_accuracy(predict_regular_c, x_test_c, y_test_c, 'Chest X-ray', \"Regular\")\n",
        "if knee_data:\n",
        "  test_accuracy_regular_k = get_test_accuracy(predict_regular_k, x_test_k, y_test_k, 'Knee X-ray', \"Regular\")"
      ]
    },
    {
      "cell_type": "markdown",
      "metadata": {
        "id": "5sr9fXeiRoui"
      },
      "source": [
        "## Train CNN with Differential Privacy\n",
        "\n",
        "In train_op_dp, add gaussian noise and gradient clipping\n"
      ]
    },
    {
      "cell_type": "code",
      "execution_count": 101,
      "metadata": {
        "id": "0zMhovEUaPbr"
      },
      "outputs": [],
      "source": [
        "# hyperparameters\n",
        "epochs = 100\n",
        "lr = 0.01\n",
        "size = 64 #h/w of images in dataset\n",
        "sigma = 4 # noise scale -4\n",
        "C = 80 # gradient norm (Best C = median of the norms of the unclipped gradients) - mean was 79.5 after running with C=100"
      ]
    },
    {
      "cell_type": "code",
      "execution_count": 102,
      "metadata": {
        "id": "gsOu1Iz4SssE"
      },
      "outputs": [],
      "source": [
        "def define_model_and_train_dp(x_train, x_valid, y_train, y_valid, num_classes):\n",
        "  \n",
        "  #last hyperparamter definition\n",
        "  L = int(np.sqrt(len(x_train))) # L = √ N is the best group size\n",
        "\n",
        "  #define model\n",
        "  model_dp = CNN(channels = 3, classes = num_classes, size = size, kernel = 3)\n",
        "\n",
        "  #define loss\n",
        "  def loss_fn_dp(x, y):\n",
        "      return objax.functional.loss.cross_entropy_logits_sparse(model_dp(x), y).mean()\n",
        "\n",
        "  #define prediction function (to get results of model training)\n",
        "  predict_dp = objax.Jit(lambda x: objax.functional.softmax(model_dp(x)), model_dp.vars())\n",
        "\n",
        "  # define 'forward' operation.\n",
        "  gv_dp = objax.GradValues(loss_fn_dp, model_dp.vars()) #dictionary that stores gradients\n",
        "  tv_dp = objax.ModuleList(objax.TrainRef(x) for x in model_dp.vars().subset(objax.TrainVar)) #trainable variables\n",
        "  unclipped_grad = jn.arange(len(tv_dp.vars())*epochs) #store in list, to find best C\n",
        "\n",
        "  def train_op_dp(x, y, lr):\n",
        "      g, v = gv_dp(x, y) # apply gradient\n",
        "\n",
        "      # ** optimzer: DP-SGD **\n",
        "\n",
        "      i = 0 # which model variable\n",
        "      for grad, params in zip(g, tv_dp.vars()):\n",
        "\n",
        "        # get random \"lot (L)\" of examples to add noise to:\n",
        "        lot_idxs = np.random.choice(len(x), L)\n",
        "        g_lot, __ = gv_dp(x[lot_idxs], y[lot_idxs]) #get grad only for lot\n",
        "        grad = g_lot[i]\n",
        "      \n",
        "        #gradient clipping\n",
        "        norm = jn.linalg.norm(grad)\n",
        "        unclipped_grad.at[i].set(norm) #store unlcipped gradients\n",
        "        grad_clipped = grad / jn.maximum(jn.empty(jn.shape(norm)) + 1, norm/C)\n",
        "\n",
        "        #apply guassian\n",
        "        mu = 0\n",
        "        std = sigma\n",
        "        key = jax.random.PRNGKey(1) # to ensure guassian stays the same for all runs\n",
        "        guassian = mu + std * jax.random.normal(key, jn.shape(grad_clipped))\n",
        "        grad_w_guassian = jn.multiply(1/L, jn.add(grad_clipped, guassian))\n",
        "        \n",
        "        #update params\n",
        "        params.value -= jn.multiply(grad_w_guassian, lr) \n",
        "\n",
        "        i+=1\n",
        "\n",
        "      return v # v is the loss\n",
        "\n",
        "  train_op_dp = objax.Jit(train_op_dp, gv_dp.vars() + tv_dp.vars()) # compile train_op to make it faster\n",
        "\n",
        "  train_accuracies_dp, valid_accuracies_dp = train(epochs, batch, lr, x_train, x_valid, y_train, y_valid, train_op_dp, predict_dp)\n",
        "\n",
        "  print (\"---- For hyperparameter tuning: ----\")\n",
        "  print(\"mean of unclipped gradients -> \", jn.mean(unclipped_grad))\n",
        "\n",
        "  return train_accuracies_dp, valid_accuracies_dp, predict_dp"
      ]
    },
    {
      "cell_type": "code",
      "execution_count": 103,
      "metadata": {
        "colab": {
          "base_uri": "https://localhost:8080/"
        },
        "id": "tPQUk2vCRc7G",
        "outputId": "71ad8848-aa3c-43d3-a937-76bc045fef44"
      },
      "outputs": [
        {
          "output_type": "stream",
          "name": "stderr",
          "text": [
            "/usr/local/lib/python3.9/dist-packages/jax/_src/ops/scatter.py:89: FutureWarning: scatter inputs have incompatible types: cannot safely cast value from dtype=float32 to dtype=int32. In future JAX releases this will result in an error.\n",
            "  warnings.warn(\"scatter inputs have incompatible types: cannot safely cast \"\n"
          ]
        },
        {
          "output_type": "stream",
          "name": "stdout",
          "text": [
            "Epoch 1  Training Accuracy 65.3496 Validation Accuracy 69.9659\n",
            "Epoch 2  Training Accuracy 68.4048 Validation Accuracy 68.9420\n",
            "Epoch 3  Training Accuracy 70.9753 Validation Accuracy 70.9898\n",
            "Epoch 4  Training Accuracy 70.8725 Validation Accuracy 73.0375\n",
            "Epoch 5  Training Accuracy 73.2814 Validation Accuracy 73.2082\n",
            "Epoch 6  Training Accuracy 74.9412 Validation Accuracy 75.4266\n",
            "Epoch 7  Training Accuracy 77.5852 Validation Accuracy 76.6212\n",
            "Epoch 8  Training Accuracy 79.8325 Validation Accuracy 78.8396\n",
            "Epoch 9  Training Accuracy 81.5805 Validation Accuracy 81.2287\n",
            "Epoch 10  Training Accuracy 82.1827 Validation Accuracy 80.3754\n",
            "Epoch 11  Training Accuracy 83.3137 Validation Accuracy 82.4232\n",
            "Epoch 12  Training Accuracy 83.3137 Validation Accuracy 83.7884\n",
            "Epoch 13  Training Accuracy 84.1951 Validation Accuracy 83.4471\n",
            "Epoch 14  Training Accuracy 85.0617 Validation Accuracy 84.3003\n",
            "Epoch 15  Training Accuracy 85.1351 Validation Accuracy 85.4949\n",
            "Epoch 16  Training Accuracy 85.3114 Validation Accuracy 85.1536\n",
            "Epoch 17  Training Accuracy 85.8402 Validation Accuracy 85.6655\n",
            "Epoch 18  Training Accuracy 86.1340 Validation Accuracy 85.4949\n",
            "Epoch 19  Training Accuracy 85.8843 Validation Accuracy 85.1536\n",
            "Epoch 20  Training Accuracy 86.0899 Validation Accuracy 84.6416\n",
            "Epoch 21  Training Accuracy 86.5159 Validation Accuracy 85.6655\n",
            "Epoch 22  Training Accuracy 86.1340 Validation Accuracy 86.1775\n",
            "Epoch 23  Training Accuracy 86.6334 Validation Accuracy 85.6655\n",
            "Epoch 24  Training Accuracy 86.4865 Validation Accuracy 84.4710\n",
            "Epoch 25  Training Accuracy 86.8243 Validation Accuracy 84.9829\n",
            "Epoch 26  Training Accuracy 86.6921 Validation Accuracy 85.3242\n",
            "Epoch 27  Training Accuracy 86.4571 Validation Accuracy 85.4949\n",
            "Epoch 28  Training Accuracy 86.6921 Validation Accuracy 85.4949\n",
            "Epoch 29  Training Accuracy 86.3543 Validation Accuracy 84.8123\n",
            "Epoch 30  Training Accuracy 86.3837 Validation Accuracy 85.4949\n",
            "Epoch 31  Training Accuracy 86.8831 Validation Accuracy 84.1297\n",
            "Epoch 32  Training Accuracy 86.9125 Validation Accuracy 86.0068\n",
            "Epoch 33  Training Accuracy 87.1622 Validation Accuracy 86.3481\n",
            "Epoch 34  Training Accuracy 87.4559 Validation Accuracy 86.5188\n",
            "Epoch 35  Training Accuracy 87.2356 Validation Accuracy 85.4949\n",
            "Epoch 36  Training Accuracy 87.1475 Validation Accuracy 84.9829\n",
            "Epoch 37  Training Accuracy 87.2944 Validation Accuracy 86.0068\n",
            "Epoch 38  Training Accuracy 87.1769 Validation Accuracy 86.6894\n",
            "Epoch 39  Training Accuracy 87.3090 Validation Accuracy 84.3003\n",
            "Epoch 40  Training Accuracy 87.0300 Validation Accuracy 86.6894\n",
            "Epoch 41  Training Accuracy 87.2797 Validation Accuracy 85.4949\n",
            "Epoch 42  Training Accuracy 87.3678 Validation Accuracy 85.1536\n",
            "Epoch 43  Training Accuracy 87.0887 Validation Accuracy 86.1775\n",
            "Epoch 44  Training Accuracy 87.3237 Validation Accuracy 85.6655\n",
            "Epoch 45  Training Accuracy 87.2356 Validation Accuracy 86.6894\n",
            "Epoch 46  Training Accuracy 87.3384 Validation Accuracy 85.6655\n",
            "Epoch 47  Training Accuracy 87.2944 Validation Accuracy 85.4949\n",
            "Epoch 48  Training Accuracy 87.4266 Validation Accuracy 85.4949\n",
            "Epoch 49  Training Accuracy 86.9271 Validation Accuracy 86.5188\n",
            "Epoch 50  Training Accuracy 87.3384 Validation Accuracy 86.1775\n",
            "Epoch 51  Training Accuracy 87.7644 Validation Accuracy 85.6655\n",
            "Epoch 52  Training Accuracy 87.2503 Validation Accuracy 85.4949\n",
            "Epoch 53  Training Accuracy 87.6469 Validation Accuracy 85.4949\n",
            "Epoch 54  Training Accuracy 87.4853 Validation Accuracy 85.1536\n",
            "Epoch 55  Training Accuracy 87.2062 Validation Accuracy 86.6894\n",
            "Epoch 56  Training Accuracy 87.3678 Validation Accuracy 85.1536\n",
            "Epoch 57  Training Accuracy 87.4119 Validation Accuracy 84.9829\n",
            "Epoch 58  Training Accuracy 87.3678 Validation Accuracy 84.9829\n",
            "Epoch 59  Training Accuracy 87.3090 Validation Accuracy 84.9829\n",
            "Epoch 60  Training Accuracy 87.6028 Validation Accuracy 86.3481\n",
            "Epoch 61  Training Accuracy 87.1475 Validation Accuracy 86.5188\n",
            "Epoch 62  Training Accuracy 87.1915 Validation Accuracy 86.5188\n",
            "Epoch 63  Training Accuracy 87.3384 Validation Accuracy 85.6655\n",
            "Epoch 64  Training Accuracy 87.2356 Validation Accuracy 86.0068\n",
            "Epoch 65  Training Accuracy 87.2503 Validation Accuracy 86.0068\n",
            "Epoch 66  Training Accuracy 87.3237 Validation Accuracy 85.4949\n",
            "Epoch 67  Training Accuracy 87.3678 Validation Accuracy 86.1775\n",
            "Epoch 68  Training Accuracy 87.3678 Validation Accuracy 85.6655\n",
            "Epoch 69  Training Accuracy 87.2944 Validation Accuracy 86.5188\n",
            "Epoch 70  Training Accuracy 87.9260 Validation Accuracy 86.1775\n",
            "Epoch 71  Training Accuracy 87.8378 Validation Accuracy 86.0068\n",
            "Epoch 72  Training Accuracy 87.6175 Validation Accuracy 86.0068\n",
            "Epoch 73  Training Accuracy 87.5147 Validation Accuracy 86.8601\n",
            "Epoch 74  Training Accuracy 87.4412 Validation Accuracy 86.1775\n",
            "Epoch 75  Training Accuracy 87.5441 Validation Accuracy 85.4949\n",
            "Epoch 76  Training Accuracy 87.6175 Validation Accuracy 86.3481\n",
            "Epoch 77  Training Accuracy 87.6616 Validation Accuracy 86.3481\n",
            "Epoch 78  Training Accuracy 87.6910 Validation Accuracy 86.5188\n",
            "Epoch 79  Training Accuracy 87.5588 Validation Accuracy 86.1775\n",
            "Epoch 80  Training Accuracy 87.6910 Validation Accuracy 87.0307\n",
            "Epoch 81  Training Accuracy 87.6616 Validation Accuracy 86.3481\n",
            "Epoch 82  Training Accuracy 87.6469 Validation Accuracy 87.0307\n",
            "Epoch 83  Training Accuracy 87.4559 Validation Accuracy 86.0068\n",
            "Epoch 84  Training Accuracy 87.5147 Validation Accuracy 86.3481\n",
            "Epoch 85  Training Accuracy 87.4559 Validation Accuracy 86.1775\n",
            "Epoch 86  Training Accuracy 87.3090 Validation Accuracy 86.1775\n",
            "Epoch 87  Training Accuracy 87.3531 Validation Accuracy 86.6894\n",
            "Epoch 88  Training Accuracy 87.3678 Validation Accuracy 86.8601\n",
            "Epoch 89  Training Accuracy 87.5441 Validation Accuracy 86.8601\n",
            "Epoch 90  Training Accuracy 87.6028 Validation Accuracy 86.3481\n",
            "Epoch 91  Training Accuracy 87.3090 Validation Accuracy 87.0307\n",
            "Epoch 92  Training Accuracy 87.4853 Validation Accuracy 86.3481\n",
            "Epoch 93  Training Accuracy 87.2503 Validation Accuracy 86.0068\n",
            "Epoch 94  Training Accuracy 87.4853 Validation Accuracy 86.1775\n",
            "Epoch 95  Training Accuracy 87.5294 Validation Accuracy 87.2014\n",
            "Epoch 96  Training Accuracy 87.4853 Validation Accuracy 87.2014\n",
            "Epoch 97  Training Accuracy 87.6616 Validation Accuracy 86.6894\n",
            "Epoch 98  Training Accuracy 87.4266 Validation Accuracy 86.6894\n",
            "Epoch 99  Training Accuracy 87.6469 Validation Accuracy 85.8362\n",
            "Epoch 100  Training Accuracy 87.4119 Validation Accuracy 85.8362\n",
            "---- For hyperparameter tuning: ----\n",
            "mean of unclipped gradients ->  399.5\n",
            "epsilon_c:  1.2793249597092586\n",
            "Runtime(s):  267.57230043411255 Memory(MB):  6028.98828125\n",
            "Epoch 1  Training Accuracy 19.9870 Validation Accuracy 14.8110\n",
            "Epoch 2  Training Accuracy 18.5339 Validation Accuracy 36.2615\n",
            "Epoch 3  Training Accuracy 19.4162 Validation Accuracy 25.9448\n",
            "Epoch 4  Training Accuracy 20.4541 Validation Accuracy 24.3105\n",
            "Epoch 5  Training Accuracy 20.4217 Validation Accuracy 23.7998\n",
            "Epoch 6  Training Accuracy 20.6552 Validation Accuracy 24.1062\n",
            "Epoch 7  Training Accuracy 22.1927 Validation Accuracy 22.7783\n",
            "Epoch 8  Training Accuracy 22.9906 Validation Accuracy 22.2676\n",
            "Epoch 9  Training Accuracy 23.5809 Validation Accuracy 21.3483\n",
            "Epoch 10  Training Accuracy 24.0350 Validation Accuracy 22.1655\n",
            "Epoch 11  Training Accuracy 24.4762 Validation Accuracy 21.8590\n",
            "Epoch 12  Training Accuracy 24.8719 Validation Accuracy 22.1655\n",
            "Epoch 13  Training Accuracy 25.7541 Validation Accuracy 20.3269\n",
            "Epoch 14  Training Accuracy 26.1758 Validation Accuracy 24.3105\n",
            "Epoch 15  Training Accuracy 25.6503 Validation Accuracy 23.9019\n",
            "Epoch 16  Training Accuracy 26.4353 Validation Accuracy 21.6547\n",
            "Epoch 17  Training Accuracy 27.1424 Validation Accuracy 23.9019\n",
            "Epoch 18  Training Accuracy 26.7078 Validation Accuracy 24.7191\n",
            "Epoch 19  Training Accuracy 26.8310 Validation Accuracy 24.5148\n",
            "Epoch 20  Training Accuracy 26.6104 Validation Accuracy 25.2298\n",
            "Epoch 21  Training Accuracy 26.6429 Validation Accuracy 24.6170\n",
            "Epoch 22  Training Accuracy 26.6234 Validation Accuracy 24.6170\n",
            "Epoch 23  Training Accuracy 26.4288 Validation Accuracy 26.1491\n",
            "Epoch 24  Training Accuracy 26.2991 Validation Accuracy 25.1277\n",
            "Epoch 25  Training Accuracy 26.5002 Validation Accuracy 26.2513\n",
            "Epoch 26  Training Accuracy 26.7726 Validation Accuracy 25.6384\n",
            "Epoch 27  Training Accuracy 26.9218 Validation Accuracy 26.0470\n",
            "Epoch 28  Training Accuracy 26.7402 Validation Accuracy 27.0684\n",
            "Epoch 29  Training Accuracy 27.0710 Validation Accuracy 26.9663\n",
            "Epoch 30  Training Accuracy 26.9218 Validation Accuracy 26.6599\n",
            "Epoch 31  Training Accuracy 26.7921 Validation Accuracy 26.8641\n",
            "Epoch 32  Training Accuracy 26.7467 Validation Accuracy 27.6813\n",
            "Epoch 33  Training Accuracy 26.4937 Validation Accuracy 28.3963\n",
            "Epoch 34  Training Accuracy 26.9348 Validation Accuracy 26.8641\n",
            "Epoch 35  Training Accuracy 26.9543 Validation Accuracy 26.8641\n",
            "Epoch 36  Training Accuracy 27.0451 Validation Accuracy 26.8641\n",
            "Epoch 37  Training Accuracy 26.7207 Validation Accuracy 26.2513\n",
            "Epoch 38  Training Accuracy 27.0256 Validation Accuracy 26.3534\n",
            "Epoch 39  Training Accuracy 26.9089 Validation Accuracy 26.7620\n",
            "Epoch 40  Training Accuracy 26.7078 Validation Accuracy 26.6599\n",
            "Epoch 41  Training Accuracy 26.6948 Validation Accuracy 26.3534\n",
            "Epoch 42  Training Accuracy 26.9867 Validation Accuracy 27.7835\n",
            "Epoch 43  Training Accuracy 26.9672 Validation Accuracy 27.4770\n",
            "Epoch 44  Training Accuracy 26.9089 Validation Accuracy 26.3534\n",
            "Epoch 45  Training Accuracy 26.7856 Validation Accuracy 27.5792\n",
            "Epoch 46  Training Accuracy 27.2267 Validation Accuracy 27.7835\n",
            "Epoch 47  Training Accuracy 26.7596 Validation Accuracy 27.7835\n",
            "Epoch 48  Training Accuracy 26.5780 Validation Accuracy 26.4556\n",
            "Epoch 49  Training Accuracy 26.8245 Validation Accuracy 26.9663\n",
            "Epoch 50  Training Accuracy 26.6948 Validation Accuracy 27.0684\n",
            "Epoch 51  Training Accuracy 26.8959 Validation Accuracy 27.1706\n",
            "Epoch 52  Training Accuracy 26.8959 Validation Accuracy 25.8427\n",
            "Epoch 53  Training Accuracy 26.7078 Validation Accuracy 26.0470\n",
            "Epoch 54  Training Accuracy 27.0581 Validation Accuracy 27.1706\n",
            "Epoch 55  Training Accuracy 26.8440 Validation Accuracy 26.1491\n",
            "Epoch 56  Training Accuracy 26.9153 Validation Accuracy 26.9663\n",
            "Epoch 57  Training Accuracy 26.9283 Validation Accuracy 27.3749\n",
            "Epoch 58  Training Accuracy 27.1424 Validation Accuracy 26.5577\n",
            "Epoch 59  Training Accuracy 27.2202 Validation Accuracy 26.0470\n",
            "Epoch 60  Training Accuracy 26.9543 Validation Accuracy 26.9663\n",
            "Epoch 61  Training Accuracy 27.0386 Validation Accuracy 27.1706\n",
            "Epoch 62  Training Accuracy 26.8310 Validation Accuracy 25.9448\n",
            "Epoch 63  Training Accuracy 27.4019 Validation Accuracy 26.7620\n",
            "Epoch 64  Training Accuracy 27.1294 Validation Accuracy 26.9663\n",
            "Epoch 65  Training Accuracy 27.1878 Validation Accuracy 28.4985\n",
            "Epoch 66  Training Accuracy 27.1100 Validation Accuracy 27.6813\n",
            "Epoch 67  Training Accuracy 27.1424 Validation Accuracy 26.9663\n",
            "Epoch 68  Training Accuracy 27.0581 Validation Accuracy 27.1706\n",
            "Epoch 69  Training Accuracy 27.0256 Validation Accuracy 27.8856\n",
            "Epoch 70  Training Accuracy 27.0062 Validation Accuracy 27.3749\n",
            "Epoch 71  Training Accuracy 27.1294 Validation Accuracy 27.6813\n",
            "Epoch 72  Training Accuracy 27.1229 Validation Accuracy 28.4985\n",
            "Epoch 73  Training Accuracy 27.2332 Validation Accuracy 28.0899\n",
            "Epoch 74  Training Accuracy 27.0581 Validation Accuracy 27.3749\n",
            "Epoch 75  Training Accuracy 27.1878 Validation Accuracy 27.6813\n",
            "Epoch 76  Training Accuracy 27.0970 Validation Accuracy 27.9877\n",
            "Epoch 77  Training Accuracy 27.3370 Validation Accuracy 28.1920\n",
            "Epoch 78  Training Accuracy 27.3630 Validation Accuracy 27.6813\n",
            "Epoch 79  Training Accuracy 27.2073 Validation Accuracy 26.8641\n",
            "Epoch 80  Training Accuracy 26.9478 Validation Accuracy 26.8641\n",
            "Epoch 81  Training Accuracy 27.0970 Validation Accuracy 27.9877\n",
            "Epoch 82  Training Accuracy 27.1035 Validation Accuracy 27.5792\n",
            "Epoch 83  Training Accuracy 27.1489 Validation Accuracy 26.7620\n",
            "Epoch 84  Training Accuracy 27.1035 Validation Accuracy 27.7835\n",
            "Epoch 85  Training Accuracy 27.0775 Validation Accuracy 26.8641\n",
            "Epoch 86  Training Accuracy 27.2267 Validation Accuracy 27.2727\n",
            "Epoch 87  Training Accuracy 27.0256 Validation Accuracy 28.0899\n",
            "Epoch 88  Training Accuracy 26.9802 Validation Accuracy 26.9663\n",
            "Epoch 89  Training Accuracy 27.1424 Validation Accuracy 28.1920\n",
            "Epoch 90  Training Accuracy 27.3370 Validation Accuracy 27.9877\n",
            "Epoch 91  Training Accuracy 27.5446 Validation Accuracy 27.6813\n",
            "Epoch 92  Training Accuracy 27.3759 Validation Accuracy 27.2727\n",
            "Epoch 93  Training Accuracy 27.3889 Validation Accuracy 28.2942\n",
            "Epoch 94  Training Accuracy 27.8171 Validation Accuracy 27.4770\n",
            "Epoch 95  Training Accuracy 27.4213 Validation Accuracy 26.5577\n",
            "Epoch 96  Training Accuracy 27.5446 Validation Accuracy 26.8641\n",
            "Epoch 97  Training Accuracy 27.2592 Validation Accuracy 27.5792\n",
            "Epoch 98  Training Accuracy 27.5057 Validation Accuracy 27.5792\n",
            "Epoch 99  Training Accuracy 27.1683 Validation Accuracy 27.0684\n",
            "Epoch 100  Training Accuracy 27.0840 Validation Accuracy 28.6006\n",
            "---- For hyperparameter tuning: ----\n",
            "mean of unclipped gradients ->  399.5\n",
            "epsilon_k:  1.493057135321766\n",
            "Runtime(s):  380.26026463508606 Memory(MB):  6129.375\n"
          ]
        }
      ],
      "source": [
        "# train with differential privacy\n",
        "if chest_data:\n",
        "  print(\"-----Training for chest x-ray data: ------\")\n",
        "  num_classes = 2\n",
        "  batch = 100\n",
        "\n",
        "  runtime_dp_c, peak_mem_dp_c, (train_accuracies_dp_c, valid_accuracies_dp_c, predict_dp_c) = get_memory_usage_and_runtime(define_model_and_train_dp, (x_train_c, x_valid_c, y_train_c, y_valid_c, num_classes))\n",
        "  epsilon_c = get_epsilon_momentents_gaussian_dp(len(x_train_c), sigma, epochs, batch)\n",
        "  print(\"epsilon_c: \", epsilon_c)\n",
        "  print(\"Runtime(s): \", runtime_dp_c, \"Memory(MB): \", peak_mem_dp_c)\n",
        "\n",
        "if knee_data:\n",
        "  print(\"-----Training for knee x-ray data: ------\")\n",
        "  num_classes = 5\n",
        "  batch = 300\n",
        "\n",
        "  runtime_dp_k, peak_mem_dp_k, (train_accuracies_dp_k, valid_accuracies_dp_k, predict_dp_k) = get_memory_usage_and_runtime(define_model_and_train_dp, (x_train_k, x_valid_k, y_train_k, y_valid_k, num_classes))\n",
        "  epsilon_k = get_epsilon_momentents_gaussian_dp(len(x_train_k), sigma, epochs, batch)\n",
        "  print(\"epsilon_k: \", epsilon_k)\n",
        "  print(\"Runtime(s): \", runtime_dp_k, \"Memory(MB): \", peak_mem_dp_k)"
      ]
    },
    {
      "cell_type": "code",
      "execution_count": 104,
      "metadata": {
        "colab": {
          "base_uri": "https://localhost:8080/",
          "height": 573
        },
        "id": "Lq48XHa2YywJ",
        "outputId": "8a99c997-1926-4fd2-8880-5977ba60fc41"
      },
      "outputs": [
        {
          "output_type": "display_data",
          "data": {
            "text/plain": [
              "<Figure size 432x288 with 1 Axes>"
            ],
            "image/png": "[encoded data removed]"
          },
          "metadata": {
            "needs_background": "light"
          }
        },
        {
          "output_type": "display_data",
          "data": {
            "text/plain": [
              "<Figure size 432x288 with 1 Axes>"
            ],
            "image/png": "[encoded data removed]"
          },
          "metadata": {
            "needs_background": "light"
          }
        }
      ],
      "source": [
        "# plot accuracies from differentially private runs:\n",
        "if chest_data:\n",
        "  show_plot(train_accuracies_dp_c, valid_accuracies_dp_c, \"Chest X-ray\", \"Differentialy Private\")\n",
        "if knee_data:\n",
        "  show_plot(train_accuracies_dp_k, valid_accuracies_dp_k, \"Knee X-ray\", \"Differentialy Private\")"
      ]
    },
    {
      "cell_type": "code",
      "execution_count": 113,
      "metadata": {
        "colab": {
          "base_uri": "https://localhost:8080/"
        },
        "id": "XjjfyzjSY6FJ",
        "outputId": "4a0d46d7-5971-4d97-8117-b7c130e652d4"
      },
      "outputs": [
        {
          "output_type": "stream",
          "name": "stdout",
          "text": [
            "Test Accuracy of  Differentialy Private  Model for  Chest X-ray  data:  86.66666666666667\n",
            "Test Accuracy of  Differentialy Private  Model for  Knee X-ray  data:  28.220858895705522\n"
          ]
        }
      ],
      "source": [
        "# test accuracies:\n",
        "if chest_data:\n",
        "  test_accuracy_dp_c = get_test_accuracy(predict_dp_c, x_test_c, y_test_c, 'Chest X-ray', \"Differentialy Private\")\n",
        "if knee_data:\n",
        "  test_accuracy_dp_k = get_test_accuracy(predict_dp_k, x_test_k, y_test_k, 'Knee X-ray', \"Differentialy Private\")"
      ]
    },
    {
      "cell_type": "markdown",
      "source": [
        "## Save the Metrics"
      ],
      "metadata": {
        "id": "KZnV_47ru-9K"
      }
    },
    {
      "cell_type": "code",
      "source": [
        "def dump_metrics_to_json(filename, runtime, peak_mem, test_accuracy, epsilon=0, is_dp=False):\n",
        "    '''\n",
        "    dumps all the metrics from the model to a text file with the name filename\n",
        "\n",
        "    @param filename (string): filename, must end with .txt\n",
        "    @param runtime (float): runtime of training in seconds\n",
        "    @param peak_mem (float): peak memory of training in MB\n",
        "    @param epsilon (float): epsilon from gaussian DP\n",
        "    @param is_dp (boolean): true if the model had differential privacy incorporated\n",
        "    '''\n",
        "    \n",
        "    if is_dp:\n",
        "        privacy_utility = epsilon/test_accuracy\n",
        "        metrics = f\"Runtime(s): {runtime}\\nPeak Mem(MB): {peak_mem}\\nTest Accuracy: {test_accuracy}\\nEpsilon: {epsilon}\\nUtility: {privacy_utility}\"\n",
        "    else:\n",
        "        metrics = f\"Runtime(s): {runtime}\\nPeak Mem(MB): {peak_mem}\\nTest Accuracy: {test_accuracy}\"\n",
        "\n",
        "    with open(filename, 'w') as f:\n",
        "        f.write(metrics)"
      ],
      "metadata": {
        "id": "lHRMFCGEvCIy"
      },
      "execution_count": 120,
      "outputs": []
    },
    {
      "cell_type": "code",
      "source": [
        "if chest_data:\n",
        "  dump_metrics_to_json(\"tf_objax_regular_SGD_chest.txt\", runtime_regular_c, peak_mem_regular_c, test_accuracy_regular_c,)\n",
        "  dump_metrics_to_json(\"tf_objax_DP_SGD_chest.txt\", runtime_dp_c, peak_mem_dp_c, test_accuracy_dp_c, epsilon_c, is_dp=True)\n",
        "if knee_data:\n",
        "  dump_metrics_to_json(\"tf_objax_regular_SGD_knee.txt\", runtime_regular_k, peak_mem_regular_k, test_accuracy_regular_k)\n",
        "  dump_metrics_to_json(\"tf_objax_DP_SGD_knee.txt\", runtime_dp_k, peak_mem_dp_k, test_accuracy_dp_k, epsilon_k, is_dp=True)"
      ],
      "metadata": {
        "id": "ueLSdD6LvFO0"
      },
      "execution_count": 121,
      "outputs": []
    }
  ],
  "metadata": {
    "accelerator": "GPU",
    "colab": {
      "provenance": [],
      "toc_visible": true
    },
    "gpuClass": "standard",
    "kernelspec": {
      "display_name": "Jupyter Notebook",
      "language": "python",
      "name": "jupyter-notebook"
    },
    "language_info": {
      "codemirror_mode": {
        "name": "ipython",
        "version": 3
      },
      "file_extension": ".py",
      "mimetype": "text/x-python",
      "name": "python",
      "nbconvert_exporter": "python",
      "pygments_lexer": "ipython3",
      "version": "3.11.0"
    }
  },
  "nbformat": 4,
  "nbformat_minor": 0
}