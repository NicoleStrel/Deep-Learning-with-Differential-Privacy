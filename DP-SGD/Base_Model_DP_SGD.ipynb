{
  "cells": [
    {
      "cell_type": "markdown",
      "metadata": {
        "id": "4JSrfSYJo7JF"
      },
      "source": [
        "<img src=\"https://ethical-principles-in-ai.github.io/static/media/epai_logo.e502dc0cef3c434c1abf.png\" width=\"100\">"
      ]
    },
    {
      "cell_type": "markdown",
      "metadata": {
        "id": "rTtGPThhlUvB"
      },
      "source": [
        "# Deep Learning with Differential Privacy: Base Model\n",
        "\n",
        "This model provides a baseline for comparison between various differential privacy techniques. It uses the DP-SGD techqniue, as described in [Abadi et al.](https://arxiv.org/abs/1607.00133). Guassian noise is applied within SGD to ensure the model cannot be reverse engineered using inputs/outputs, which makes the model differientially private.\n",
        "\n",
        "*Written by Nicole Streltsov February 2023*"
      ]
    },
    {
      "cell_type": "code",
      "execution_count": 1,
      "metadata": {
        "colab": {
          "base_uri": "https://localhost:8080/"
        },
        "id": "KWobhPsyVHbB",
        "outputId": "32a426f7-0f8d-4265-ddd1-6bfa41598db1"
      },
      "outputs": [
        {
          "output_type": "stream",
          "name": "stdout",
          "text": [
            "3.8.10\n"
          ]
        }
      ],
      "source": [
        "#check that we are on the correct python kernel \n",
        "from platform import python_version\n",
        "print(python_version())"
      ]
    },
    {
      "cell_type": "code",
      "execution_count": 2,
      "metadata": {
        "id": "00pnurrnlT-K",
        "colab": {
          "base_uri": "https://localhost:8080/"
        },
        "outputId": "c85e683f-f0f7-4f65-8098-94ffcb2bf80b"
      },
      "outputs": [
        {
          "output_type": "stream",
          "name": "stdout",
          "text": [
            "\u001b[?25l     \u001b[90m━━━━━━━━━━━━━━━━━━━━━━━━━━━━━━━━━━━━━━━━\u001b[0m \u001b[32m0.0/57.4 KB\u001b[0m \u001b[31m?\u001b[0m eta \u001b[36m-:--:--\u001b[0m\r\u001b[2K     \u001b[90m━━━━━━━━━━━━━━━━━━━━━━━━━━━━━━━━━━━━━━━━\u001b[0m \u001b[32m57.4/57.4 KB\u001b[0m \u001b[31m7.3 MB/s\u001b[0m eta \u001b[36m0:00:00\u001b[0m\n",
            "\u001b[?25h  Preparing metadata (setup.py) ... \u001b[?25l\u001b[?25hdone\n",
            "  Building wheel for objax (setup.py) ... \u001b[?25l\u001b[?25hdone\n"
          ]
        }
      ],
      "source": [
        "# imports\n",
        "!pip --quiet install  objax # only for google colab\n",
        "import jax\n",
        "import jax.numpy as jn\n",
        "import objax # to define a custom model with more control\n",
        "import tensorflow as tf \n",
        "from sklearn.utils import shuffle\n",
        "from sklearn.model_selection import train_test_split\n",
        "import matplotlib.pyplot as plt\n",
        "import numpy as np\n",
        "import pickle\n",
        "import os\n",
        "import gzip"
      ]
    },
    {
      "cell_type": "markdown",
      "metadata": {
        "id": "VCsxyXdkQ_uU"
      },
      "source": [
        "## Data, Model Creation, and Function Definitions"
      ]
    },
    {
      "cell_type": "code",
      "execution_count": 4,
      "metadata": {
        "colab": {
          "base_uri": "https://localhost:8080/"
        },
        "id": "2ceqZpR2VHbE",
        "outputId": "0990f7fa-a735-46ce-d0be-48121e21162f"
      },
      "outputs": [
        {
          "output_type": "stream",
          "name": "stdout",
          "text": [
            "numpy array shapes -->  (6808, 64, 64, 3) (586, 64, 64, 3) (585, 64, 64, 3) (6808, 1) (586, 1) (585, 1)\n"
          ]
        }
      ],
      "source": [
        "#load from compressed pickle files\n",
        "path = '' # 'chest-data #os.path.join(os.path.dirname(os.getcwd()), 'chest-data')\n",
        "\n",
        "with gzip.open(os.path.join(path, 'chest_x_train.gz'), 'rb') as i:\n",
        "    x_train = pickle.load(i)\n",
        "with gzip.open(os.path.join(path, 'chest_x_val.gz'), 'rb') as i:\n",
        "    x_valid = pickle.load(i)    \n",
        "with gzip.open(os.path.join(path, 'chest_x_test.gz'), 'rb') as i:\n",
        "    x_test = pickle.load(i)  \n",
        "with gzip.open(os.path.join(path, 'chest_y_train.gz'), 'rb') as i:\n",
        "    y_train = pickle.load(i)  \n",
        "with gzip.open(os.path.join(path, 'chest_y_val.gz'), 'rb') as i:\n",
        "    y_valid = pickle.load(i) \n",
        "with gzip.open(os.path.join(path, 'chest_y_test.gz'), 'rb') as i:\n",
        "    y_test = pickle.load(i) \n",
        "        \n",
        "print(\"numpy array shapes --> \", x_train.shape, x_valid.shape, x_test.shape, y_train.shape, y_valid.shape, y_test.shape)             "
      ]
    },
    {
      "cell_type": "code",
      "execution_count": 5,
      "metadata": {
        "id": "TLUSwK0Lm_XO"
      },
      "outputs": [],
      "source": [
        "## Dummy dataset - cifar 10 for temporary testing\n",
        "# # load data\n",
        "# (x_train, y_train), (x_test, y_test) = tf.keras.datasets.cifar10.load_data() # dataset of 60000 32x32 coloured images\n",
        "\n",
        "# print(x_test.shape, y_test.shape)\n",
        "# x = np.concatenate([x_train, x_test], axis = 0)\n",
        "# y = np.concatenate([y_train, y_test], axis = 0)\n",
        "\n",
        "# # shuffle\n",
        "# x, y = shuffle(x, y, random_state=0)\n",
        "\n",
        "# # split into 80% train, 10% valid, 10% test\n",
        "# x_train, x_remaining, y_train, y_remaining = train_test_split(x, y, train_size=0.8)\n",
        "# x_valid, x_test, y_valid, y_test = train_test_split(x_remaining, y_remaining, test_size=0.5) # split remaining 20% into 10% and 10%\n",
        "\n",
        "#convert to proper format for our model\n",
        "def convert_x(x):\n",
        "  return x.transpose(0, 3, 1, 2) / 255.0 # normalize, and ensure correct indicies for model\n",
        "\n",
        "x_train = convert_x(x_train)\n",
        "y_train = y_train.flatten()\n",
        "\n",
        "x_valid = convert_x(x_valid)\n",
        "y_valid = y_valid.flatten()\n",
        "\n",
        "x_test = convert_x(x_test)\n",
        "y_test = y_test.flatten()"
      ]
    },
    {
      "cell_type": "code",
      "execution_count": 25,
      "metadata": {
        "id": "pEgrzvAIn1AH",
        "colab": {
          "base_uri": "https://localhost:8080/",
          "height": 143
        },
        "outputId": "a1ae23a2-f85e-4d3d-94bf-edde8506dd27"
      },
      "outputs": [
        {
          "output_type": "execute_result",
          "data": {
            "text/plain": [
              "'\\nclass CNN(objax.Module):\\n  def __init__(self, channels, classes, size, kernel):\\n    self.conv1 = objax.nn.Sequential([objax.nn.Conv2D(channels, size, kernel), objax.functional.relu])\\n    self.conv2 = objax.nn.Sequential([objax.nn.Conv2D(size, 512, kernel), objax.functional.relu])\\n    self.fc1 = objax.nn.Sequential([objax.nn.Linear(512, 70), objax.functional.relu])\\n    self.fc2 = objax.nn.Sequential([objax.nn.Linear(70, 8), objax.functional.relu])\\n    self.fc3 = objax.nn.Linear(8, classes)\\n\\n  def __call__(self, x):\\n    x = objax.functional.max_pool_2d(self.conv1(x), 2, 2)\\n    x = self.conv2(x)\\n    x = x.mean((2,3)) #global average pooling \\n    x = self.fc1(x)\\n    x = self.fc2(x)\\n    x = self.fc3(x)\\n    return x\\n'"
            ],
            "application/vnd.google.colaboratory.intrinsic+json": {
              "type": "string"
            }
          },
          "metadata": {},
          "execution_count": 25
        }
      ],
      "source": [
        "# define cnn\n",
        "class CNN(objax.Module):\n",
        "  def __init__(self, channels, classes, size, kernel=3):\n",
        "    self.conv1 = objax.nn.Sequential([objax.nn.Conv2D(channels, size, kernel), objax.functional.relu])\n",
        "    self.conv2 = objax.nn.Sequential([objax.nn.Conv2D(size, 32, kernel), objax.functional.relu])\n",
        "    self.fc1 = objax.nn.Sequential([objax.nn.Linear(8192, 128), objax.functional.relu])\n",
        "    #self.fc2 = objax.nn.Sequential([objax.nn.Linear(128, classes), objax.functional.sigmoid])\n",
        "    self.fc2 = objax.nn.Linear(128, classes)\n",
        "\n",
        "  def __call__(self, x):\n",
        "    x = objax.functional.max_pool_2d(self.conv1(x), 2, 2)\n",
        "    x = objax.functional.max_pool_2d(self.conv2(x), 2, 2)\n",
        "    x = objax.functional.flatten(x)\n",
        "    x = self.fc1(x)\n",
        "    x = self.fc2(x)\n",
        "    return x\n",
        "\n",
        "\n",
        "\n",
        "'''\n",
        "class CNN(objax.Module):\n",
        "  def __init__(self, channels, classes, size, kernel):\n",
        "    self.conv1 = objax.nn.Sequential([objax.nn.Conv2D(channels, size, kernel), objax.functional.relu])\n",
        "    self.conv2 = objax.nn.Sequential([objax.nn.Conv2D(size, 512, kernel), objax.functional.relu])\n",
        "    self.fc1 = objax.nn.Sequential([objax.nn.Linear(512, 70), objax.functional.relu])\n",
        "    self.fc2 = objax.nn.Sequential([objax.nn.Linear(70, 8), objax.functional.relu])\n",
        "    self.fc3 = objax.nn.Linear(8, classes)\n",
        "\n",
        "  def __call__(self, x):\n",
        "    x = objax.functional.max_pool_2d(self.conv1(x), 2, 2)\n",
        "    x = self.conv2(x)\n",
        "    x = x.mean((2,3)) #global average pooling \n",
        "    x = self.fc1(x)\n",
        "    x = self.fc2(x)\n",
        "    x = self.fc3(x)\n",
        "    return x\n",
        "'''\n"
      ]
    },
    {
      "cell_type": "code",
      "execution_count": 26,
      "metadata": {
        "colab": {
          "base_uri": "https://localhost:8080/",
          "height": 305
        },
        "id": "v43qz6hAnEXE",
        "outputId": "ed72807a-a611-454e-e876-e4af5fea9ad2"
      },
      "outputs": [
        {
          "output_type": "execute_result",
          "data": {
            "text/plain": [
              "<matplotlib.image.AxesImage at 0x7f976e4e4d90>"
            ]
          },
          "metadata": {},
          "execution_count": 26
        },
        {
          "output_type": "display_data",
          "data": {
            "text/plain": [
              "<Figure size 432x288 with 0 Axes>"
            ]
          },
          "metadata": {}
        },
        {
          "output_type": "display_data",
          "data": {
            "text/plain": [
              "<Figure size 432x288 with 3 Axes>"
            ],
            "image/png": "[encoded data removed]"
          },
          "metadata": {
            "needs_background": "light"
          }
        }
      ],
      "source": [
        "# show preview of dataset images\n",
        "plt.figure()\n",
        "f, axarr = plt.subplots(3,1) \n",
        "axarr[0].imshow(x_train[0].transpose(1,2,0))\n",
        "axarr[1].imshow(x_valid[0].transpose(1,2,0))\n",
        "axarr[2].imshow(x_test[0].transpose(1,2,0))"
      ]
    },
    {
      "cell_type": "code",
      "execution_count": 27,
      "metadata": {
        "id": "HdvTNLnT450u"
      },
      "outputs": [],
      "source": [
        "#training loop helper function\n",
        "def train_per_batch(x, y, lr, batch, train_op, predict):\n",
        "  acc = 0\n",
        "  shuffle_indicies = np.arange(len(x))\n",
        "  np.random.shuffle(shuffle_indicies) #shuffle before running batches to remove correlation\n",
        "\n",
        "  for i in range(0, x.shape[0], batch):\n",
        "      batch_idxs = shuffle_indicies[i:i+batch]\n",
        "\n",
        "      #run train_op step\n",
        "      loss = float(train_op(x[batch_idxs], y[batch_idxs], lr)[0]) * len(batch_idxs)\n",
        "      \n",
        "      #store accuracy\n",
        "      acc += (np.array(predict(x[batch_idxs]).argmax(1)).flatten() == y[batch_idxs]).sum()\n",
        "\n",
        "  return acc\n",
        "\n",
        "#training loop\n",
        "def train(epochs, batch, lr, x_train, x_valid, y_train, y_valid, train_op, predict):\n",
        "  train_accuracies = []\n",
        "  valid_accuracies = []\n",
        "\n",
        "  for epoch in range(1, epochs+1):\n",
        "      train_loss = []\n",
        "      valid_loss = []\n",
        "\n",
        "      # batch training\n",
        "      avg_train_acc = train_per_batch(x_train, y_train, lr, batch, train_op, predict) / x_train.shape[0]\n",
        "      train_accuracies.append(avg_train_acc)\n",
        "      \n",
        "      # batch validation \n",
        "      avg_val_acc = train_per_batch(x_valid, y_valid, lr, batch, train_op, predict) / x_valid.shape[0]\n",
        "      valid_accuracies.append(avg_val_acc)\n",
        "\n",
        "      print('Epoch %d  Training Accuracy %.4f Validation Accuracy %.4f' % (epoch, avg_train_acc*100, avg_val_acc*100))\n",
        "    \n",
        "  return train_accuracies, valid_accuracies"
      ]
    },
    {
      "cell_type": "markdown",
      "metadata": {
        "id": "Sx9ytkpaROBn"
      },
      "source": [
        "## Train Regular CNN"
      ]
    },
    {
      "cell_type": "code",
      "execution_count": 38,
      "metadata": {
        "id": "cSvlFDT_aJ59"
      },
      "outputs": [],
      "source": [
        "# hyperparameters\n",
        "epochs = 20\n",
        "batch = 100\n",
        "lr = 0.001\n",
        "chest_ds_size = 64 #h/w of images in chest dataset"
      ]
    },
    {
      "cell_type": "code",
      "execution_count": 39,
      "metadata": {
        "id": "mGWKDLHu0rdJ"
      },
      "outputs": [],
      "source": [
        "#define model\n",
        "model_regular = CNN(channels = 3, classes = 2, size = chest_ds_size, kernel = 3) # classes = 10 for cifar10\n",
        "\n",
        "#define loss\n",
        "def loss_fn_regular(x, y):\n",
        "    return objax.functional.loss.cross_entropy_logits_sparse(model_regular(x), y).mean()\n",
        "\n",
        "#define prediction function (to get results of model training)\n",
        "predict_regular = objax.Jit(lambda x: objax.functional.softmax(model_regular(x)), model_regular.vars())\n",
        "\n",
        "# define 'forward' operation.\n",
        "gv_regular = objax.GradValues(loss_fn_regular, model_regular.vars()) #function that calculates gradient\n",
        "tv_regular = objax.ModuleList(objax.TrainRef(x) for x in model_regular.vars().subset(objax.TrainVar)) #trainable variables\n",
        "\n",
        "def train_op_regular(x, y, lr):\n",
        "    g, v = gv_regular(x, y) # apply gradient\n",
        "    \n",
        "    # ** optimzer: SGD **\n",
        "    for grad, params in zip(g, tv_regular.vars()):\n",
        "      params.value -= jn.multiply(grad, lr) #jax speeds up computation\n",
        "\n",
        "    return v # v is the loss\n",
        "\n",
        "train_op_regular = objax.Jit(train_op_regular, gv_regular.vars() + tv_regular.vars()) # compile train_op to make it faster"
      ]
    },
    {
      "cell_type": "code",
      "execution_count": 40,
      "metadata": {
        "id": "y1rAgia_QvKj",
        "colab": {
          "base_uri": "https://localhost:8080/"
        },
        "outputId": "ecc474de-797e-494c-c5a4-14d47d627f44"
      },
      "outputs": [
        {
          "output_type": "stream",
          "name": "stdout",
          "text": [
            "Epoch 1  Training Accuracy 65.8343 Validation Accuracy 73.8908\n",
            "Epoch 2  Training Accuracy 74.0306 Validation Accuracy 74.4027\n",
            "Epoch 3  Training Accuracy 79.0247 Validation Accuracy 75.0853\n",
            "Epoch 4  Training Accuracy 83.2256 Validation Accuracy 78.1570\n",
            "Epoch 5  Training Accuracy 85.5905 Validation Accuracy 79.0102\n",
            "Epoch 6  Training Accuracy 88.3226 Validation Accuracy 82.7645\n",
            "Epoch 7  Training Accuracy 90.2027 Validation Accuracy 86.3481\n",
            "Epoch 8  Training Accuracy 91.0253 Validation Accuracy 86.8601\n",
            "Epoch 9  Training Accuracy 91.7009 Validation Accuracy 89.0785\n",
            "Epoch 10  Training Accuracy 92.1269 Validation Accuracy 89.2491\n",
            "Epoch 11  Training Accuracy 92.3032 Validation Accuracy 89.0785\n",
            "Epoch 12  Training Accuracy 92.7438 Validation Accuracy 90.6143\n",
            "Epoch 13  Training Accuracy 92.9054 Validation Accuracy 91.6382\n",
            "Epoch 14  Training Accuracy 93.1110 Validation Accuracy 92.1502\n",
            "Epoch 15  Training Accuracy 93.0082 Validation Accuracy 91.4676\n",
            "Epoch 16  Training Accuracy 93.4048 Validation Accuracy 92.6621\n",
            "Epoch 17  Training Accuracy 93.6692 Validation Accuracy 90.7850\n",
            "Epoch 18  Training Accuracy 93.7280 Validation Accuracy 93.1741\n",
            "Epoch 19  Training Accuracy 93.6692 Validation Accuracy 93.6860\n",
            "Epoch 20  Training Accuracy 94.0071 Validation Accuracy 93.0034\n"
          ]
        }
      ],
      "source": [
        "# train without differential privacy (dp)\n",
        "train_accuracies_regular, valid_accuracies_regular = train(epochs, batch, lr, x_train, x_valid, y_train, y_valid, train_op_regular, predict_regular)"
      ]
    },
    {
      "cell_type": "code",
      "execution_count": 33,
      "metadata": {
        "colab": {
          "base_uri": "https://localhost:8080/",
          "height": 295
        },
        "id": "mfYgUE6ZYHFO",
        "outputId": "c0ee3fef-5ef1-4171-8df1-5d9eaaa6fd4d"
      },
      "outputs": [
        {
          "output_type": "display_data",
          "data": {
            "text/plain": [
              "<Figure size 432x288 with 1 Axes>"
            ],
            "image/png": "[encoded data removed]"
          },
          "metadata": {
            "needs_background": "light"
          }
        }
      ],
      "source": [
        "plt.title(\"Training and Validation Accuracies of Regular CNN\")\n",
        "plt.plot(train_accuracies_regular, label=\"Train\")\n",
        "plt.plot(valid_accuracies_regular, label=\"Validation\")\n",
        "plt.xlabel(\"Epoch\")\n",
        "plt.ylabel(\"Accuracy (%)\")\n",
        "plt.legend(loc='best')\n",
        "plt.show()"
      ]
    },
    {
      "cell_type": "code",
      "execution_count": 41,
      "metadata": {
        "colab": {
          "base_uri": "https://localhost:8080/"
        },
        "id": "QSgSLVcxXdm8",
        "outputId": "da4317ca-e169-429e-bbab-d01425424824"
      },
      "outputs": [
        {
          "output_type": "stream",
          "name": "stdout",
          "text": [
            "Test Accuracy of Regular Model:  91.11111111111111\n"
          ]
        }
      ],
      "source": [
        "test_accuracy_regular = (np.array(predict_regular(x_test).argmax(1)).flatten() == y_test).sum()\n",
        "print(\"Test Accuracy of Regular Model: \", 100*test_accuracy_regular/x_test.shape[0])"
      ]
    },
    {
      "cell_type": "markdown",
      "metadata": {
        "id": "5sr9fXeiRoui"
      },
      "source": [
        "## Train CNN with Differential Privacy\n",
        "\n",
        "In train_op_dp, add gaussian noise and gradient clipping\n"
      ]
    },
    {
      "cell_type": "code",
      "execution_count": 52,
      "metadata": {
        "id": "0zMhovEUaPbr"
      },
      "outputs": [],
      "source": [
        "# hyperparameters\n",
        "epochs = 20\n",
        "batch = 100\n",
        "lr = 0.001\n",
        "sigma = 4 # noise scale\n",
        "C = 80 # gradient norm (Best C = median of the norms of the unclipped gradients) - mean was 79.5 after running with C=100\n",
        "L = int(np.sqrt(len(x_train))) # L = √ N is the best group size"
      ]
    },
    {
      "cell_type": "code",
      "execution_count": 53,
      "metadata": {
        "id": "gsOu1Iz4SssE"
      },
      "outputs": [],
      "source": [
        "#define model\n",
        "model_dp = CNN(channels = 3, classes = 2, size = chest_ds_size, kernel = 3)\n",
        "\n",
        "#define loss\n",
        "def loss_fn_dp(x, y):\n",
        "    return objax.functional.loss.cross_entropy_logits_sparse(model_dp(x), y).mean()\n",
        "\n",
        "#define prediction function (to get results of model training)\n",
        "predict_dp = objax.Jit(lambda x: objax.functional.softmax(model_dp(x)), model_dp.vars())\n",
        "\n",
        "# define 'forward' operation.\n",
        "gv_dp = objax.GradValues(loss_fn_dp, model_dp.vars()) #dictionary that stores gradients\n",
        "tv_dp = objax.ModuleList(objax.TrainRef(x) for x in model_dp.vars().subset(objax.TrainVar)) #trainable variables\n",
        "unclipped_grad = jn.arange(len(tv_dp.vars())*epochs) #store in list, to find best C\n",
        "\n",
        "def train_op_dp(x, y, lr):\n",
        "    g, v = gv_dp(x, y) # apply gradient\n",
        "\n",
        "    # ** optimzer: DP-SGD **\n",
        "\n",
        "    i = 0 # which model variable\n",
        "    for grad, params in zip(g, tv_dp.vars()):\n",
        "\n",
        "      # get random \"lot (L)\" of examples to add noise to:\n",
        "      lot_idxs = np.random.choice(len(x), L)\n",
        "      g_lot, __ = gv_dp(x[lot_idxs], y[lot_idxs]) #get grad only for lot\n",
        "      grad = g_lot[i]\n",
        "    \n",
        "      #gradient clipping\n",
        "      norm = jn.linalg.norm(grad)\n",
        "      unclipped_grad.at[i].set(norm) #store unlcipped gradients\n",
        "      grad_clipped = grad / jn.maximum(jn.empty(jn.shape(norm)) + 1, norm/C)\n",
        "\n",
        "      #apply guassian\n",
        "      mu = 0\n",
        "      std = sigma*C\n",
        "      key = jax.random.PRNGKey(0) # to ensure guassian stays the same for all runs\n",
        "      guassian = mu + std * jax.random.normal(key, jn.shape(grad_clipped))\n",
        "      grad_w_guassian = jn.multiply(1/L, jn.add(grad_clipped, guassian))\n",
        "      \n",
        "      #update params\n",
        "      params.value -= jn.multiply(grad_clipped, lr) \n",
        "\n",
        "      i+=1\n",
        "\n",
        "    return v # v is the loss\n",
        "\n",
        "train_op_dp = objax.Jit(train_op_dp, gv_dp.vars() + tv_dp.vars()) # compile train_op to make it faste"
      ]
    },
    {
      "cell_type": "code",
      "execution_count": 54,
      "metadata": {
        "colab": {
          "base_uri": "https://localhost:8080/"
        },
        "id": "tPQUk2vCRc7G",
        "outputId": "da7ff103-b179-497c-96cc-a84e0acdf979"
      },
      "outputs": [
        {
          "output_type": "stream",
          "name": "stdout",
          "text": [
            "Epoch 1  Training Accuracy 71.5041 Validation Accuracy 74.4027\n",
            "Epoch 2  Training Accuracy 76.5276 Validation Accuracy 76.4505\n",
            "Epoch 3  Training Accuracy 81.8743 Validation Accuracy 74.9147\n",
            "Epoch 4  Training Accuracy 85.8549 Validation Accuracy 82.4232\n",
            "Epoch 5  Training Accuracy 88.8367 Validation Accuracy 84.8123\n",
            "Epoch 6  Training Accuracy 89.6298 Validation Accuracy 85.8362\n",
            "Epoch 7  Training Accuracy 91.1575 Validation Accuracy 89.5904\n",
            "Epoch 8  Training Accuracy 91.0840 Validation Accuracy 89.5904\n",
            "Epoch 9  Training Accuracy 91.2309 Validation Accuracy 90.1024\n",
            "Epoch 10  Training Accuracy 92.4060 Validation Accuracy 91.9795\n",
            "Epoch 11  Training Accuracy 92.0828 Validation Accuracy 92.1502\n",
            "Epoch 12  Training Accuracy 92.2885 Validation Accuracy 91.9795\n",
            "Epoch 13  Training Accuracy 92.9935 Validation Accuracy 93.3447\n",
            "Epoch 14  Training Accuracy 93.1992 Validation Accuracy 93.1741\n",
            "Epoch 15  Training Accuracy 93.1992 Validation Accuracy 90.9556\n",
            "Epoch 16  Training Accuracy 93.3020 Validation Accuracy 92.3208\n",
            "Epoch 17  Training Accuracy 92.8173 Validation Accuracy 91.8089\n",
            "Epoch 18  Training Accuracy 93.7280 Validation Accuracy 91.4676\n",
            "Epoch 19  Training Accuracy 93.9042 Validation Accuracy 92.4915\n",
            "Epoch 20  Training Accuracy 92.9348 Validation Accuracy 91.8089\n",
            "---- For hyperparameter tuning: ----\n",
            "mean of unclipped gradients ->  79.5\n"
          ]
        }
      ],
      "source": [
        "# train with differential privacy\n",
        "train_accuracies_dp, valid_accuracies_dp = train(epochs, batch, lr, x_train, x_valid, y_train, y_valid, train_op_dp, predict_dp)\n",
        "\n",
        "print (\"---- For hyperparameter tuning: ----\")\n",
        "print(\"mean of unclipped gradients -> \", jn.mean(unclipped_grad))"
      ]
    },
    {
      "cell_type": "code",
      "execution_count": 55,
      "metadata": {
        "colab": {
          "base_uri": "https://localhost:8080/",
          "height": 295
        },
        "id": "Lq48XHa2YywJ",
        "outputId": "5ba8c712-7b21-4da9-8923-ccb308148062"
      },
      "outputs": [
        {
          "output_type": "display_data",
          "data": {
            "text/plain": [
              "<Figure size 432x288 with 1 Axes>"
            ],
            "image/png": "[encoded data removed]"
          },
          "metadata": {
            "needs_background": "light"
          }
        }
      ],
      "source": [
        "plt.title(\"Training and Validation Accuracies of Differentialy Private CNN\")\n",
        "plt.plot(train_accuracies_dp, label=\"Train\")\n",
        "plt.plot(valid_accuracies_dp, label=\"Validation\")\n",
        "plt.xlabel(\"Epoch\")\n",
        "plt.ylabel(\"Accuracy (%)\")\n",
        "plt.legend(loc='best')\n",
        "plt.show()"
      ]
    },
    {
      "cell_type": "code",
      "execution_count": 56,
      "metadata": {
        "colab": {
          "base_uri": "https://localhost:8080/"
        },
        "id": "XjjfyzjSY6FJ",
        "outputId": "7c752ddf-b3b3-4d57-f4d0-a05fd44f0387"
      },
      "outputs": [
        {
          "output_type": "stream",
          "name": "stdout",
          "text": [
            "Test Accuracy of Regular Model:  93.16239316239316\n"
          ]
        }
      ],
      "source": [
        "test_accuracy_dp = (np.array(predict_dp(x_test).argmax(1)).flatten() == y_test).sum()\n",
        "print(\"Test Accuracy of Regular Model: \", 100*test_accuracy_dp/x_test.shape[0])"
      ]
    }
  ],
  "metadata": {
    "accelerator": "GPU",
    "colab": {
      "provenance": []
    },
    "gpuClass": "standard",
    "kernelspec": {
      "display_name": "Jupyter Notebook",
      "language": "python",
      "name": "jupyter-notebook"
    },
    "language_info": {
      "codemirror_mode": {
        "name": "ipython",
        "version": 3
      },
      "file_extension": ".py",
      "mimetype": "text/x-python",
      "name": "python",
      "nbconvert_exporter": "python",
      "pygments_lexer": "ipython3",
      "version": "3.11.0"
    }
  },
  "nbformat": 4,
  "nbformat_minor": 0
}