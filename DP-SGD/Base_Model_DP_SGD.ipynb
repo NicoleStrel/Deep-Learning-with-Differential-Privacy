{
  "cells": [
    {
      "cell_type": "markdown",
      "metadata": {
        "id": "4JSrfSYJo7JF"
      },
      "source": [
        "<img src=\"https://ethical-principles-in-ai.github.io/static/media/epai_logo.e502dc0cef3c434c1abf.png\" width=\"100\">"
      ]
    },
    {
      "cell_type": "markdown",
      "metadata": {
        "id": "rTtGPThhlUvB"
      },
      "source": [
        "# Deep Learning with Differential Privacy: Base Model\n",
        "\n",
        "This model provides a baseline for comparison between various differential privacy techniques. It uses the DP-SGD techqniue, as described in [Abadi et al.](https://arxiv.org/abs/1607.00133). Guassian noise is applied within SGD to ensure the model cannot be reverse engineered using inputs/outputs, which makes the model differientially private.\n",
        "\n",
        "*Written by Nicole Streltsov February - March 2023*"
      ]
    },
    {
      "cell_type": "code",
      "execution_count": 1,
      "metadata": {
        "colab": {
          "base_uri": "https://localhost:8080/"
        },
        "id": "KWobhPsyVHbB",
        "outputId": "bd641057-7411-49f6-dd54-68a7de3d55c1"
      },
      "outputs": [
        {
          "output_type": "stream",
          "name": "stdout",
          "text": [
            "3.9.16\n"
          ]
        }
      ],
      "source": [
        "#check that we are on the correct python kernel \n",
        "from platform import python_version\n",
        "print(python_version())"
      ]
    },
    {
      "cell_type": "code",
      "execution_count": 2,
      "metadata": {
        "id": "00pnurrnlT-K",
        "colab": {
          "base_uri": "https://localhost:8080/"
        },
        "outputId": "a58e4c34-38fb-4079-ec16-b9a271f95b7f"
      },
      "outputs": [
        {
          "output_type": "stream",
          "name": "stdout",
          "text": [
            "\u001b[?25l     \u001b[90m━━━━━━━━━━━━━━━━━━━━━━━━━━━━━━━━━━━━━━━━\u001b[0m \u001b[32m0.0/57.4 KB\u001b[0m \u001b[31m?\u001b[0m eta \u001b[36m-:--:--\u001b[0m\r\u001b[2K     \u001b[90m━━━━━━━━━━━━━━━━━━━━━━━━━━━━━━━━━━━━━━━━\u001b[0m \u001b[32m57.4/57.4 KB\u001b[0m \u001b[31m5.8 MB/s\u001b[0m eta \u001b[36m0:00:00\u001b[0m\n",
            "\u001b[?25h  Preparing metadata (setup.py) ... \u001b[?25l\u001b[?25hdone\n",
            "  Building wheel for objax (setup.py) ... \u001b[?25l\u001b[?25hdone\n"
          ]
        }
      ],
      "source": [
        "# imports\n",
        "!pip --quiet install  objax # only for google colab\n",
        "!pip --quiet install memory_profiler # only for google colab\n",
        "import jax\n",
        "import jax.numpy as jn\n",
        "import objax # to define a custom model with more control\n",
        "import tensorflow as tf \n",
        "from sklearn.utils import shuffle\n",
        "from sklearn.model_selection import train_test_split\n",
        "import matplotlib.pyplot as plt\n",
        "import numpy as np\n",
        "import pickle\n",
        "import os\n",
        "import gzip\n",
        "import time\n",
        "from memory_profiler import memory_usage\n",
        "# Disable absl INFO and WARNING log messages\n",
        "from absl import logging as absl_logging\n",
        "absl_logging.set_verbosity(absl_logging.ERROR)"
      ]
    },
    {
      "cell_type": "markdown",
      "metadata": {
        "id": "VCsxyXdkQ_uU"
      },
      "source": [
        "## Data Load and Model Creation"
      ]
    },
    {
      "cell_type": "code",
      "execution_count": 3,
      "metadata": {
        "id": "2ceqZpR2VHbE"
      },
      "outputs": [],
      "source": [
        "def convert_x(x):\n",
        "  '''helper function to convert numpy array to proper format'''\n",
        "  return x.transpose(0, 3, 1, 2) / 255.0 # normalize, and ensure correct indicies for model\n",
        "\n",
        "def load_from_pickle_files(prefix, path=''):\n",
        "  '''helper function to load pickle files and return the numpy arrays we need'''\n",
        "  with gzip.open(os.path.join(path, prefix + '_x_train.gz'), 'rb') as i:\n",
        "      x_train = pickle.load(i)\n",
        "  with gzip.open(os.path.join(path, prefix + '_x_val.gz'), 'rb') as i:\n",
        "      x_valid = pickle.load(i)    \n",
        "  with gzip.open(os.path.join(path, prefix + '_x_test.gz'), 'rb') as i:\n",
        "      x_test = pickle.load(i)  \n",
        "  with gzip.open(os.path.join(path, prefix + '_y_train.gz'), 'rb') as i:\n",
        "      y_train = pickle.load(i)  \n",
        "  with gzip.open(os.path.join(path, prefix + '_y_val.gz'), 'rb') as i:\n",
        "      y_valid = pickle.load(i) \n",
        "  with gzip.open(os.path.join(path, prefix + '_y_test.gz'), 'rb') as i:\n",
        "      y_test = pickle.load(i) \n",
        "    \n",
        "  x_train = convert_x(x_train)\n",
        "  y_train = y_train.flatten()\n",
        "\n",
        "  x_valid = convert_x(x_valid)\n",
        "  y_valid = y_valid.flatten()\n",
        "\n",
        "  x_test = convert_x(x_test)\n",
        "  y_test = y_test.flatten()\n",
        "\n",
        "  print(\"numpy array shapes --> \", x_train.shape, x_valid.shape, x_test.shape, y_train.shape, y_valid.shape, y_test.shape)\n",
        "\n",
        "  return x_train, x_valid, x_test, y_train, y_valid, y_test         "
      ]
    },
    {
      "cell_type": "code",
      "source": [
        "# load datasets\n",
        "\n",
        "#variables that determine if the dataset should be run\n",
        "chest_data = True\n",
        "knee_data  = True\n",
        "\n",
        "if chest_data:\n",
        "  print(\"loading chest data ...\")\n",
        "  x_train_c, x_valid_c, x_test_c, y_train_c, y_valid_c, y_test_c = load_from_pickle_files('chest')\n",
        "if knee_data:\n",
        "  print(\"loading knee data ...\")\n",
        "  x_train_k, x_valid_k, x_test_k, y_train_k, y_valid_k, y_test_k = load_from_pickle_files('knee')"
      ],
      "metadata": {
        "colab": {
          "base_uri": "https://localhost:8080/"
        },
        "id": "i3AcTWwlt7BM",
        "outputId": "35d04988-b54a-4092-9c68-12f40101aad8"
      },
      "execution_count": 17,
      "outputs": [
        {
          "output_type": "stream",
          "name": "stdout",
          "text": [
            "loading chest data ...\n",
            "numpy array shapes -->  (6808, 3, 64, 64) (586, 3, 64, 64) (585, 3, 64, 64) (6808,) (586,) (585,)\n",
            "loading knee data ...\n",
            "numpy array shapes -->  (12935, 3, 64, 64) (826, 3, 64, 64) (826, 3, 64, 64) (12935,) (826,) (826,)\n"
          ]
        }
      ]
    },
    {
      "cell_type": "code",
      "execution_count": 18,
      "metadata": {
        "id": "pEgrzvAIn1AH"
      },
      "outputs": [],
      "source": [
        "# define cnn\n",
        "class CNN(objax.Module):\n",
        "  def __init__(self, channels, classes, size, kernel=3):\n",
        "    self.conv1 = objax.nn.Sequential([objax.nn.Conv2D(channels, size, kernel), objax.functional.relu])\n",
        "    self.conv2 = objax.nn.Sequential([objax.nn.Conv2D(size, 32, kernel), objax.functional.relu])\n",
        "    self.fc1 = objax.nn.Sequential([objax.nn.Linear(8192, 64*classes), objax.functional.relu]) #128\n",
        "    self.fc2 = objax.nn.Linear(64*classes, classes)\n",
        "\n",
        "  def __call__(self, x):\n",
        "    x = objax.functional.max_pool_2d(self.conv1(x), 2, 2)\n",
        "    x = objax.functional.max_pool_2d(self.conv2(x), 2, 2)\n",
        "    x = objax.functional.flatten(x)\n",
        "    x = self.fc1(x)\n",
        "    x = self.fc2(x)\n",
        "    return x"
      ]
    },
    {
      "cell_type": "code",
      "execution_count": 19,
      "metadata": {
        "colab": {
          "base_uri": "https://localhost:8080/",
          "height": 592
        },
        "id": "v43qz6hAnEXE",
        "outputId": "1c960e59-e2eb-45e2-f12c-d2efd0536108"
      },
      "outputs": [
        {
          "output_type": "stream",
          "name": "stdout",
          "text": [
            "samples for chest data:\n",
            "samples for knee data:\n"
          ]
        },
        {
          "output_type": "display_data",
          "data": {
            "text/plain": [
              "<Figure size 432x288 with 0 Axes>"
            ]
          },
          "metadata": {}
        },
        {
          "output_type": "display_data",
          "data": {
            "text/plain": [
              "<Figure size 432x288 with 3 Axes>"
            ],
            "image/png": "[encoded data removed]"
          },
          "metadata": {
            "needs_background": "light"
          }
        },
        {
          "output_type": "display_data",
          "data": {
            "text/plain": [
              "<Figure size 432x288 with 0 Axes>"
            ]
          },
          "metadata": {}
        },
        {
          "output_type": "display_data",
          "data": {
            "text/plain": [
              "<Figure size 432x288 with 3 Axes>"
            ],
            "image/png": "[encoded data removed]"
          },
          "metadata": {
            "needs_background": "light"
          }
        }
      ],
      "source": [
        "# show preview of dataset images\n",
        "def show_3_samples(x_train, x_valid, x_test):\n",
        "  plt.figure()\n",
        "  f, axarr = plt.subplots(3,1) \n",
        "  axarr[0].imshow(x_train[0].transpose(1,2,0))\n",
        "  axarr[1].imshow(x_valid[0].transpose(1,2,0))\n",
        "  axarr[2].imshow(x_test[0].transpose(1,2,0))\n",
        "\n",
        "if chest_data:\n",
        "  print(\"samples for chest data:\")\n",
        "  show_3_samples(x_train_c, x_valid_c, x_test_c)\n",
        "if knee_data:\n",
        "  print(\"samples for knee data:\")\n",
        "  show_3_samples(x_train_k, x_valid_k, x_test_k)"
      ]
    },
    {
      "cell_type": "markdown",
      "source": [
        "## Helper Functions"
      ],
      "metadata": {
        "id": "ciOOj9FjRq4U"
      }
    },
    {
      "cell_type": "code",
      "execution_count": 20,
      "metadata": {
        "id": "HdvTNLnT450u"
      },
      "outputs": [],
      "source": [
        "#training loop helper function\n",
        "def train_per_batch(x, y, lr, batch, train_op, predict):\n",
        "  acc = 0\n",
        "  shuffle_indicies = np.arange(len(x))\n",
        "  np.random.shuffle(shuffle_indicies) #shuffle before running batches to remove correlation\n",
        "\n",
        "  for i in range(0, x.shape[0], batch):\n",
        "      batch_idxs = shuffle_indicies[i:i+batch]\n",
        "\n",
        "      #run train_op step\n",
        "      loss = float(train_op(x[batch_idxs], y[batch_idxs], lr)[0]) * len(batch_idxs)\n",
        "      \n",
        "      #store accuracy\n",
        "      acc += (np.array(predict(x[batch_idxs]).argmax(1)).flatten() == y[batch_idxs]).sum()\n",
        "\n",
        "  return acc\n",
        "\n",
        "#training loop\n",
        "def train(epochs, batch, lr, x_train, x_valid, y_train, y_valid, train_op, predict):\n",
        "  train_accuracies = []\n",
        "  valid_accuracies = []\n",
        "  epsilons = []\n",
        "\n",
        "  for epoch in range(1, epochs+1):\n",
        "      train_loss = []\n",
        "      valid_loss = []\n",
        "\n",
        "      # batch training\n",
        "      avg_train_acc = train_per_batch(x_train, y_train, lr, batch, train_op, predict) / x_train.shape[0]\n",
        "      train_accuracies.append(avg_train_acc)\n",
        "      \n",
        "      # batch validation \n",
        "      avg_val_acc = train_per_batch(x_valid, y_valid, lr, batch, train_op, predict) / x_valid.shape[0]\n",
        "      valid_accuracies.append(avg_val_acc)\n",
        "\n",
        "      print('Epoch %d  Training Accuracy %.4f Validation Accuracy %.4f' % (epoch, avg_train_acc*100, avg_val_acc*100))\n",
        "  \n",
        "  return train_accuracies, valid_accuracies"
      ]
    },
    {
      "cell_type": "code",
      "source": [
        "# show plot helper function\n",
        "def show_plot(train_accuracies, valid_accuracies, dataset, cnn_type):\n",
        "  title = \"Training and Validation Accuracies of \"+ cnn_type + \" CNN for \" + dataset + \" data\"\n",
        "  plt.title(title)\n",
        "  plt.plot(train_accuracies, label=\"Train\")\n",
        "  plt.plot(valid_accuracies, label=\"Validation\")\n",
        "  plt.xlabel(\"Epoch\")\n",
        "  plt.ylabel(\"Accuracy (%)\")\n",
        "  plt.legend(loc='best')\n",
        "  plt.show()"
      ],
      "metadata": {
        "id": "aPfF_xysmqYL"
      },
      "execution_count": 21,
      "outputs": []
    },
    {
      "cell_type": "code",
      "source": [
        "# test accuracy helper function\n",
        "def get_test_accuracy(predict, x_test, y_test, dataset, cnn_type):\n",
        "  test_accuracy = (np.array(predict(x_test).argmax(1)).flatten() == y_test).sum()\n",
        "  print(\"Test Accuracy of \", cnn_type, \" Model for \", dataset, \" data: \", 100*test_accuracy/x_test.shape[0])\n",
        "  return 100*test_accuracy/x_test.shape[0]"
      ],
      "metadata": {
        "id": "mlnt5QV9my05"
      },
      "execution_count": 22,
      "outputs": []
    },
    {
      "cell_type": "code",
      "source": [
        "!pip --quiet install tensorflow-privacy #for google colab\n",
        "def get_epsilon_momentents_gaussian_dp(num_train_data, noise_multiplier, num_epochs, batch_size):\n",
        "  '''\n",
        "  calculates epsilon (ε) of the differentially private model. The model is said to be ε-differentially private if the model cannot differentiate \n",
        "  between two datasets that differ by one point. \n",
        "\n",
        "  @param num_training_data (int): the number of training examples\n",
        "  @param noise_multiplier (double): standard deviation of the gaussian noise added to the gradients \n",
        "  @param num_epochs (int): number of epochs the model ran for\n",
        "  @param batch_size (int): batch size used\n",
        "  @returns epsilon(int) : epsilon value\n",
        "\n",
        "  NOTE - to disable warning messages add this: \n",
        "    from absl import logging as absl_logging\n",
        "    absl_logging.set_verbosity(absl_logging.ERROR)\n",
        "  '''\n",
        "  from tensorflow_privacy.privacy.analysis import compute_dp_sgd_privacy_lib\n",
        "  delta = 1e-5 #typical value for delta \n",
        "\n",
        "  # compute the privacy budget\n",
        "  epsilon, __ = compute_dp_sgd_privacy_lib.compute_dp_sgd_privacy(\n",
        "      n=num_train_data,\n",
        "      batch_size=batch_size,\n",
        "      noise_multiplier=noise_multiplier,\n",
        "      epochs=num_epochs,\n",
        "      delta=delta,\n",
        "  )\n",
        "  return epsilon"
      ],
      "metadata": {
        "id": "hiI-aSiULbZY"
      },
      "execution_count": 23,
      "outputs": []
    },
    {
      "cell_type": "code",
      "source": [
        "def get_memory_usage_and_runtime(train_function, arguments):\n",
        "    '''\n",
        "    gets peak memory usage of the training function in MB and runtime in seconds\n",
        "    \n",
        "    @param train_function: the model's training loop\n",
        "    @param arguments: tuple of arguments for the function\n",
        "    @return runtime (s), peak_mem (MB), result (return of the function)\n",
        "\n",
        "    NOTE - if the function has no return values or arguments, run it like this: \n",
        "    mem = memory_usage(proc=train_function)\n",
        "    '''\n",
        "\n",
        "    s = time.time()\n",
        "    mem, result = memory_usage((train_function, arguments), retval=True)\n",
        "    e = time.time()\n",
        "    runtime = e-s\n",
        "    peak_mem = max(mem)\n",
        "    \n",
        "    return runtime, peak_mem, result"
      ],
      "metadata": {
        "id": "SD0NsxqzeM6B"
      },
      "execution_count": 24,
      "outputs": []
    },
    {
      "cell_type": "markdown",
      "metadata": {
        "id": "Sx9ytkpaROBn"
      },
      "source": [
        "## Train Regular CNN"
      ]
    },
    {
      "cell_type": "code",
      "execution_count": 25,
      "metadata": {
        "id": "cSvlFDT_aJ59"
      },
      "outputs": [],
      "source": [
        "# hyperparameters\n",
        "epochs = 100\n",
        "lr = 0.01 #0.001\n",
        "size = 64 #h/w of images in dataset"
      ]
    },
    {
      "cell_type": "code",
      "execution_count": 26,
      "metadata": {
        "id": "mGWKDLHu0rdJ"
      },
      "outputs": [],
      "source": [
        "def define_model_and_train_regular(x_train, x_valid, y_train, y_valid, num_classes):\n",
        "  ''' regular SGD'''\n",
        "\n",
        "  #define model\n",
        "  model_regular = CNN(channels = 3, classes = num_classes, size = size, kernel = 3) \n",
        "\n",
        "  #define loss\n",
        "  def loss_fn_regular(x, y):\n",
        "      return objax.functional.loss.cross_entropy_logits_sparse(model_regular(x), y).mean()\n",
        "\n",
        "  #define prediction function (to get results of model training)\n",
        "  predict_regular = objax.Jit(lambda x: objax.functional.softmax(model_regular(x)), model_regular.vars())\n",
        "\n",
        "  # define 'forward' operation.\n",
        "  gv_regular = objax.GradValues(loss_fn_regular, model_regular.vars()) #function that calculates gradient\n",
        "  tv_regular = objax.ModuleList(objax.TrainRef(x) for x in model_regular.vars().subset(objax.TrainVar)) #trainable variables\n",
        "\n",
        "  def train_op_regular(x, y, lr):\n",
        "      g, v = gv_regular(x, y) # apply gradient\n",
        "      \n",
        "      # ** optimzer: SGD **\n",
        "      for grad, params in zip(g, tv_regular.vars()):\n",
        "        params.value -= jn.multiply(grad, lr) #jax speeds up computation\n",
        "\n",
        "      return v # v is the loss\n",
        "\n",
        "  train_op_regular = objax.Jit(train_op_regular, gv_regular.vars() + tv_regular.vars()) # compile train_op to make it faster\n",
        "\n",
        "  train_accuracies_regular, valid_accuracies_regular = train(epochs, batch, lr, x_train, x_valid, y_train, y_valid, train_op_regular, predict_regular)\n",
        "\n",
        "  return train_accuracies_regular, valid_accuracies_regular, predict_regular"
      ]
    },
    {
      "cell_type": "code",
      "execution_count": 27,
      "metadata": {
        "id": "y1rAgia_QvKj",
        "colab": {
          "base_uri": "https://localhost:8080/"
        },
        "outputId": "da09497b-2156-4f2f-f949-eebf79fdc947"
      },
      "outputs": [
        {
          "output_type": "stream",
          "name": "stdout",
          "text": [
            "-----Training for chest x-ray data: ------\n",
            "Epoch 1  Training Accuracy 72.1798 Validation Accuracy 74.4027\n",
            "Epoch 2  Training Accuracy 81.9918 Validation Accuracy 83.1058\n",
            "Epoch 3  Training Accuracy 88.1316 Validation Accuracy 83.4471\n",
            "Epoch 4  Training Accuracy 91.7891 Validation Accuracy 91.8089\n",
            "Epoch 5  Training Accuracy 93.2726 Validation Accuracy 92.4915\n",
            "Epoch 6  Training Accuracy 94.1539 Validation Accuracy 94.5392\n",
            "Epoch 7  Training Accuracy 94.7268 Validation Accuracy 91.4676\n",
            "Epoch 8  Training Accuracy 95.4612 Validation Accuracy 93.0034\n",
            "Epoch 9  Training Accuracy 95.5053 Validation Accuracy 94.5392\n",
            "Epoch 10  Training Accuracy 95.6522 Validation Accuracy 94.5392\n",
            "Epoch 11  Training Accuracy 96.2103 Validation Accuracy 93.6860\n",
            "Epoch 12  Training Accuracy 96.0488 Validation Accuracy 95.9044\n",
            "Epoch 13  Training Accuracy 96.3132 Validation Accuracy 95.2218\n",
            "Epoch 14  Training Accuracy 96.2544 Validation Accuracy 96.0751\n",
            "Epoch 15  Training Accuracy 96.5629 Validation Accuracy 95.9044\n",
            "Epoch 16  Training Accuracy 96.7244 Validation Accuracy 96.2457\n",
            "Epoch 17  Training Accuracy 96.7538 Validation Accuracy 96.7577\n",
            "Epoch 18  Training Accuracy 96.5776 Validation Accuracy 96.0751\n",
            "Epoch 19  Training Accuracy 96.8566 Validation Accuracy 95.7338\n",
            "Epoch 20  Training Accuracy 96.8566 Validation Accuracy 96.9283\n",
            "Epoch 21  Training Accuracy 97.2973 Validation Accuracy 96.5870\n",
            "Epoch 22  Training Accuracy 97.0476 Validation Accuracy 96.2457\n",
            "Epoch 23  Training Accuracy 97.0770 Validation Accuracy 96.4164\n",
            "Epoch 24  Training Accuracy 97.1210 Validation Accuracy 96.4164\n",
            "Epoch 25  Training Accuracy 97.4148 Validation Accuracy 96.9283\n",
            "Epoch 26  Training Accuracy 97.2239 Validation Accuracy 96.7577\n",
            "Epoch 27  Training Accuracy 97.1945 Validation Accuracy 96.5870\n",
            "Epoch 28  Training Accuracy 97.4001 Validation Accuracy 96.2457\n",
            "Epoch 29  Training Accuracy 97.2826 Validation Accuracy 97.0990\n",
            "Epoch 30  Training Accuracy 97.5029 Validation Accuracy 96.9283\n",
            "Epoch 31  Training Accuracy 97.3414 Validation Accuracy 96.7577\n",
            "Epoch 32  Training Accuracy 97.5029 Validation Accuracy 96.7577\n",
            "Epoch 33  Training Accuracy 97.5617 Validation Accuracy 97.0990\n",
            "Epoch 34  Training Accuracy 97.6939 Validation Accuracy 97.7816\n",
            "Epoch 35  Training Accuracy 97.5617 Validation Accuracy 97.2696\n",
            "Epoch 36  Training Accuracy 97.7526 Validation Accuracy 97.2696\n",
            "Epoch 37  Training Accuracy 97.7673 Validation Accuracy 97.6109\n",
            "Epoch 38  Training Accuracy 97.7967 Validation Accuracy 96.9283\n",
            "Epoch 39  Training Accuracy 97.9289 Validation Accuracy 97.4403\n",
            "Epoch 40  Training Accuracy 97.9436 Validation Accuracy 98.1229\n",
            "Epoch 41  Training Accuracy 97.9583 Validation Accuracy 96.9283\n",
            "Epoch 42  Training Accuracy 98.1345 Validation Accuracy 97.4403\n",
            "Epoch 43  Training Accuracy 98.1345 Validation Accuracy 91.6382\n",
            "Epoch 44  Training Accuracy 97.5029 Validation Accuracy 97.9522\n",
            "Epoch 45  Training Accuracy 97.7967 Validation Accuracy 97.9522\n",
            "Epoch 46  Training Accuracy 98.1345 Validation Accuracy 97.6109\n",
            "Epoch 47  Training Accuracy 97.9583 Validation Accuracy 95.9044\n",
            "Epoch 48  Training Accuracy 98.1786 Validation Accuracy 97.4403\n",
            "Epoch 49  Training Accuracy 98.1492 Validation Accuracy 97.9522\n",
            "Epoch 50  Training Accuracy 98.1492 Validation Accuracy 97.6109\n",
            "Epoch 51  Training Accuracy 98.3696 Validation Accuracy 98.1229\n",
            "Epoch 52  Training Accuracy 98.3402 Validation Accuracy 98.4642\n",
            "Epoch 53  Training Accuracy 98.1639 Validation Accuracy 97.6109\n",
            "Epoch 54  Training Accuracy 98.1786 Validation Accuracy 89.2491\n",
            "Epoch 55  Training Accuracy 97.5323 Validation Accuracy 97.2696\n",
            "Epoch 56  Training Accuracy 98.1052 Validation Accuracy 97.2696\n",
            "Epoch 57  Training Accuracy 98.2227 Validation Accuracy 97.0990\n",
            "Epoch 58  Training Accuracy 98.3402 Validation Accuracy 97.2696\n",
            "Epoch 59  Training Accuracy 98.4430 Validation Accuracy 98.1229\n",
            "Epoch 60  Training Accuracy 98.4430 Validation Accuracy 97.7816\n",
            "Epoch 61  Training Accuracy 98.5458 Validation Accuracy 98.2935\n",
            "Epoch 62  Training Accuracy 98.4724 Validation Accuracy 98.6348\n",
            "Epoch 63  Training Accuracy 98.5605 Validation Accuracy 98.9761\n",
            "Epoch 64  Training Accuracy 98.7074 Validation Accuracy 98.6348\n",
            "Epoch 65  Training Accuracy 98.6340 Validation Accuracy 98.4642\n",
            "Epoch 66  Training Accuracy 98.7515 Validation Accuracy 98.4642\n",
            "Epoch 67  Training Accuracy 98.7955 Validation Accuracy 98.8055\n",
            "Epoch 68  Training Accuracy 98.8690 Validation Accuracy 99.1468\n",
            "Epoch 69  Training Accuracy 98.8837 Validation Accuracy 94.8805\n",
            "Epoch 70  Training Accuracy 98.9130 Validation Accuracy 99.1468\n",
            "Epoch 71  Training Accuracy 98.8837 Validation Accuracy 98.6348\n",
            "Epoch 72  Training Accuracy 99.0159 Validation Accuracy 98.6348\n",
            "Epoch 73  Training Accuracy 98.9130 Validation Accuracy 98.9761\n",
            "Epoch 74  Training Accuracy 98.9865 Validation Accuracy 99.3174\n",
            "Epoch 75  Training Accuracy 98.9130 Validation Accuracy 98.9761\n",
            "Epoch 76  Training Accuracy 99.0452 Validation Accuracy 97.6109\n",
            "Epoch 77  Training Accuracy 99.0306 Validation Accuracy 99.3174\n",
            "Epoch 78  Training Accuracy 99.1627 Validation Accuracy 99.3174\n",
            "Epoch 79  Training Accuracy 99.0012 Validation Accuracy 98.6348\n",
            "Epoch 80  Training Accuracy 99.0306 Validation Accuracy 99.4881\n",
            "Epoch 81  Training Accuracy 99.1627 Validation Accuracy 99.1468\n",
            "Epoch 82  Training Accuracy 99.0452 Validation Accuracy 99.3174\n",
            "Epoch 83  Training Accuracy 99.3243 Validation Accuracy 99.6587\n",
            "Epoch 84  Training Accuracy 99.2949 Validation Accuracy 98.9761\n",
            "Epoch 85  Training Accuracy 99.1334 Validation Accuracy 98.9761\n",
            "Epoch 86  Training Accuracy 99.2068 Validation Accuracy 99.4881\n",
            "Epoch 87  Training Accuracy 99.1334 Validation Accuracy 97.0990\n",
            "Epoch 88  Training Accuracy 99.2949 Validation Accuracy 99.4881\n",
            "Epoch 89  Training Accuracy 99.3096 Validation Accuracy 98.9761\n",
            "Epoch 90  Training Accuracy 99.3390 Validation Accuracy 99.1468\n",
            "Epoch 91  Training Accuracy 99.3537 Validation Accuracy 99.4881\n",
            "Epoch 92  Training Accuracy 99.2803 Validation Accuracy 99.8294\n",
            "Epoch 93  Training Accuracy 99.4125 Validation Accuracy 98.8055\n",
            "Epoch 94  Training Accuracy 99.3243 Validation Accuracy 99.4881\n",
            "Epoch 95  Training Accuracy 99.4418 Validation Accuracy 99.1468\n",
            "Epoch 96  Training Accuracy 99.2949 Validation Accuracy 99.6587\n",
            "Epoch 97  Training Accuracy 99.4418 Validation Accuracy 99.6587\n",
            "Epoch 98  Training Accuracy 99.5300 Validation Accuracy 99.8294\n",
            "Epoch 99  Training Accuracy 99.2949 Validation Accuracy 99.4881\n",
            "Epoch 100  Training Accuracy 99.5593 Validation Accuracy 99.8294\n",
            "Runtime(s):  135.7615683078766 Memory(MB):  4624.8984375\n",
            "-----Training for knee x-ray data: ------\n",
            "Epoch 1  Training Accuracy 29.6019 Validation Accuracy 39.8305\n",
            "Epoch 2  Training Accuracy 31.5501 Validation Accuracy 39.5884\n",
            "Epoch 3  Training Accuracy 32.7870 Validation Accuracy 38.2567\n",
            "Epoch 4  Training Accuracy 33.3978 Validation Accuracy 38.9831\n",
            "Epoch 5  Training Accuracy 34.3951 Validation Accuracy 39.9516\n",
            "Epoch 6  Training Accuracy 34.5033 Validation Accuracy 41.1622\n",
            "Epoch 7  Training Accuracy 34.9285 Validation Accuracy 38.2567\n",
            "Epoch 8  Training Accuracy 34.6193 Validation Accuracy 40.7990\n",
            "Epoch 9  Training Accuracy 35.6320 Validation Accuracy 39.1041\n",
            "Epoch 10  Training Accuracy 35.7557 Validation Accuracy 39.9516\n",
            "Epoch 11  Training Accuracy 36.5675 Validation Accuracy 38.3777\n",
            "Epoch 12  Training Accuracy 36.5520 Validation Accuracy 38.8620\n",
            "Epoch 13  Training Accuracy 36.6680 Validation Accuracy 41.4044\n",
            "Epoch 14  Training Accuracy 36.6602 Validation Accuracy 41.5254\n",
            "Epoch 15  Training Accuracy 37.4101 Validation Accuracy 40.9201\n",
            "Epoch 16  Training Accuracy 38.0905 Validation Accuracy 39.4673\n",
            "Epoch 17  Training Accuracy 38.6007 Validation Accuracy 42.3729\n",
            "Epoch 18  Training Accuracy 38.8558 Validation Accuracy 41.5254\n",
            "Epoch 19  Training Accuracy 39.1264 Validation Accuracy 39.4673\n",
            "Epoch 20  Training Accuracy 39.5516 Validation Accuracy 40.7990\n",
            "Epoch 21  Training Accuracy 39.2501 Validation Accuracy 41.0412\n",
            "Epoch 22  Training Accuracy 40.3711 Validation Accuracy 43.4625\n",
            "Epoch 23  Training Accuracy 40.5721 Validation Accuracy 40.5569\n",
            "Epoch 24  Training Accuracy 40.4097 Validation Accuracy 41.6465\n",
            "Epoch 25  Training Accuracy 41.0128 Validation Accuracy 42.1308\n",
            "Epoch 26  Training Accuracy 41.2215 Validation Accuracy 40.4358\n",
            "Epoch 27  Training Accuracy 42.0178 Validation Accuracy 41.1622\n",
            "Epoch 28  Training Accuracy 42.7136 Validation Accuracy 44.5521\n",
            "Epoch 29  Training Accuracy 42.6595 Validation Accuracy 45.7627\n",
            "Epoch 30  Training Accuracy 42.4507 Validation Accuracy 45.1574\n",
            "Epoch 31  Training Accuracy 44.3448 Validation Accuracy 40.7990\n",
            "Epoch 32  Training Accuracy 43.7572 Validation Accuracy 44.9153\n",
            "Epoch 33  Training Accuracy 44.0897 Validation Accuracy 43.8257\n",
            "Epoch 34  Training Accuracy 44.3216 Validation Accuracy 44.6731\n",
            "Epoch 35  Training Accuracy 45.0870 Validation Accuracy 45.8838\n",
            "Epoch 36  Training Accuracy 44.4453 Validation Accuracy 45.5206\n",
            "Epoch 37  Training Accuracy 44.9324 Validation Accuracy 43.5835\n",
            "Epoch 38  Training Accuracy 45.4581 Validation Accuracy 46.0048\n",
            "Epoch 39  Training Accuracy 45.5354 Validation Accuracy 46.8523\n",
            "Epoch 40  Training Accuracy 46.8342 Validation Accuracy 45.6416\n",
            "Epoch 41  Training Accuracy 45.7905 Validation Accuracy 46.3680\n",
            "Epoch 42  Training Accuracy 46.5172 Validation Accuracy 47.0944\n",
            "Epoch 43  Training Accuracy 46.6718 Validation Accuracy 47.9419\n",
            "Epoch 44  Training Accuracy 46.6950 Validation Accuracy 48.4262\n",
            "Epoch 45  Training Accuracy 47.2980 Validation Accuracy 49.1525\n",
            "Epoch 46  Training Accuracy 47.0506 Validation Accuracy 48.3051\n",
            "Epoch 47  Training Accuracy 47.8469 Validation Accuracy 41.5254\n",
            "Epoch 48  Training Accuracy 48.3649 Validation Accuracy 40.5569\n",
            "Epoch 49  Training Accuracy 47.9474 Validation Accuracy 47.3366\n",
            "Epoch 50  Training Accuracy 47.5995 Validation Accuracy 46.9734\n",
            "Epoch 51  Training Accuracy 49.0066 Validation Accuracy 49.2736\n",
            "Epoch 52  Training Accuracy 47.8469 Validation Accuracy 42.2518\n",
            "Epoch 53  Training Accuracy 49.2230 Validation Accuracy 48.3051\n",
            "Epoch 54  Training Accuracy 48.0325 Validation Accuracy 48.5472\n",
            "Epoch 55  Training Accuracy 48.9756 Validation Accuracy 47.5787\n",
            "Epoch 56  Training Accuracy 48.8210 Validation Accuracy 50.0000\n",
            "Epoch 57  Training Accuracy 49.5323 Validation Accuracy 50.6053\n",
            "Epoch 58  Training Accuracy 48.7978 Validation Accuracy 45.8838\n",
            "Epoch 59  Training Accuracy 49.8106 Validation Accuracy 47.8208\n",
            "Epoch 60  Training Accuracy 49.9034 Validation Accuracy 45.3995\n",
            "Epoch 61  Training Accuracy 49.4550 Validation Accuracy 48.1840\n",
            "Epoch 62  Training Accuracy 49.9343 Validation Accuracy 40.7990\n",
            "Epoch 63  Training Accuracy 50.1044 Validation Accuracy 45.8838\n",
            "Epoch 64  Training Accuracy 50.3595 Validation Accuracy 42.1308\n",
            "Epoch 65  Training Accuracy 50.9780 Validation Accuracy 49.5157\n",
            "Epoch 66  Training Accuracy 51.1944 Validation Accuracy 48.7893\n",
            "Epoch 67  Training Accuracy 50.2203 Validation Accuracy 48.1840\n",
            "Epoch 68  Training Accuracy 50.4445 Validation Accuracy 48.6683\n",
            "Epoch 69  Training Accuracy 50.6146 Validation Accuracy 49.0315\n",
            "Epoch 70  Training Accuracy 51.3027 Validation Accuracy 47.4576\n",
            "Epoch 71  Training Accuracy 51.1480 Validation Accuracy 51.2107\n",
            "Epoch 72  Training Accuracy 50.7074 Validation Accuracy 51.0896\n",
            "Epoch 73  Training Accuracy 51.5423 Validation Accuracy 44.6731\n",
            "Epoch 74  Training Accuracy 51.5037 Validation Accuracy 48.5472\n",
            "Epoch 75  Training Accuracy 51.6969 Validation Accuracy 48.6683\n",
            "Epoch 76  Training Accuracy 51.6274 Validation Accuracy 46.9734\n",
            "Epoch 77  Training Accuracy 52.2768 Validation Accuracy 47.3366\n",
            "Epoch 78  Training Accuracy 51.6583 Validation Accuracy 42.8571\n",
            "Epoch 79  Training Accuracy 52.1763 Validation Accuracy 48.9104\n",
            "Epoch 80  Training Accuracy 52.2690 Validation Accuracy 45.5206\n",
            "Epoch 81  Training Accuracy 52.4623 Validation Accuracy 52.9056\n",
            "Epoch 82  Training Accuracy 51.9443 Validation Accuracy 50.2421\n",
            "Epoch 83  Training Accuracy 53.2741 Validation Accuracy 52.4213\n",
            "Epoch 84  Training Accuracy 52.7097 Validation Accuracy 46.6102\n",
            "Epoch 85  Training Accuracy 52.9184 Validation Accuracy 46.9734\n",
            "Epoch 86  Training Accuracy 53.4828 Validation Accuracy 46.6102\n",
            "Epoch 87  Training Accuracy 52.5860 Validation Accuracy 51.0896\n",
            "Epoch 88  Training Accuracy 53.8848 Validation Accuracy 46.6102\n",
            "Epoch 89  Training Accuracy 53.2895 Validation Accuracy 49.2736\n",
            "Epoch 90  Training Accuracy 53.7147 Validation Accuracy 47.9419\n",
            "Epoch 91  Training Accuracy 53.9003 Validation Accuracy 52.0581\n",
            "Epoch 92  Training Accuracy 53.4596 Validation Accuracy 48.9104\n",
            "Epoch 93  Training Accuracy 54.1631 Validation Accuracy 44.1889\n",
            "Epoch 94  Training Accuracy 54.1863 Validation Accuracy 45.2785\n",
            "Epoch 95  Training Accuracy 54.3873 Validation Accuracy 52.9056\n",
            "Epoch 96  Training Accuracy 54.1709 Validation Accuracy 53.8741\n",
            "Epoch 97  Training Accuracy 54.8125 Validation Accuracy 47.6998\n",
            "Epoch 98  Training Accuracy 54.4105 Validation Accuracy 52.0581\n",
            "Epoch 99  Training Accuracy 54.8976 Validation Accuracy 50.9685\n",
            "Epoch 100  Training Accuracy 55.4774 Validation Accuracy 43.7046\n",
            "Runtime(s):  230.66415810585022 Memory(MB):  4692.4375\n"
          ]
        }
      ],
      "source": [
        "# train without differential privacy (dp)\n",
        "if chest_data:\n",
        "  print(\"-----Training for chest x-ray data: ------\")\n",
        "  num_classes = 2\n",
        "  batch = 100\n",
        "\n",
        "  runtime_regular_c, peak_mem_regular_c, (train_accuracies_regular_c, valid_accuracies_regular_c, predict_regular_c) = get_memory_usage_and_runtime(define_model_and_train_regular, (x_train_c, x_valid_c, y_train_c, y_valid_c, num_classes))\n",
        "  print (\"Runtime(s): \", runtime_regular_c, \"Memory(MB): \", peak_mem_regular_c)\n",
        "\n",
        "if knee_data:\n",
        "  print(\"-----Training for knee x-ray data: ------\")\n",
        "  num_classes = 5\n",
        "  batch = 300\n",
        "\n",
        "  runtime_regular_k, peak_mem_regular_k, (train_accuracies_regular_k, valid_accuracies_regular_k, predict_regular_k) = get_memory_usage_and_runtime(define_model_and_train_regular, (x_train_k, x_valid_k, y_train_k, y_valid_k, num_classes))\n",
        "  print (\"Runtime(s): \", runtime_regular_k, \"Memory(MB): \", peak_mem_regular_k)"
      ]
    },
    {
      "cell_type": "code",
      "execution_count": 28,
      "metadata": {
        "colab": {
          "base_uri": "https://localhost:8080/",
          "height": 573
        },
        "id": "mfYgUE6ZYHFO",
        "outputId": "21340b3f-aa50-4d15-90ee-a5ea8d8e5b6e"
      },
      "outputs": [
        {
          "output_type": "display_data",
          "data": {
            "text/plain": [
              "<Figure size 432x288 with 1 Axes>"
            ],
            "image/png": "[encoded data removed]"
          },
          "metadata": {
            "needs_background": "light"
          }
        },
        {
          "output_type": "display_data",
          "data": {
            "text/plain": [
              "<Figure size 432x288 with 1 Axes>"
            ],
            "image/png": "[encoded data removed]"
          },
          "metadata": {
            "needs_background": "light"
          }
        }
      ],
      "source": [
        "if chest_data:\n",
        "  show_plot(train_accuracies_regular_c, valid_accuracies_regular_c, \"Chest X-ray\", \"Regular\")\n",
        "if knee_data:\n",
        "  show_plot(train_accuracies_regular_k, valid_accuracies_regular_k, \"Knee X-ray\", \"Regular\")"
      ]
    },
    {
      "cell_type": "code",
      "execution_count": 29,
      "metadata": {
        "colab": {
          "base_uri": "https://localhost:8080/"
        },
        "id": "QSgSLVcxXdm8",
        "outputId": "acfec0be-3906-4313-ae77-2fd861b5b1d0"
      },
      "outputs": [
        {
          "output_type": "stream",
          "name": "stdout",
          "text": [
            "Test Accuracy of  Regular  Model for  Chest X-ray  data:  97.94871794871794\n",
            "Test Accuracy of  Regular  Model for  Knee X-ray  data:  47.09443099273608\n"
          ]
        }
      ],
      "source": [
        "if chest_data:\n",
        "  test_accuracy_regular_c = get_test_accuracy(predict_regular_c, x_test_c, y_test_c, 'Chest X-ray', \"Regular\")\n",
        "if knee_data:\n",
        "  test_accuracy_regular_k = get_test_accuracy(predict_regular_k, x_test_k, y_test_k, 'Knee X-ray', \"Regular\")"
      ]
    },
    {
      "cell_type": "markdown",
      "metadata": {
        "id": "5sr9fXeiRoui"
      },
      "source": [
        "## Train CNN with Differential Privacy\n",
        "\n",
        "In train_op_dp, add gaussian noise and gradient clipping\n"
      ]
    },
    {
      "cell_type": "code",
      "execution_count": 30,
      "metadata": {
        "id": "0zMhovEUaPbr"
      },
      "outputs": [],
      "source": [
        "# hyperparameters\n",
        "epochs = 100\n",
        "lr = 0.01\n",
        "size = 64 #h/w of images in dataset\n",
        "sigma = 4 # noise scale\n",
        "C = 80 # gradient norm (Best C = median of the norms of the unclipped gradients) - mean was 79.5 after running with C=100"
      ]
    },
    {
      "cell_type": "code",
      "execution_count": 31,
      "metadata": {
        "id": "gsOu1Iz4SssE"
      },
      "outputs": [],
      "source": [
        "def define_model_and_train_dp(x_train, x_valid, y_train, y_valid, num_classes):\n",
        "  \n",
        "  #last hyperparamter definition\n",
        "  L = int(np.sqrt(len(x_train))) # L = √ N is the best group size\n",
        "\n",
        "  #define model\n",
        "  model_dp = CNN(channels = 3, classes = num_classes, size = size, kernel = 3)\n",
        "\n",
        "  #define loss\n",
        "  def loss_fn_dp(x, y):\n",
        "      return objax.functional.loss.cross_entropy_logits_sparse(model_dp(x), y).mean()\n",
        "\n",
        "  #define prediction function (to get results of model training)\n",
        "  predict_dp = objax.Jit(lambda x: objax.functional.softmax(model_dp(x)), model_dp.vars())\n",
        "\n",
        "  # define 'forward' operation.\n",
        "  gv_dp = objax.GradValues(loss_fn_dp, model_dp.vars()) #dictionary that stores gradients\n",
        "  tv_dp = objax.ModuleList(objax.TrainRef(x) for x in model_dp.vars().subset(objax.TrainVar)) #trainable variables\n",
        "  unclipped_grad = jn.arange(len(tv_dp.vars())*epochs) #store in list, to find best C\n",
        "\n",
        "  def train_op_dp(x, y, lr):\n",
        "      g, v = gv_dp(x, y) # apply gradient\n",
        "\n",
        "      # ** optimzer: DP-SGD **\n",
        "\n",
        "      i = 0 # which model variable\n",
        "      for grad, params in zip(g, tv_dp.vars()):\n",
        "\n",
        "        # get random \"lot (L)\" of examples to add noise to:\n",
        "        lot_idxs = np.random.choice(len(x), L)\n",
        "        g_lot, __ = gv_dp(x[lot_idxs], y[lot_idxs]) #get grad only for lot\n",
        "        grad = g_lot[i]\n",
        "      \n",
        "        #gradient clipping\n",
        "        norm = jn.linalg.norm(grad)\n",
        "        unclipped_grad.at[i].set(norm) #store unlcipped gradients\n",
        "        grad_clipped = grad / jn.maximum(jn.empty(jn.shape(norm)) + 1, norm/C)\n",
        "\n",
        "        #apply guassian\n",
        "        mu = 0\n",
        "        std = sigma\n",
        "        key = jax.random.PRNGKey(1) # to ensure guassian stays the same for all runs\n",
        "        guassian = mu + std * jax.random.normal(key, jn.shape(grad_clipped))\n",
        "        grad_w_guassian = jn.multiply(1/L, jn.add(grad_clipped, guassian))\n",
        "        \n",
        "        #update params\n",
        "        params.value -= jn.multiply(grad_w_guassian, lr) \n",
        "\n",
        "        i+=1\n",
        "\n",
        "      return v # v is the loss\n",
        "\n",
        "  train_op_dp = objax.Jit(train_op_dp, gv_dp.vars() + tv_dp.vars()) # compile train_op to make it faster\n",
        "\n",
        "  train_accuracies_dp, valid_accuracies_dp = train(epochs, batch, lr, x_train, x_valid, y_train, y_valid, train_op_dp, predict_dp)\n",
        "\n",
        "  print (\"---- For hyperparameter tuning: ----\")\n",
        "  print(\"mean of unclipped gradients -> \", jn.mean(unclipped_grad))\n",
        "\n",
        "  return train_accuracies_dp, valid_accuracies_dp, predict_dp"
      ]
    },
    {
      "cell_type": "code",
      "execution_count": 43,
      "metadata": {
        "colab": {
          "base_uri": "https://localhost:8080/"
        },
        "id": "tPQUk2vCRc7G",
        "outputId": "578f1e4d-4ce7-44d1-a586-46bb7e97e429"
      },
      "outputs": [
        {
          "output_type": "stream",
          "name": "stdout",
          "text": [
            "-----Training for chest x-ray data: ------\n",
            "Epoch 1  Training Accuracy 64.1011 Validation Accuracy 71.6724\n",
            "Epoch 2  Training Accuracy 67.0388 Validation Accuracy 61.2628\n",
            "Epoch 3  Training Accuracy 62.4706 Validation Accuracy 62.9693\n",
            "Epoch 4  Training Accuracy 61.6334 Validation Accuracy 69.1126\n",
            "Epoch 5  Training Accuracy 66.5981 Validation Accuracy 72.5256\n",
            "Epoch 6  Training Accuracy 71.6510 Validation Accuracy 77.6451\n",
            "Epoch 7  Training Accuracy 76.8361 Validation Accuracy 81.2287\n",
            "Epoch 8  Training Accuracy 79.7738 Validation Accuracy 84.1297\n",
            "Epoch 9  Training Accuracy 81.4924 Validation Accuracy 83.4471\n",
            "Epoch 10  Training Accuracy 82.1533 Validation Accuracy 84.3003\n",
            "Epoch 11  Training Accuracy 83.3872 Validation Accuracy 85.4949\n",
            "Epoch 12  Training Accuracy 83.7838 Validation Accuracy 83.2765\n",
            "Epoch 13  Training Accuracy 84.4301 Validation Accuracy 84.1297\n",
            "Epoch 14  Training Accuracy 85.1498 Validation Accuracy 85.1536\n",
            "Epoch 15  Training Accuracy 85.2233 Validation Accuracy 86.6894\n",
            "Epoch 16  Training Accuracy 86.1193 Validation Accuracy 87.5427\n",
            "Epoch 17  Training Accuracy 86.6921 Validation Accuracy 87.3720\n",
            "Epoch 18  Training Accuracy 86.7949 Validation Accuracy 85.3242\n",
            "Epoch 19  Training Accuracy 86.6481 Validation Accuracy 87.2014\n",
            "Epoch 20  Training Accuracy 87.1034 Validation Accuracy 86.5188\n",
            "Epoch 21  Training Accuracy 86.9418 Validation Accuracy 86.3481\n",
            "Epoch 22  Training Accuracy 87.3972 Validation Accuracy 87.7133\n",
            "Epoch 23  Training Accuracy 87.2944 Validation Accuracy 86.0068\n",
            "Epoch 24  Training Accuracy 87.0593 Validation Accuracy 87.2014\n",
            "Epoch 25  Training Accuracy 87.2209 Validation Accuracy 85.8362\n",
            "Epoch 26  Training Accuracy 86.7949 Validation Accuracy 86.3481\n",
            "Epoch 27  Training Accuracy 87.0153 Validation Accuracy 86.1775\n",
            "Epoch 28  Training Accuracy 87.5294 Validation Accuracy 87.5427\n",
            "Epoch 29  Training Accuracy 87.2503 Validation Accuracy 86.3481\n",
            "Epoch 30  Training Accuracy 87.6175 Validation Accuracy 86.5188\n",
            "Epoch 31  Training Accuracy 87.3972 Validation Accuracy 86.3481\n",
            "Epoch 32  Training Accuracy 87.4706 Validation Accuracy 86.6894\n",
            "Epoch 33  Training Accuracy 87.8378 Validation Accuracy 86.5188\n",
            "Epoch 34  Training Accuracy 87.9407 Validation Accuracy 86.6894\n",
            "Epoch 35  Training Accuracy 87.6322 Validation Accuracy 85.4949\n",
            "Epoch 36  Training Accuracy 87.7350 Validation Accuracy 87.7133\n",
            "Epoch 37  Training Accuracy 87.6763 Validation Accuracy 86.3481\n",
            "Epoch 38  Training Accuracy 87.8525 Validation Accuracy 86.5188\n",
            "Epoch 39  Training Accuracy 87.3531 Validation Accuracy 86.8601\n",
            "Epoch 40  Training Accuracy 87.5294 Validation Accuracy 86.1775\n",
            "Epoch 41  Training Accuracy 87.7350 Validation Accuracy 86.6894\n",
            "Epoch 42  Training Accuracy 87.9553 Validation Accuracy 86.5188\n",
            "Epoch 43  Training Accuracy 88.0435 Validation Accuracy 86.8601\n",
            "Epoch 44  Training Accuracy 87.6616 Validation Accuracy 86.5188\n",
            "Epoch 45  Training Accuracy 88.1463 Validation Accuracy 87.0307\n",
            "Epoch 46  Training Accuracy 88.0435 Validation Accuracy 85.6655\n",
            "Epoch 47  Training Accuracy 88.1610 Validation Accuracy 86.8601\n",
            "Epoch 48  Training Accuracy 88.2344 Validation Accuracy 86.0068\n",
            "Epoch 49  Training Accuracy 87.7791 Validation Accuracy 86.6894\n",
            "Epoch 50  Training Accuracy 88.0141 Validation Accuracy 86.6894\n",
            "Epoch 51  Training Accuracy 87.8966 Validation Accuracy 87.2014\n",
            "Epoch 52  Training Accuracy 88.0875 Validation Accuracy 85.6655\n",
            "Epoch 53  Training Accuracy 88.1022 Validation Accuracy 86.3481\n",
            "Epoch 54  Training Accuracy 87.9407 Validation Accuracy 86.0068\n",
            "Epoch 55  Training Accuracy 88.2051 Validation Accuracy 85.8362\n",
            "Epoch 56  Training Accuracy 87.9994 Validation Accuracy 86.3481\n",
            "Epoch 57  Training Accuracy 88.3960 Validation Accuracy 86.5188\n",
            "Epoch 58  Training Accuracy 88.0582 Validation Accuracy 86.1775\n",
            "Epoch 59  Training Accuracy 88.3813 Validation Accuracy 86.6894\n",
            "Epoch 60  Training Accuracy 88.3519 Validation Accuracy 86.6894\n",
            "Epoch 61  Training Accuracy 88.3519 Validation Accuracy 86.6894\n",
            "Epoch 62  Training Accuracy 88.1316 Validation Accuracy 86.1775\n",
            "Epoch 63  Training Accuracy 88.2344 Validation Accuracy 87.3720\n",
            "Epoch 64  Training Accuracy 88.2491 Validation Accuracy 87.5427\n",
            "Epoch 65  Training Accuracy 88.2344 Validation Accuracy 86.8601\n",
            "Epoch 66  Training Accuracy 88.1316 Validation Accuracy 85.6655\n",
            "Epoch 67  Training Accuracy 87.7938 Validation Accuracy 86.1775\n",
            "Epoch 68  Training Accuracy 88.0435 Validation Accuracy 86.1775\n",
            "Epoch 69  Training Accuracy 88.1610 Validation Accuracy 86.8601\n",
            "Epoch 70  Training Accuracy 88.1316 Validation Accuracy 86.8601\n",
            "Epoch 71  Training Accuracy 88.2344 Validation Accuracy 86.5188\n",
            "Epoch 72  Training Accuracy 88.2785 Validation Accuracy 86.6894\n",
            "Epoch 73  Training Accuracy 88.4401 Validation Accuracy 86.1775\n",
            "Epoch 74  Training Accuracy 88.2051 Validation Accuracy 86.8601\n",
            "Epoch 75  Training Accuracy 88.1169 Validation Accuracy 87.0307\n",
            "Epoch 76  Training Accuracy 88.4841 Validation Accuracy 87.2014\n",
            "Epoch 77  Training Accuracy 88.3960 Validation Accuracy 86.8601\n",
            "Epoch 78  Training Accuracy 88.1169 Validation Accuracy 86.6894\n",
            "Epoch 79  Training Accuracy 88.2638 Validation Accuracy 86.3481\n",
            "Epoch 80  Training Accuracy 87.9847 Validation Accuracy 86.8601\n",
            "Epoch 81  Training Accuracy 88.1022 Validation Accuracy 86.3481\n",
            "Epoch 82  Training Accuracy 88.2932 Validation Accuracy 86.6894\n",
            "Epoch 83  Training Accuracy 88.2344 Validation Accuracy 86.8601\n",
            "Epoch 84  Training Accuracy 88.2785 Validation Accuracy 86.6894\n",
            "Epoch 85  Training Accuracy 88.1169 Validation Accuracy 87.0307\n",
            "Epoch 86  Training Accuracy 88.1316 Validation Accuracy 86.1775\n",
            "Epoch 87  Training Accuracy 88.1904 Validation Accuracy 86.8601\n",
            "Epoch 88  Training Accuracy 87.8966 Validation Accuracy 86.1775\n",
            "Epoch 89  Training Accuracy 88.3079 Validation Accuracy 86.6894\n",
            "Epoch 90  Training Accuracy 87.9700 Validation Accuracy 86.6894\n",
            "Epoch 91  Training Accuracy 88.0875 Validation Accuracy 86.8601\n",
            "Epoch 92  Training Accuracy 88.2638 Validation Accuracy 86.5188\n",
            "Epoch 93  Training Accuracy 87.9847 Validation Accuracy 86.6894\n",
            "Epoch 94  Training Accuracy 88.2344 Validation Accuracy 87.3720\n",
            "Epoch 95  Training Accuracy 88.0729 Validation Accuracy 86.8601\n",
            "Epoch 96  Training Accuracy 88.2197 Validation Accuracy 86.8601\n",
            "Epoch 97  Training Accuracy 88.1316 Validation Accuracy 86.3481\n",
            "Epoch 98  Training Accuracy 88.1022 Validation Accuracy 86.1775\n",
            "Epoch 99  Training Accuracy 88.1169 Validation Accuracy 86.8601\n",
            "Epoch 100  Training Accuracy 87.9700 Validation Accuracy 86.1775\n",
            "---- For hyperparameter tuning: ----\n",
            "mean of unclipped gradients ->  399.5\n",
            "epsilon_c:  1.2793249597092586\n",
            "Runtime(s):  251.84615182876587 Memory(MB):  5118.1328125\n",
            "-----Training for knee x-ray data: ------\n",
            "Epoch 1  Training Accuracy 20.0850 Validation Accuracy 40.1937\n",
            "Epoch 2  Training Accuracy 20.9586 Validation Accuracy 25.3027\n",
            "Epoch 3  Training Accuracy 19.7294 Validation Accuracy 27.6029\n",
            "Epoch 4  Training Accuracy 19.1728 Validation Accuracy 27.4818\n",
            "Epoch 5  Training Accuracy 19.7140 Validation Accuracy 26.9976\n",
            "Epoch 6  Training Accuracy 21.1287 Validation Accuracy 26.2712\n",
            "Epoch 7  Training Accuracy 20.9277 Validation Accuracy 28.5714\n",
            "Epoch 8  Training Accuracy 22.3348 Validation Accuracy 29.1768\n",
            "Epoch 9  Training Accuracy 23.3089 Validation Accuracy 28.3293\n",
            "Epoch 10  Training Accuracy 23.9892 Validation Accuracy 30.0242\n",
            "Epoch 11  Training Accuracy 23.4867 Validation Accuracy 29.5400\n",
            "Epoch 12  Training Accuracy 24.2675 Validation Accuracy 31.4770\n",
            "Epoch 13  Training Accuracy 23.7959 Validation Accuracy 29.4189\n",
            "Epoch 14  Training Accuracy 23.8191 Validation Accuracy 28.4504\n",
            "Epoch 15  Training Accuracy 23.8268 Validation Accuracy 29.0557\n",
            "Epoch 16  Training Accuracy 24.1206 Validation Accuracy 31.3559\n",
            "Epoch 17  Training Accuracy 24.2056 Validation Accuracy 29.5400\n",
            "Epoch 18  Training Accuracy 23.8346 Validation Accuracy 27.6029\n",
            "Epoch 19  Training Accuracy 24.1361 Validation Accuracy 27.8450\n",
            "Epoch 20  Training Accuracy 24.0510 Validation Accuracy 27.7240\n",
            "Epoch 21  Training Accuracy 24.1515 Validation Accuracy 28.6925\n",
            "Epoch 22  Training Accuracy 24.6231 Validation Accuracy 30.2663\n",
            "Epoch 23  Training Accuracy 24.9324 Validation Accuracy 30.2663\n",
            "Epoch 24  Training Accuracy 24.7004 Validation Accuracy 28.8136\n",
            "Epoch 25  Training Accuracy 24.9942 Validation Accuracy 27.1186\n",
            "Epoch 26  Training Accuracy 24.9092 Validation Accuracy 29.7821\n",
            "Epoch 27  Training Accuracy 25.4349 Validation Accuracy 27.3608\n",
            "Epoch 28  Training Accuracy 25.1566 Validation Accuracy 26.8765\n",
            "Epoch 29  Training Accuracy 24.9787 Validation Accuracy 26.8765\n",
            "Epoch 30  Training Accuracy 25.5895 Validation Accuracy 28.6925\n",
            "Epoch 31  Training Accuracy 25.5122 Validation Accuracy 28.2082\n",
            "Epoch 32  Training Accuracy 25.5122 Validation Accuracy 26.3923\n",
            "Epoch 33  Training Accuracy 25.6745 Validation Accuracy 27.9661\n",
            "Epoch 34  Training Accuracy 26.0611 Validation Accuracy 30.0242\n",
            "Epoch 35  Training Accuracy 25.8678 Validation Accuracy 26.6344\n",
            "Epoch 36  Training Accuracy 25.5431 Validation Accuracy 28.6925\n",
            "Epoch 37  Training Accuracy 25.9606 Validation Accuracy 27.8450\n",
            "Epoch 38  Training Accuracy 25.4194 Validation Accuracy 29.5400\n",
            "Epoch 39  Training Accuracy 25.9915 Validation Accuracy 28.2082\n",
            "Epoch 40  Training Accuracy 25.9451 Validation Accuracy 29.5400\n",
            "Epoch 41  Training Accuracy 25.9760 Validation Accuracy 28.5714\n",
            "Epoch 42  Training Accuracy 26.0147 Validation Accuracy 27.4818\n",
            "Epoch 43  Training Accuracy 25.9296 Validation Accuracy 28.9346\n",
            "Epoch 44  Training Accuracy 26.0611 Validation Accuracy 27.6029\n",
            "Epoch 45  Training Accuracy 25.8678 Validation Accuracy 29.5400\n",
            "Epoch 46  Training Accuracy 26.3317 Validation Accuracy 28.0872\n",
            "Epoch 47  Training Accuracy 26.3162 Validation Accuracy 27.9661\n",
            "Epoch 48  Training Accuracy 26.4090 Validation Accuracy 28.8136\n",
            "Epoch 49  Training Accuracy 26.5481 Validation Accuracy 27.8450\n",
            "Epoch 50  Training Accuracy 26.2080 Validation Accuracy 27.9661\n",
            "Epoch 51  Training Accuracy 26.2234 Validation Accuracy 26.9976\n",
            "Epoch 52  Training Accuracy 26.1538 Validation Accuracy 28.4504\n",
            "Epoch 53  Training Accuracy 26.6100 Validation Accuracy 26.9976\n",
            "Epoch 54  Training Accuracy 26.3626 Validation Accuracy 29.6610\n",
            "Epoch 55  Training Accuracy 26.1616 Validation Accuracy 27.7240\n",
            "Epoch 56  Training Accuracy 25.8523 Validation Accuracy 28.9346\n",
            "Epoch 57  Training Accuracy 26.1152 Validation Accuracy 27.4818\n",
            "Epoch 58  Training Accuracy 26.3935 Validation Accuracy 29.6610\n",
            "Epoch 59  Training Accuracy 26.2853 Validation Accuracy 28.5714\n",
            "Epoch 60  Training Accuracy 26.3085 Validation Accuracy 28.4504\n",
            "Epoch 61  Training Accuracy 26.5790 Validation Accuracy 28.4504\n",
            "Epoch 62  Training Accuracy 26.1307 Validation Accuracy 28.3293\n",
            "Epoch 63  Training Accuracy 25.9606 Validation Accuracy 27.2397\n",
            "Epoch 64  Training Accuracy 26.2853 Validation Accuracy 27.6029\n",
            "Epoch 65  Training Accuracy 26.2930 Validation Accuracy 26.8765\n",
            "Epoch 66  Training Accuracy 26.5636 Validation Accuracy 26.9976\n",
            "Epoch 67  Training Accuracy 26.2389 Validation Accuracy 27.3608\n",
            "Epoch 68  Training Accuracy 26.1616 Validation Accuracy 28.0872\n",
            "Epoch 69  Training Accuracy 26.1152 Validation Accuracy 26.9976\n",
            "Epoch 70  Training Accuracy 26.4012 Validation Accuracy 28.4504\n",
            "Epoch 71  Training Accuracy 26.2543 Validation Accuracy 28.9346\n",
            "Epoch 72  Training Accuracy 26.2930 Validation Accuracy 28.0872\n",
            "Epoch 73  Training Accuracy 26.2234 Validation Accuracy 28.8136\n",
            "Epoch 74  Training Accuracy 26.1152 Validation Accuracy 27.9661\n",
            "Epoch 75  Training Accuracy 26.2621 Validation Accuracy 28.2082\n",
            "Epoch 76  Training Accuracy 26.0070 Validation Accuracy 28.5714\n",
            "Epoch 77  Training Accuracy 25.9219 Validation Accuracy 27.9661\n",
            "Epoch 78  Training Accuracy 25.8833 Validation Accuracy 26.9976\n",
            "Epoch 79  Training Accuracy 25.7905 Validation Accuracy 27.3608\n",
            "Epoch 80  Training Accuracy 26.2312 Validation Accuracy 26.6344\n",
            "Epoch 81  Training Accuracy 25.8833 Validation Accuracy 27.9661\n",
            "Epoch 82  Training Accuracy 25.9838 Validation Accuracy 29.2978\n",
            "Epoch 83  Training Accuracy 25.9374 Validation Accuracy 28.3293\n",
            "Epoch 84  Training Accuracy 25.9760 Validation Accuracy 28.8136\n",
            "Epoch 85  Training Accuracy 25.7905 Validation Accuracy 28.0872\n",
            "Epoch 86  Training Accuracy 26.0533 Validation Accuracy 26.7554\n",
            "Epoch 87  Training Accuracy 25.9142 Validation Accuracy 27.8450\n",
            "Epoch 88  Training Accuracy 26.0611 Validation Accuracy 28.4504\n",
            "Epoch 89  Training Accuracy 26.3317 Validation Accuracy 26.8765\n",
            "Epoch 90  Training Accuracy 26.1538 Validation Accuracy 27.8450\n",
            "Epoch 91  Training Accuracy 26.3471 Validation Accuracy 28.6925\n",
            "Epoch 92  Training Accuracy 25.7982 Validation Accuracy 28.4504\n",
            "Epoch 93  Training Accuracy 26.2080 Validation Accuracy 27.9661\n",
            "Epoch 94  Training Accuracy 25.9992 Validation Accuracy 28.2082\n",
            "Epoch 95  Training Accuracy 25.9528 Validation Accuracy 26.7554\n",
            "Epoch 96  Training Accuracy 26.2080 Validation Accuracy 26.2712\n",
            "Epoch 97  Training Accuracy 26.2466 Validation Accuracy 26.7554\n",
            "Epoch 98  Training Accuracy 26.3471 Validation Accuracy 28.6925\n",
            "Epoch 99  Training Accuracy 26.2389 Validation Accuracy 28.0872\n",
            "Epoch 100  Training Accuracy 26.1693 Validation Accuracy 28.8136\n",
            "---- For hyperparameter tuning: ----\n",
            "mean of unclipped gradients ->  399.5\n",
            "epsilon_k:  1.6449086053139519\n",
            "Runtime(s):  290.61544156074524 Memory(MB):  5233.69921875\n"
          ]
        }
      ],
      "source": [
        "# train with differential privacy\n",
        "if chest_data:\n",
        "  print(\"-----Training for chest x-ray data: ------\")\n",
        "  num_classes = 2\n",
        "  batch = 100\n",
        "\n",
        "  runtime_dp_c, peak_mem_dp_c, (train_accuracies_dp_c, valid_accuracies_dp_c, predict_dp_c) = get_memory_usage_and_runtime(define_model_and_train_dp, (x_train_c, x_valid_c, y_train_c, y_valid_c, num_classes))\n",
        "  epsilon_c = get_epsilon_momentents_gaussian_dp(len(x_train_c), sigma, epochs, batch)\n",
        "  print(\"epsilon_c: \", epsilon_c)\n",
        "  print(\"Runtime(s): \", runtime_dp_c, \"Memory(MB): \", peak_mem_dp_c)\n",
        "\n",
        "if knee_data:\n",
        "  print(\"-----Training for knee x-ray data: ------\")\n",
        "  num_classes = 5\n",
        "  batch = 300\n",
        "\n",
        "  runtime_dp_k, peak_mem_dp_k, (train_accuracies_dp_k, valid_accuracies_dp_k, predict_dp_k) = get_memory_usage_and_runtime(define_model_and_train_dp, (x_train_k, x_valid_k, y_train_k, y_valid_k, num_classes))\n",
        "  epsilon_k = get_epsilon_momentents_gaussian_dp(len(x_train_k), sigma, epochs, batch)\n",
        "  print(\"epsilon_k: \", epsilon_k)\n",
        "  print(\"Runtime(s): \", runtime_dp_k, \"Memory(MB): \", peak_mem_dp_k)"
      ]
    },
    {
      "cell_type": "code",
      "execution_count": 44,
      "metadata": {
        "colab": {
          "base_uri": "https://localhost:8080/",
          "height": 573
        },
        "id": "Lq48XHa2YywJ",
        "outputId": "115e622f-eb3a-4949-ba05-e95f59d21042"
      },
      "outputs": [
        {
          "output_type": "display_data",
          "data": {
            "text/plain": [
              "<Figure size 432x288 with 1 Axes>"
            ],
            "image/png": "[encoded data removed]"
          },
          "metadata": {
            "needs_background": "light"
          }
        },
        {
          "output_type": "display_data",
          "data": {
            "text/plain": [
              "<Figure size 432x288 with 1 Axes>"
            ],
            "image/png": "[encoded data removed]"
          },
          "metadata": {
            "needs_background": "light"
          }
        }
      ],
      "source": [
        "# plot accuracies from differentially private runs:\n",
        "if chest_data:\n",
        "  show_plot(train_accuracies_dp_c, valid_accuracies_dp_c, \"Chest X-ray\", \"Differentialy Private\")\n",
        "if knee_data:\n",
        "  show_plot(train_accuracies_dp_k, valid_accuracies_dp_k, \"Knee X-ray\", \"Differentialy Private\")"
      ]
    },
    {
      "cell_type": "code",
      "execution_count": 45,
      "metadata": {
        "colab": {
          "base_uri": "https://localhost:8080/"
        },
        "id": "XjjfyzjSY6FJ",
        "outputId": "20d8a44d-5ea5-499b-97c0-b8fc198ef68e"
      },
      "outputs": [
        {
          "output_type": "stream",
          "name": "stdout",
          "text": [
            "Test Accuracy of  Differentialy Private  Model for  Chest X-ray  data:  85.8119658119658\n",
            "Test Accuracy of  Differentialy Private  Model for  Knee X-ray  data:  29.661016949152543\n"
          ]
        }
      ],
      "source": [
        "# test accuracies:\n",
        "if chest_data:\n",
        "  test_accuracy_dp_c = get_test_accuracy(predict_dp_c, x_test_c, y_test_c, 'Chest X-ray', \"Differentialy Private\")\n",
        "if knee_data:\n",
        "  test_accuracy_dp_k = get_test_accuracy(predict_dp_k, x_test_k, y_test_k, 'Knee X-ray', \"Differentialy Private\")"
      ]
    },
    {
      "cell_type": "markdown",
      "source": [
        "## Save the Metrics"
      ],
      "metadata": {
        "id": "KZnV_47ru-9K"
      }
    },
    {
      "cell_type": "code",
      "source": [
        "def dump_metrics_to_json(filename, runtime, peak_mem, test_accuracy, epsilon=0, is_dp=False):\n",
        "    '''\n",
        "    dumps all the metrics from the model to a text file with the name filename\n",
        "\n",
        "    @param filename (string): filename, must end with .txt\n",
        "    @param runtime (float): runtime of training in seconds\n",
        "    @param peak_mem (float): peak memory of training in MB\n",
        "    @param epsilon (float): epsilon from gaussian DP\n",
        "    @param is_dp (boolean): true if the model had differential privacy incorporated\n",
        "    '''\n",
        "    \n",
        "    if is_dp:\n",
        "        privacy_utility = epsilon/test_accuracy\n",
        "        metrics = f\"Runtime(s): {runtime}\\nPeak Mem(MB): {peak_mem}\\nTest Accuracy: {test_accuracy}\\nEpsilon: {epsilon}\\nUtility: {privacy_utility}\"\n",
        "    else:\n",
        "        metrics = f\"Runtime(s): {runtime}\\nPeak Mem(MB): {peak_mem}\\nTest Accuracy: {test_accuracy}\"\n",
        "\n",
        "    with open(filename, 'w') as f:\n",
        "        f.write(metrics)"
      ],
      "metadata": {
        "id": "lHRMFCGEvCIy"
      },
      "execution_count": 48,
      "outputs": []
    },
    {
      "cell_type": "code",
      "source": [
        "if chest_data:\n",
        "  dump_metrics_to_json(\"tf_objax_regular_SGD_chest.txt\", runtime_regular_c, peak_mem_regular_c, test_accuracy_regular_c,)\n",
        "  dump_metrics_to_json(\"tf_objax_DP_SGD_chest.txt\", runtime_dp_c, peak_mem_dp_c, test_accuracy_dp_c, epsilon_c, is_dp=True)\n",
        "if knee_data:\n",
        "  dump_metrics_to_json(\"tf_objax_regular_SGD_knee.txt\", runtime_regular_k, peak_mem_regular_k, test_accuracy_regular_k)\n",
        "  dump_metrics_to_json(\"tf_objax_DP_SGD_knee.txt\", runtime_dp_k, peak_mem_dp_k, test_accuracy_dp_k, epsilon_k, is_dp=True)"
      ],
      "metadata": {
        "id": "ueLSdD6LvFO0"
      },
      "execution_count": 49,
      "outputs": []
    }
  ],
  "metadata": {
    "accelerator": "GPU",
    "colab": {
      "provenance": []
    },
    "gpuClass": "standard",
    "kernelspec": {
      "display_name": "Jupyter Notebook",
      "language": "python",
      "name": "jupyter-notebook"
    },
    "language_info": {
      "codemirror_mode": {
        "name": "ipython",
        "version": 3
      },
      "file_extension": ".py",
      "mimetype": "text/x-python",
      "name": "python",
      "nbconvert_exporter": "python",
      "pygments_lexer": "ipython3",
      "version": "3.11.0"
    }
  },
  "nbformat": 4,
  "nbformat_minor": 0
}