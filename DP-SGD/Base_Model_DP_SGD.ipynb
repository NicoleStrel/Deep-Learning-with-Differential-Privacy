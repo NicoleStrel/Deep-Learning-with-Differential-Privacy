{
  "cells": [
    {
      "cell_type": "markdown",
      "metadata": {
        "id": "4JSrfSYJo7JF"
      },
      "source": [
        "<img src=\"https://ethical-principles-in-ai.github.io/static/media/epai_logo.e502dc0cef3c434c1abf.png\" width=\"100\">"
      ]
    },
    {
      "cell_type": "markdown",
      "metadata": {
        "id": "rTtGPThhlUvB"
      },
      "source": [
        "# Deep Learning with Differential Privacy: Base Model\n",
        "\n",
        "This model provides a baseline for comparison between various differential privacy techniques. It uses the DP-SGD techqniue, as described in [Abadi et al.](https://arxiv.org/abs/1607.00133). Guassian noise is applied within SGD to ensure the model cannot be reverse engineered using inputs/outputs, which makes the model differientially private.\n",
        "\n",
        "*Written by Nicole Streltsov February 2023*"
      ]
    },
    {
      "cell_type": "code",
      "execution_count": null,
      "metadata": {
        "colab": {
          "base_uri": "https://localhost:8080/"
        },
        "id": "KWobhPsyVHbB",
        "outputId": "c874de47-08fb-40f6-f703-fd490e74fa5d"
      },
      "outputs": [
        {
          "output_type": "stream",
          "name": "stdout",
          "text": [
            "3.8.10\n"
          ]
        }
      ],
      "source": [
        "#check that we are on the correct python kernel \n",
        "from platform import python_version\n",
        "print(python_version())"
      ]
    },
    {
      "cell_type": "code",
      "execution_count": null,
      "metadata": {
        "id": "00pnurrnlT-K"
      },
      "outputs": [],
      "source": [
        "# imports\n",
        "!pip --quiet install  objax # only for google colab\n",
        "import jax\n",
        "import jax.numpy as jn\n",
        "import objax # to define a custom model with more control\n",
        "import tensorflow as tf \n",
        "from sklearn.utils import shuffle\n",
        "from sklearn.model_selection import train_test_split\n",
        "import matplotlib.pyplot as plt\n",
        "import numpy as np\n",
        "import pickle\n",
        "import os\n",
        "import gzip"
      ]
    },
    {
      "cell_type": "markdown",
      "metadata": {
        "id": "VCsxyXdkQ_uU"
      },
      "source": [
        "## Data, Model Creation, and Function Definitions"
      ]
    },
    {
      "cell_type": "code",
      "execution_count": null,
      "metadata": {
        "colab": {
          "base_uri": "https://localhost:8080/"
        },
        "id": "2ceqZpR2VHbE",
        "outputId": "62d89cab-45b1-416e-946b-a2ede3af2737"
      },
      "outputs": [
        {
          "output_type": "stream",
          "name": "stdout",
          "text": [
            "numpy array shapes -->  (4685, 256, 256, 3) (586, 256, 256, 3) (585, 256, 256, 3) (4685, 1) (586, 1) (585, 1)\n"
          ]
        }
      ],
      "source": [
        "#load from compressed pickle files\n",
        "path = 'chest-data' #os.path.join(os.path.dirname(os.getcwd()), 'chest-data')\n",
        "\n",
        "with gzip.open(os.path.join(path, 'chest_x_train.gz'), 'rb') as i:\n",
        "    x_train = pickle.load(i)\n",
        "with gzip.open(os.path.join(path, 'chest_x_val.gz'), 'rb') as i:\n",
        "    x_valid = pickle.load(i)    \n",
        "with gzip.open(os.path.join(path, 'chest_x_test.gz'), 'rb') as i:\n",
        "    x_test = pickle.load(i)  \n",
        "with gzip.open(os.path.join(path, 'chest_y_train.gz'), 'rb') as i:\n",
        "    y_train = pickle.load(i)  \n",
        "with gzip.open(os.path.join(path, 'chest_y_val.gz'), 'rb') as i:\n",
        "    y_valid = pickle.load(i) \n",
        "with gzip.open(os.path.join(path, 'chest_y_test.gz'), 'rb') as i:\n",
        "    y_test = pickle.load(i) \n",
        "        \n",
        "print(\"numpy array shapes --> \", x_train.shape, x_valid.shape, x_test.shape, y_train.shape, y_valid.shape, y_test.shape)             "
      ]
    },
    {
      "cell_type": "code",
      "execution_count": null,
      "metadata": {
        "id": "TLUSwK0Lm_XO"
      },
      "outputs": [],
      "source": [
        "## Dummy dataset - cifar 10 for temporary testing\n",
        "# # load data\n",
        "# (x_train, y_train), (x_test, y_test) = tf.keras.datasets.cifar10.load_data() # dataset of 60000 32x32 coloured images\n",
        "# x = np.concatenate([x_train, x_test], axis = 0)\n",
        "# y = np.concatenate([y_train, y_test], axis = 0)\n",
        "\n",
        "# # shuffle\n",
        "# x, y = shuffle(x, y, random_state=0)\n",
        "\n",
        "# # split into 80% train, 10% valid, 10% test\n",
        "# x_train, x_remaining, y_train, y_remaining = train_test_split(x, y, train_size=0.8)\n",
        "# x_valid, x_test, y_valid, y_test = train_test_split(x_remaining, y_remaining, test_size=0.5) # split remaining 20% into 10% and 10%\n",
        "\n",
        "#convert to proper format for our model\n",
        "def convert_x(x):\n",
        "  return x.transpose(0, 3, 1, 2) / 255.0 # normalize, and ensure correct indicies for model\n",
        "\n",
        "x_train = convert_x(x_train)\n",
        "y_train = y_train.flatten()\n",
        "\n",
        "x_valid = convert_x(x_valid)\n",
        "y_valid = y_valid.flatten()\n",
        "\n",
        "x_test = convert_x(x_test)\n",
        "y_test = y_test.flatten()"
      ]
    },
    {
      "cell_type": "code",
      "execution_count": null,
      "metadata": {
        "id": "pEgrzvAIn1AH"
      },
      "outputs": [],
      "source": [
        "# define cnn\n",
        "class CNN(objax.Module):\n",
        "  def __init__(self, channels, classes, size, kernel):\n",
        "    self.conv1 = objax.nn.Sequential([objax.nn.Conv2D(channels, size, kernel), objax.functional.relu])\n",
        "    self.conv2 = objax.nn.Sequential([objax.nn.Conv2D(size, 512, kernel), objax.functional.relu])\n",
        "    self.fc1 = objax.nn.Sequential([objax.nn.Linear(512, 70), objax.functional.relu])\n",
        "    self.fc2 = objax.nn.Sequential([objax.nn.Linear(70, 8), objax.functional.relu])\n",
        "    self.fc3 = objax.nn.Linear(8, classes)\n",
        "\n",
        "  def __call__(self, x):\n",
        "    x = objax.functional.max_pool_2d(self.conv1(x), 2, 2)\n",
        "    x = self.conv2(x)\n",
        "    x = x.mean((2,3)) #global average pooling \n",
        "    x = self.fc1(x)\n",
        "    x = self.fc2(x)\n",
        "    x = self.fc3(x)\n",
        "    return x\n"
      ]
    },
    {
      "cell_type": "code",
      "execution_count": null,
      "metadata": {
        "colab": {
          "base_uri": "https://localhost:8080/",
          "height": 305
        },
        "id": "v43qz6hAnEXE",
        "outputId": "5a93b355-545a-4565-e872-a0a46eb3c9ce"
      },
      "outputs": [
        {
          "output_type": "execute_result",
          "data": {
            "text/plain": [
              "<matplotlib.image.AxesImage at 0x7f3b655c9f70>"
            ]
          },
          "metadata": {},
          "execution_count": 64
        },
        {
          "output_type": "display_data",
          "data": {
            "text/plain": [
              "<Figure size 432x288 with 0 Axes>"
            ]
          },
          "metadata": {}
        },
        {
          "output_type": "display_data",
          "data": {
            "text/plain": [
              "<Figure size 432x288 with 3 Axes>"
            ],
            "image/png": "[encoded data removed]"
          },
          "metadata": {
            "needs_background": "light"
          }
        }
      ],
      "source": [
        "# show preview of dataset images\n",
        "plt.figure()\n",
        "f, axarr = plt.subplots(3,1) \n",
        "axarr[0].imshow(x_train[0].transpose(1,2,0))\n",
        "axarr[1].imshow(x_valid[0].transpose(1,2,0))\n",
        "axarr[2].imshow(x_test[0].transpose(1,2,0))"
      ]
    },
    {
      "cell_type": "code",
      "execution_count": null,
      "metadata": {
        "id": "HdvTNLnT450u"
      },
      "outputs": [],
      "source": [
        "#training loop helper function\n",
        "def train_per_batch(x, y, lr, batch, train_op, predict):\n",
        "  acc = 0\n",
        "  shuffle_indicies = np.arange(len(x))\n",
        "  np.random.shuffle(shuffle_indicies) #shuffle before running batches to remove correlation\n",
        "\n",
        "  for i in range(0, x.shape[0], batch):\n",
        "      batch_idxs = shuffle_indicies[i:i+batch]\n",
        "\n",
        "      #run train_op step\n",
        "      loss = float(train_op(x[batch_idxs], y[batch_idxs], lr)[0]) * len(batch_idxs)\n",
        "      \n",
        "      #store accuracy\n",
        "      acc += (np.array(predict(x[batch_idxs]).argmax(1)).flatten() == y[batch_idxs]).sum()\n",
        "\n",
        "  return acc\n",
        "\n",
        "#training loop\n",
        "def train(epochs, batch, lr, x_train, x_valid, y_train, y_valid, train_op, predict):\n",
        "  train_accuracies = []\n",
        "  valid_accuracies = []\n",
        "\n",
        "  for epoch in range(1, epochs+1):\n",
        "      train_loss = []\n",
        "      valid_loss = []\n",
        "\n",
        "      # batch training\n",
        "      avg_train_acc = train_per_batch(x_train, y_train, lr, batch, train_op, predict) / x_train.shape[0]\n",
        "      train_accuracies.append(avg_train_acc)\n",
        "      \n",
        "      # batch validation \n",
        "      avg_val_acc = train_per_batch(x_valid, y_valid, lr, batch, train_op, predict) / x_valid.shape[0]\n",
        "      valid_accuracies.append(avg_val_acc)\n",
        "\n",
        "      print('Epoch %d  Training Accuracy %.4f Validation Accuracy %.4f' % (epoch, avg_train_acc*100, avg_val_acc*100))\n",
        "    \n",
        "  return train_accuracies, valid_accuracies"
      ]
    },
    {
      "cell_type": "markdown",
      "metadata": {
        "id": "Sx9ytkpaROBn"
      },
      "source": [
        "## Train Regular CNN"
      ]
    },
    {
      "cell_type": "code",
      "execution_count": null,
      "metadata": {
        "id": "cSvlFDT_aJ59"
      },
      "outputs": [],
      "source": [
        "# hyperparameters\n",
        "epochs = 10\n",
        "batch = 100\n",
        "lr = 0.1\n",
        "chest_ds_size = 256 #h/w of images in chest dataset"
      ]
    },
    {
      "cell_type": "code",
      "execution_count": null,
      "metadata": {
        "id": "mGWKDLHu0rdJ"
      },
      "outputs": [],
      "source": [
        "#define model\n",
        "model_regular = CNN(channels = 3, classes = 2, size = chest_ds_size, kernel = 2) # classes = 10 for cifar10\n",
        "\n",
        "#define loss\n",
        "def loss_fn_regular(x, y):\n",
        "    return objax.functional.loss.cross_entropy_logits_sparse(model_regular(x), y).mean()\n",
        "\n",
        "#define prediction function (to get results of model training)\n",
        "predict_regular = objax.Jit(lambda x: objax.functional.softmax(model_regular(x)), model_regular.vars())\n",
        "\n",
        "# define 'forward' operation.\n",
        "gv_regular = objax.GradValues(loss_fn_regular, model_regular.vars()) #function that calculates gradient\n",
        "tv_regular = objax.ModuleList(objax.TrainRef(x) for x in model_regular.vars().subset(objax.TrainVar)) #trainable variables\n",
        "\n",
        "def train_op_regular(x, y, lr):\n",
        "    g, v = gv_regular(x, y) # apply gradient\n",
        "    \n",
        "    # ** optimzer: SGD **\n",
        "    for grad, params in zip(g, tv_regular.vars()):\n",
        "      params.value -= jn.multiply(grad, lr) #jax speeds up computation\n",
        "\n",
        "    return v # v is the loss\n",
        "\n",
        "train_op_regular = objax.Jit(train_op_regular, gv_regular.vars() + tv_regular.vars()) # compile train_op to make it faster"
      ]
    },
    {
      "cell_type": "code",
      "execution_count": null,
      "metadata": {
        "id": "y1rAgia_QvKj",
        "colab": {
          "base_uri": "https://localhost:8080/",
          "height": 1000
        },
        "outputId": "17da890d-ddf9-4712-ec99-d3cad6d116ac"
      },
      "outputs": [
        {
          "output_type": "error",
          "ename": "XlaRuntimeError",
          "evalue": "ignored",
          "traceback": [
            "\u001b[0;31m---------------------------------------------------------------------------\u001b[0m",
            "\u001b[0;31mUnfilteredStackTrace\u001b[0m                      Traceback (most recent call last)",
            "\u001b[0;32m<ipython-input-68-02ad46a1980c>\u001b[0m in \u001b[0;36m<module>\u001b[0;34m\u001b[0m\n\u001b[1;32m      1\u001b[0m \u001b[0;31m# train without differential privacy (dp)\u001b[0m\u001b[0;34m\u001b[0m\u001b[0;34m\u001b[0m\u001b[0;34m\u001b[0m\u001b[0m\n\u001b[0;32m----> 2\u001b[0;31m \u001b[0mtrain_accuracies_regular\u001b[0m\u001b[0;34m,\u001b[0m \u001b[0mvalid_accuracies_regular\u001b[0m \u001b[0;34m=\u001b[0m \u001b[0mtrain\u001b[0m\u001b[0;34m(\u001b[0m\u001b[0mepochs\u001b[0m\u001b[0;34m,\u001b[0m \u001b[0mbatch\u001b[0m\u001b[0;34m,\u001b[0m \u001b[0mlr\u001b[0m\u001b[0;34m,\u001b[0m \u001b[0mx_train\u001b[0m\u001b[0;34m,\u001b[0m \u001b[0mx_valid\u001b[0m\u001b[0;34m,\u001b[0m \u001b[0my_train\u001b[0m\u001b[0;34m,\u001b[0m \u001b[0my_valid\u001b[0m\u001b[0;34m,\u001b[0m \u001b[0mtrain_op_regular\u001b[0m\u001b[0;34m,\u001b[0m \u001b[0mpredict_regular\u001b[0m\u001b[0;34m)\u001b[0m\u001b[0;34m\u001b[0m\u001b[0;34m\u001b[0m\u001b[0m\n\u001b[0m",
            "\u001b[0;32m<ipython-input-65-8c652da082da>\u001b[0m in \u001b[0;36mtrain\u001b[0;34m(epochs, batch, lr, x_train, x_valid, y_train, y_valid, train_op, predict)\u001b[0m\n\u001b[1;32m     27\u001b[0m       \u001b[0;31m# batch training\u001b[0m\u001b[0;34m\u001b[0m\u001b[0;34m\u001b[0m\u001b[0;34m\u001b[0m\u001b[0m\n\u001b[0;32m---> 28\u001b[0;31m       \u001b[0mavg_train_acc\u001b[0m \u001b[0;34m=\u001b[0m \u001b[0mtrain_per_batch\u001b[0m\u001b[0;34m(\u001b[0m\u001b[0mx_train\u001b[0m\u001b[0;34m,\u001b[0m \u001b[0my_train\u001b[0m\u001b[0;34m,\u001b[0m \u001b[0mlr\u001b[0m\u001b[0;34m,\u001b[0m \u001b[0mbatch\u001b[0m\u001b[0;34m,\u001b[0m \u001b[0mtrain_op\u001b[0m\u001b[0;34m,\u001b[0m \u001b[0mpredict\u001b[0m\u001b[0;34m)\u001b[0m \u001b[0;34m/\u001b[0m \u001b[0mx_train\u001b[0m\u001b[0;34m.\u001b[0m\u001b[0mshape\u001b[0m\u001b[0;34m[\u001b[0m\u001b[0;36m0\u001b[0m\u001b[0;34m]\u001b[0m\u001b[0;34m\u001b[0m\u001b[0;34m\u001b[0m\u001b[0m\n\u001b[0m\u001b[1;32m     29\u001b[0m       \u001b[0mtrain_accuracies\u001b[0m\u001b[0;34m.\u001b[0m\u001b[0mappend\u001b[0m\u001b[0;34m(\u001b[0m\u001b[0mavg_train_acc\u001b[0m\u001b[0;34m)\u001b[0m\u001b[0;34m\u001b[0m\u001b[0;34m\u001b[0m\u001b[0m\n",
            "\u001b[0;32m<ipython-input-65-8c652da082da>\u001b[0m in \u001b[0;36mtrain_per_batch\u001b[0;34m(x, y, lr, batch, train_op, predict)\u001b[0m\n\u001b[1;32m     10\u001b[0m       \u001b[0;31m#run train_op step\u001b[0m\u001b[0;34m\u001b[0m\u001b[0;34m\u001b[0m\u001b[0;34m\u001b[0m\u001b[0m\n\u001b[0;32m---> 11\u001b[0;31m       \u001b[0mloss\u001b[0m \u001b[0;34m=\u001b[0m \u001b[0mfloat\u001b[0m\u001b[0;34m(\u001b[0m\u001b[0mtrain_op\u001b[0m\u001b[0;34m(\u001b[0m\u001b[0mx\u001b[0m\u001b[0;34m[\u001b[0m\u001b[0mbatch_idxs\u001b[0m\u001b[0;34m]\u001b[0m\u001b[0;34m,\u001b[0m \u001b[0my\u001b[0m\u001b[0;34m[\u001b[0m\u001b[0mbatch_idxs\u001b[0m\u001b[0;34m]\u001b[0m\u001b[0;34m,\u001b[0m \u001b[0mlr\u001b[0m\u001b[0;34m)\u001b[0m\u001b[0;34m[\u001b[0m\u001b[0;36m0\u001b[0m\u001b[0;34m]\u001b[0m\u001b[0;34m)\u001b[0m \u001b[0;34m*\u001b[0m \u001b[0mlen\u001b[0m\u001b[0;34m(\u001b[0m\u001b[0mbatch_idxs\u001b[0m\u001b[0;34m)\u001b[0m\u001b[0;34m\u001b[0m\u001b[0;34m\u001b[0m\u001b[0m\n\u001b[0m\u001b[1;32m     12\u001b[0m \u001b[0;34m\u001b[0m\u001b[0m\n",
            "\u001b[0;32m/usr/local/lib/python3.8/dist-packages/objax/module.py\u001b[0m in \u001b[0;36m__call__\u001b[0;34m(self, *args, **kwargs)\u001b[0m\n\u001b[1;32m    257\u001b[0m         \u001b[0;34m\"\"\"Call the compiled version of the function or module.\"\"\"\u001b[0m\u001b[0;34m\u001b[0m\u001b[0;34m\u001b[0m\u001b[0m\n\u001b[0;32m--> 258\u001b[0;31m         \u001b[0moutput\u001b[0m\u001b[0;34m,\u001b[0m \u001b[0mchanges\u001b[0m \u001b[0;34m=\u001b[0m \u001b[0mself\u001b[0m\u001b[0;34m.\u001b[0m\u001b[0m_call\u001b[0m\u001b[0;34m(\u001b[0m\u001b[0mself\u001b[0m\u001b[0;34m.\u001b[0m\u001b[0mvc\u001b[0m\u001b[0;34m.\u001b[0m\u001b[0mtensors\u001b[0m\u001b[0;34m(\u001b[0m\u001b[0;34m)\u001b[0m\u001b[0;34m,\u001b[0m \u001b[0mkwargs\u001b[0m\u001b[0;34m,\u001b[0m \u001b[0;34m*\u001b[0m\u001b[0margs\u001b[0m\u001b[0;34m)\u001b[0m\u001b[0;34m\u001b[0m\u001b[0;34m\u001b[0m\u001b[0m\n\u001b[0m\u001b[1;32m    259\u001b[0m         \u001b[0mself\u001b[0m\u001b[0;34m.\u001b[0m\u001b[0mvc\u001b[0m\u001b[0;34m.\u001b[0m\u001b[0massign\u001b[0m\u001b[0;34m(\u001b[0m\u001b[0mchanges\u001b[0m\u001b[0;34m)\u001b[0m\u001b[0;34m\u001b[0m\u001b[0;34m\u001b[0m\u001b[0m\n",
            "\u001b[0;32m/usr/local/lib/python3.8/dist-packages/jax/_src/traceback_util.py\u001b[0m in \u001b[0;36mreraise_with_filtered_traceback\u001b[0;34m(*args, **kwargs)\u001b[0m\n\u001b[1;32m    162\u001b[0m     \u001b[0;32mtry\u001b[0m\u001b[0;34m:\u001b[0m\u001b[0;34m\u001b[0m\u001b[0;34m\u001b[0m\u001b[0m\n\u001b[0;32m--> 163\u001b[0;31m       \u001b[0;32mreturn\u001b[0m \u001b[0mfun\u001b[0m\u001b[0;34m(\u001b[0m\u001b[0;34m*\u001b[0m\u001b[0margs\u001b[0m\u001b[0;34m,\u001b[0m \u001b[0;34m**\u001b[0m\u001b[0mkwargs\u001b[0m\u001b[0;34m)\u001b[0m\u001b[0;34m\u001b[0m\u001b[0;34m\u001b[0m\u001b[0m\n\u001b[0m\u001b[1;32m    164\u001b[0m     \u001b[0;32mexcept\u001b[0m \u001b[0mException\u001b[0m \u001b[0;32mas\u001b[0m \u001b[0me\u001b[0m\u001b[0;34m:\u001b[0m\u001b[0;34m\u001b[0m\u001b[0;34m\u001b[0m\u001b[0m\n",
            "\u001b[0;32m/usr/local/lib/python3.8/dist-packages/jax/_src/pjit.py\u001b[0m in \u001b[0;36mcache_miss\u001b[0;34m(*args, **kwargs)\u001b[0m\n\u001b[1;32m    236\u001b[0m   \u001b[0;32mdef\u001b[0m \u001b[0mcache_miss\u001b[0m\u001b[0;34m(\u001b[0m\u001b[0;34m*\u001b[0m\u001b[0margs\u001b[0m\u001b[0;34m,\u001b[0m \u001b[0;34m**\u001b[0m\u001b[0mkwargs\u001b[0m\u001b[0;34m)\u001b[0m\u001b[0;34m:\u001b[0m\u001b[0;34m\u001b[0m\u001b[0;34m\u001b[0m\u001b[0m\n\u001b[0;32m--> 237\u001b[0;31m     outs, out_flat, out_tree, args_flat = _python_pjit_helper(\n\u001b[0m\u001b[1;32m    238\u001b[0m         fun, infer_params_fn, *args, **kwargs)\n",
            "\u001b[0;32m/usr/local/lib/python3.8/dist-packages/jax/_src/pjit.py\u001b[0m in \u001b[0;36m_python_pjit_helper\u001b[0;34m(fun, infer_params_fn, *args, **kwargs)\u001b[0m\n\u001b[1;32m    184\u001b[0m   \u001b[0;32mtry\u001b[0m\u001b[0;34m:\u001b[0m\u001b[0;34m\u001b[0m\u001b[0;34m\u001b[0m\u001b[0m\n\u001b[0;32m--> 185\u001b[0;31m     \u001b[0mout_flat\u001b[0m \u001b[0;34m=\u001b[0m \u001b[0mpjit_p\u001b[0m\u001b[0;34m.\u001b[0m\u001b[0mbind\u001b[0m\u001b[0;34m(\u001b[0m\u001b[0;34m*\u001b[0m\u001b[0margs_flat\u001b[0m\u001b[0;34m,\u001b[0m \u001b[0;34m**\u001b[0m\u001b[0mparams\u001b[0m\u001b[0;34m)\u001b[0m\u001b[0;34m\u001b[0m\u001b[0;34m\u001b[0m\u001b[0m\n\u001b[0m\u001b[1;32m    186\u001b[0m   \u001b[0;32mexcept\u001b[0m \u001b[0mpxla\u001b[0m\u001b[0;34m.\u001b[0m\u001b[0mDeviceAssignmentMismatchError\u001b[0m \u001b[0;32mas\u001b[0m \u001b[0me\u001b[0m\u001b[0;34m:\u001b[0m\u001b[0;34m\u001b[0m\u001b[0;34m\u001b[0m\u001b[0m\n",
            "\u001b[0;32m/usr/local/lib/python3.8/dist-packages/jax/_src/core.py\u001b[0m in \u001b[0;36mbind\u001b[0;34m(self, *args, **params)\u001b[0m\n\u001b[1;32m   2558\u001b[0m                  else axis_main.with_cur_sublevel())\n\u001b[0;32m-> 2559\u001b[0;31m     \u001b[0;32mreturn\u001b[0m \u001b[0mself\u001b[0m\u001b[0;34m.\u001b[0m\u001b[0mbind_with_trace\u001b[0m\u001b[0;34m(\u001b[0m\u001b[0mtop_trace\u001b[0m\u001b[0;34m,\u001b[0m \u001b[0margs\u001b[0m\u001b[0;34m,\u001b[0m \u001b[0mparams\u001b[0m\u001b[0;34m)\u001b[0m\u001b[0;34m\u001b[0m\u001b[0;34m\u001b[0m\u001b[0m\n\u001b[0m\u001b[1;32m   2560\u001b[0m \u001b[0;34m\u001b[0m\u001b[0m\n",
            "\u001b[0;32m/usr/local/lib/python3.8/dist-packages/jax/_src/core.py\u001b[0m in \u001b[0;36mbind_with_trace\u001b[0;34m(self, trace, args, params)\u001b[0m\n\u001b[1;32m    345\u001b[0m   \u001b[0;32mdef\u001b[0m \u001b[0mbind_with_trace\u001b[0m\u001b[0;34m(\u001b[0m\u001b[0mself\u001b[0m\u001b[0;34m,\u001b[0m \u001b[0mtrace\u001b[0m\u001b[0;34m,\u001b[0m \u001b[0margs\u001b[0m\u001b[0;34m,\u001b[0m \u001b[0mparams\u001b[0m\u001b[0;34m)\u001b[0m\u001b[0;34m:\u001b[0m\u001b[0;34m\u001b[0m\u001b[0;34m\u001b[0m\u001b[0m\n\u001b[0;32m--> 346\u001b[0;31m     \u001b[0mout\u001b[0m \u001b[0;34m=\u001b[0m \u001b[0mtrace\u001b[0m\u001b[0;34m.\u001b[0m\u001b[0mprocess_primitive\u001b[0m\u001b[0;34m(\u001b[0m\u001b[0mself\u001b[0m\u001b[0;34m,\u001b[0m \u001b[0mmap\u001b[0m\u001b[0;34m(\u001b[0m\u001b[0mtrace\u001b[0m\u001b[0;34m.\u001b[0m\u001b[0mfull_raise\u001b[0m\u001b[0;34m,\u001b[0m \u001b[0margs\u001b[0m\u001b[0;34m)\u001b[0m\u001b[0;34m,\u001b[0m \u001b[0mparams\u001b[0m\u001b[0;34m)\u001b[0m\u001b[0;34m\u001b[0m\u001b[0;34m\u001b[0m\u001b[0m\n\u001b[0m\u001b[1;32m    347\u001b[0m     \u001b[0;32mreturn\u001b[0m \u001b[0mmap\u001b[0m\u001b[0;34m(\u001b[0m\u001b[0mfull_lower\u001b[0m\u001b[0;34m,\u001b[0m \u001b[0mout\u001b[0m\u001b[0;34m)\u001b[0m \u001b[0;32mif\u001b[0m \u001b[0mself\u001b[0m\u001b[0;34m.\u001b[0m\u001b[0mmultiple_results\u001b[0m \u001b[0;32melse\u001b[0m \u001b[0mfull_lower\u001b[0m\u001b[0;34m(\u001b[0m\u001b[0mout\u001b[0m\u001b[0;34m)\u001b[0m\u001b[0;34m\u001b[0m\u001b[0;34m\u001b[0m\u001b[0m\n",
            "\u001b[0;32m/usr/local/lib/python3.8/dist-packages/jax/_src/core.py\u001b[0m in \u001b[0;36mprocess_primitive\u001b[0;34m(self, primitive, tracers, params)\u001b[0m\n\u001b[1;32m    788\u001b[0m   \u001b[0;32mdef\u001b[0m \u001b[0mprocess_primitive\u001b[0m\u001b[0;34m(\u001b[0m\u001b[0mself\u001b[0m\u001b[0;34m,\u001b[0m \u001b[0mprimitive\u001b[0m\u001b[0;34m,\u001b[0m \u001b[0mtracers\u001b[0m\u001b[0;34m,\u001b[0m \u001b[0mparams\u001b[0m\u001b[0;34m)\u001b[0m\u001b[0;34m:\u001b[0m\u001b[0;34m\u001b[0m\u001b[0;34m\u001b[0m\u001b[0m\n\u001b[0;32m--> 789\u001b[0;31m     \u001b[0;32mreturn\u001b[0m \u001b[0mprimitive\u001b[0m\u001b[0;34m.\u001b[0m\u001b[0mimpl\u001b[0m\u001b[0;34m(\u001b[0m\u001b[0;34m*\u001b[0m\u001b[0mtracers\u001b[0m\u001b[0;34m,\u001b[0m \u001b[0;34m**\u001b[0m\u001b[0mparams\u001b[0m\u001b[0;34m)\u001b[0m\u001b[0;34m\u001b[0m\u001b[0;34m\u001b[0m\u001b[0m\n\u001b[0m\u001b[1;32m    790\u001b[0m \u001b[0;34m\u001b[0m\u001b[0m\n",
            "\u001b[0;32m/usr/local/lib/python3.8/dist-packages/jax/_src/pjit.py\u001b[0m in \u001b[0;36m_pjit_call_impl\u001b[0;34m(jaxpr, in_shardings, out_shardings, resource_env, donated_invars, name, in_positional_semantics, out_positional_semantics, keep_unused, inline, *args)\u001b[0m\n\u001b[1;32m   1285\u001b[0m     \u001b[0m_allow_propagation_to_outputs\u001b[0m \u001b[0;34m=\u001b[0m \u001b[0;34m[\u001b[0m\u001b[0;32mFalse\u001b[0m\u001b[0;34m]\u001b[0m \u001b[0;34m*\u001b[0m \u001b[0mlen\u001b[0m\u001b[0;34m(\u001b[0m\u001b[0mout_shardings\u001b[0m\u001b[0;34m)\u001b[0m\u001b[0;34m\u001b[0m\u001b[0;34m\u001b[0m\u001b[0m\n\u001b[0;32m-> 1286\u001b[0;31m   compiled = _pjit_lower(\n\u001b[0m\u001b[1;32m   1287\u001b[0m       \u001b[0mjaxpr\u001b[0m\u001b[0;34m,\u001b[0m \u001b[0min_shardings\u001b[0m\u001b[0;34m,\u001b[0m \u001b[0mout_shardings\u001b[0m\u001b[0;34m,\u001b[0m \u001b[0mresource_env\u001b[0m\u001b[0;34m,\u001b[0m\u001b[0;34m\u001b[0m\u001b[0;34m\u001b[0m\u001b[0m\n",
            "\u001b[0;32m/usr/local/lib/python3.8/dist-packages/jax/_src/interpreters/pxla.py\u001b[0m in \u001b[0;36mcompile\u001b[0;34m(self, _allow_propagation_to_outputs, _allow_compile_replicated)\u001b[0m\n\u001b[1;32m   3253\u001b[0m     \u001b[0;32mif\u001b[0m \u001b[0mself\u001b[0m\u001b[0;34m.\u001b[0m\u001b[0m_executable\u001b[0m \u001b[0;32mis\u001b[0m \u001b[0;32mNone\u001b[0m\u001b[0;34m:\u001b[0m\u001b[0;34m\u001b[0m\u001b[0;34m\u001b[0m\u001b[0m\n\u001b[0;32m-> 3254\u001b[0;31m       executable = self._compile_unloaded(\n\u001b[0m\u001b[1;32m   3255\u001b[0m           _allow_propagation_to_outputs, _allow_compile_replicated)\n",
            "\u001b[0;32m/usr/local/lib/python3.8/dist-packages/jax/_src/interpreters/pxla.py\u001b[0m in \u001b[0;36m_compile_unloaded\u001b[0;34m(self, _allow_propagation_to_outputs, _allow_compile_replicated)\u001b[0m\n\u001b[1;32m   3224\u001b[0m     \u001b[0;32melse\u001b[0m\u001b[0;34m:\u001b[0m\u001b[0;34m\u001b[0m\u001b[0;34m\u001b[0m\u001b[0m\n\u001b[0;32m-> 3225\u001b[0;31m       return UnloadedMeshExecutable.from_hlo(\n\u001b[0m\u001b[1;32m   3226\u001b[0m           \u001b[0mself\u001b[0m\u001b[0;34m.\u001b[0m\u001b[0m_name\u001b[0m\u001b[0;34m,\u001b[0m\u001b[0;34m\u001b[0m\u001b[0;34m\u001b[0m\u001b[0m\n",
            "\u001b[0;32m/usr/local/lib/python3.8/dist-packages/jax/_src/interpreters/pxla.py\u001b[0m in \u001b[0;36mfrom_hlo\u001b[0;34m(name, computation, mesh, global_in_avals, global_out_avals, in_shardings, out_shardings, spmd_lowering, tuple_args, in_is_global, auto_spmd_lowering, _allow_propagation_to_outputs, _allow_compile_replicated, unordered_effects, ordered_effects, host_callbacks, keepalive, kept_var_idx, backend, device_assignment, committed, pmap_nreps)\u001b[0m\n\u001b[1;32m   3511\u001b[0m                                      event=dispatch.BACKEND_COMPILE_EVENT):\n\u001b[0;32m-> 3512\u001b[0;31m         xla_executable = dispatch.compile_or_get_cached(\n\u001b[0m\u001b[1;32m   3513\u001b[0m             backend, computation, compile_options, host_callbacks)\n",
            "\u001b[0;32m/usr/local/lib/python3.8/dist-packages/jax/_src/dispatch.py\u001b[0m in \u001b[0;36mcompile_or_get_cached\u001b[0;34m(backend, computation, compile_options, host_callbacks)\u001b[0m\n\u001b[1;32m   1094\u001b[0m \u001b[0;34m\u001b[0m\u001b[0m\n\u001b[0;32m-> 1095\u001b[0;31m   return backend_compile(backend, serialized_computation, compile_options,\n\u001b[0m\u001b[1;32m   1096\u001b[0m                          host_callbacks)\n",
            "\u001b[0;32m/usr/local/lib/python3.8/dist-packages/jax/_src/profiler.py\u001b[0m in \u001b[0;36mwrapper\u001b[0;34m(*args, **kwargs)\u001b[0m\n\u001b[1;32m    313\u001b[0m     \u001b[0;32mwith\u001b[0m \u001b[0mTraceAnnotation\u001b[0m\u001b[0;34m(\u001b[0m\u001b[0mname\u001b[0m\u001b[0;34m,\u001b[0m \u001b[0;34m**\u001b[0m\u001b[0mdecorator_kwargs\u001b[0m\u001b[0;34m)\u001b[0m\u001b[0;34m:\u001b[0m\u001b[0;34m\u001b[0m\u001b[0;34m\u001b[0m\u001b[0m\n\u001b[0;32m--> 314\u001b[0;31m       \u001b[0;32mreturn\u001b[0m \u001b[0mfunc\u001b[0m\u001b[0;34m(\u001b[0m\u001b[0;34m*\u001b[0m\u001b[0margs\u001b[0m\u001b[0;34m,\u001b[0m \u001b[0;34m**\u001b[0m\u001b[0mkwargs\u001b[0m\u001b[0;34m)\u001b[0m\u001b[0;34m\u001b[0m\u001b[0;34m\u001b[0m\u001b[0m\n\u001b[0m\u001b[1;32m    315\u001b[0m     \u001b[0;32mreturn\u001b[0m \u001b[0mwrapper\u001b[0m\u001b[0;34m\u001b[0m\u001b[0;34m\u001b[0m\u001b[0m\n",
            "\u001b[0;32m/usr/local/lib/python3.8/dist-packages/jax/_src/dispatch.py\u001b[0m in \u001b[0;36mbackend_compile\u001b[0;34m(backend, built_c, options, host_callbacks)\u001b[0m\n\u001b[1;32m   1039\u001b[0m   \u001b[0;31m# to take in `host_callbacks`\u001b[0m\u001b[0;34m\u001b[0m\u001b[0;34m\u001b[0m\u001b[0;34m\u001b[0m\u001b[0m\n\u001b[0;32m-> 1040\u001b[0;31m   \u001b[0;32mreturn\u001b[0m \u001b[0mbackend\u001b[0m\u001b[0;34m.\u001b[0m\u001b[0mcompile\u001b[0m\u001b[0;34m(\u001b[0m\u001b[0mbuilt_c\u001b[0m\u001b[0;34m,\u001b[0m \u001b[0mcompile_options\u001b[0m\u001b[0;34m=\u001b[0m\u001b[0moptions\u001b[0m\u001b[0;34m)\u001b[0m\u001b[0;34m\u001b[0m\u001b[0;34m\u001b[0m\u001b[0m\n\u001b[0m\u001b[1;32m   1041\u001b[0m \u001b[0;34m\u001b[0m\u001b[0m\n",
            "\u001b[0;31mUnfilteredStackTrace\u001b[0m: jaxlib.xla_extension.XlaRuntimeError: UNKNOWN: Failed to determine best cudnn convolution algorithm for:\n%cudnn-conv-bias-activation.8 = (f32[100,256,256,256]{3,2,1,0}, u8[0]{0}) custom-call(f32[100,3,257,257]{3,2,1,0} %pad.4, f32[256,3,2,2]{3,2,1,0} %transpose, f32[256]{0} %bitcast.38), window={size=2x2}, dim_labels=bf01_oi01->bf01, custom_call_target=\"__cudnn$convBiasActivationForward\", metadata={op_name=\"jit(jit)/jit(main)/conv_general_dilated[window_strides=(1, 1) padding=((0, 1), (0, 1)) lhs_dilation=(1, 1) rhs_dilation=(1, 1) dimension_numbers=ConvDimensionNumbers(lhs_spec=(0, 1, 2, 3), rhs_spec=(3, 2, 0, 1), out_spec=(0, 1, 2, 3)) feature_group_count=1 batch_group_count=1 precision=None preferred_element_type=None]\" source_file=\"/usr/local/lib/python3.8/dist-packages/objax/nn/layers.py\" source_line=199}, backend_config=\"{\\\"conv_result_scale\\\":1,\\\"activation_mode\\\":\\\"0\\\",\\\"side_input_scale\\\":0}\"\n\nOriginal error: RESOURCE_EXHAUSTED: Out of memory while trying to allocate 6727663616 bytes.\n\nTo ignore this failure and try to use a fallback algorithm (which may have suboptimal performance), use XLA_FLAGS=--xla_gpu_strict_conv_algorithm_picker=false.  Please also file a bug for the root cause of failing autotuning.\n\nThe stack trace below excludes JAX-internal frames.\nThe preceding is the original exception that occurred, unmodified.\n\n--------------------",
            "\nThe above exception was the direct cause of the following exception:\n",
            "\u001b[0;31mXlaRuntimeError\u001b[0m                           Traceback (most recent call last)",
            "\u001b[0;32m<ipython-input-68-02ad46a1980c>\u001b[0m in \u001b[0;36m<module>\u001b[0;34m\u001b[0m\n\u001b[1;32m      1\u001b[0m \u001b[0;31m# train without differential privacy (dp)\u001b[0m\u001b[0;34m\u001b[0m\u001b[0;34m\u001b[0m\u001b[0;34m\u001b[0m\u001b[0m\n\u001b[0;32m----> 2\u001b[0;31m \u001b[0mtrain_accuracies_regular\u001b[0m\u001b[0;34m,\u001b[0m \u001b[0mvalid_accuracies_regular\u001b[0m \u001b[0;34m=\u001b[0m \u001b[0mtrain\u001b[0m\u001b[0;34m(\u001b[0m\u001b[0mepochs\u001b[0m\u001b[0;34m,\u001b[0m \u001b[0mbatch\u001b[0m\u001b[0;34m,\u001b[0m \u001b[0mlr\u001b[0m\u001b[0;34m,\u001b[0m \u001b[0mx_train\u001b[0m\u001b[0;34m,\u001b[0m \u001b[0mx_valid\u001b[0m\u001b[0;34m,\u001b[0m \u001b[0my_train\u001b[0m\u001b[0;34m,\u001b[0m \u001b[0my_valid\u001b[0m\u001b[0;34m,\u001b[0m \u001b[0mtrain_op_regular\u001b[0m\u001b[0;34m,\u001b[0m \u001b[0mpredict_regular\u001b[0m\u001b[0;34m)\u001b[0m\u001b[0;34m\u001b[0m\u001b[0;34m\u001b[0m\u001b[0m\n\u001b[0m",
            "\u001b[0;32m<ipython-input-65-8c652da082da>\u001b[0m in \u001b[0;36mtrain\u001b[0;34m(epochs, batch, lr, x_train, x_valid, y_train, y_valid, train_op, predict)\u001b[0m\n\u001b[1;32m     26\u001b[0m \u001b[0;34m\u001b[0m\u001b[0m\n\u001b[1;32m     27\u001b[0m       \u001b[0;31m# batch training\u001b[0m\u001b[0;34m\u001b[0m\u001b[0;34m\u001b[0m\u001b[0;34m\u001b[0m\u001b[0m\n\u001b[0;32m---> 28\u001b[0;31m       \u001b[0mavg_train_acc\u001b[0m \u001b[0;34m=\u001b[0m \u001b[0mtrain_per_batch\u001b[0m\u001b[0;34m(\u001b[0m\u001b[0mx_train\u001b[0m\u001b[0;34m,\u001b[0m \u001b[0my_train\u001b[0m\u001b[0;34m,\u001b[0m \u001b[0mlr\u001b[0m\u001b[0;34m,\u001b[0m \u001b[0mbatch\u001b[0m\u001b[0;34m,\u001b[0m \u001b[0mtrain_op\u001b[0m\u001b[0;34m,\u001b[0m \u001b[0mpredict\u001b[0m\u001b[0;34m)\u001b[0m \u001b[0;34m/\u001b[0m \u001b[0mx_train\u001b[0m\u001b[0;34m.\u001b[0m\u001b[0mshape\u001b[0m\u001b[0;34m[\u001b[0m\u001b[0;36m0\u001b[0m\u001b[0;34m]\u001b[0m\u001b[0;34m\u001b[0m\u001b[0;34m\u001b[0m\u001b[0m\n\u001b[0m\u001b[1;32m     29\u001b[0m       \u001b[0mtrain_accuracies\u001b[0m\u001b[0;34m.\u001b[0m\u001b[0mappend\u001b[0m\u001b[0;34m(\u001b[0m\u001b[0mavg_train_acc\u001b[0m\u001b[0;34m)\u001b[0m\u001b[0;34m\u001b[0m\u001b[0;34m\u001b[0m\u001b[0m\n\u001b[1;32m     30\u001b[0m \u001b[0;34m\u001b[0m\u001b[0m\n",
            "\u001b[0;32m<ipython-input-65-8c652da082da>\u001b[0m in \u001b[0;36mtrain_per_batch\u001b[0;34m(x, y, lr, batch, train_op, predict)\u001b[0m\n\u001b[1;32m      9\u001b[0m \u001b[0;34m\u001b[0m\u001b[0m\n\u001b[1;32m     10\u001b[0m       \u001b[0;31m#run train_op step\u001b[0m\u001b[0;34m\u001b[0m\u001b[0;34m\u001b[0m\u001b[0;34m\u001b[0m\u001b[0m\n\u001b[0;32m---> 11\u001b[0;31m       \u001b[0mloss\u001b[0m \u001b[0;34m=\u001b[0m \u001b[0mfloat\u001b[0m\u001b[0;34m(\u001b[0m\u001b[0mtrain_op\u001b[0m\u001b[0;34m(\u001b[0m\u001b[0mx\u001b[0m\u001b[0;34m[\u001b[0m\u001b[0mbatch_idxs\u001b[0m\u001b[0;34m]\u001b[0m\u001b[0;34m,\u001b[0m \u001b[0my\u001b[0m\u001b[0;34m[\u001b[0m\u001b[0mbatch_idxs\u001b[0m\u001b[0;34m]\u001b[0m\u001b[0;34m,\u001b[0m \u001b[0mlr\u001b[0m\u001b[0;34m)\u001b[0m\u001b[0;34m[\u001b[0m\u001b[0;36m0\u001b[0m\u001b[0;34m]\u001b[0m\u001b[0;34m)\u001b[0m \u001b[0;34m*\u001b[0m \u001b[0mlen\u001b[0m\u001b[0;34m(\u001b[0m\u001b[0mbatch_idxs\u001b[0m\u001b[0;34m)\u001b[0m\u001b[0;34m\u001b[0m\u001b[0;34m\u001b[0m\u001b[0m\n\u001b[0m\u001b[1;32m     12\u001b[0m \u001b[0;34m\u001b[0m\u001b[0m\n\u001b[1;32m     13\u001b[0m       \u001b[0;31m#store accuracy\u001b[0m\u001b[0;34m\u001b[0m\u001b[0;34m\u001b[0m\u001b[0;34m\u001b[0m\u001b[0m\n",
            "\u001b[0;32m/usr/local/lib/python3.8/dist-packages/objax/module.py\u001b[0m in \u001b[0;36m__call__\u001b[0;34m(self, *args, **kwargs)\u001b[0m\n\u001b[1;32m    256\u001b[0m     \u001b[0;32mdef\u001b[0m \u001b[0m__call__\u001b[0m\u001b[0;34m(\u001b[0m\u001b[0mself\u001b[0m\u001b[0;34m,\u001b[0m \u001b[0;34m*\u001b[0m\u001b[0margs\u001b[0m\u001b[0;34m,\u001b[0m \u001b[0;34m**\u001b[0m\u001b[0mkwargs\u001b[0m\u001b[0;34m)\u001b[0m\u001b[0;34m:\u001b[0m\u001b[0;34m\u001b[0m\u001b[0;34m\u001b[0m\u001b[0m\n\u001b[1;32m    257\u001b[0m         \u001b[0;34m\"\"\"Call the compiled version of the function or module.\"\"\"\u001b[0m\u001b[0;34m\u001b[0m\u001b[0;34m\u001b[0m\u001b[0m\n\u001b[0;32m--> 258\u001b[0;31m         \u001b[0moutput\u001b[0m\u001b[0;34m,\u001b[0m \u001b[0mchanges\u001b[0m \u001b[0;34m=\u001b[0m \u001b[0mself\u001b[0m\u001b[0;34m.\u001b[0m\u001b[0m_call\u001b[0m\u001b[0;34m(\u001b[0m\u001b[0mself\u001b[0m\u001b[0;34m.\u001b[0m\u001b[0mvc\u001b[0m\u001b[0;34m.\u001b[0m\u001b[0mtensors\u001b[0m\u001b[0;34m(\u001b[0m\u001b[0;34m)\u001b[0m\u001b[0;34m,\u001b[0m \u001b[0mkwargs\u001b[0m\u001b[0;34m,\u001b[0m \u001b[0;34m*\u001b[0m\u001b[0margs\u001b[0m\u001b[0;34m)\u001b[0m\u001b[0;34m\u001b[0m\u001b[0;34m\u001b[0m\u001b[0m\n\u001b[0m\u001b[1;32m    259\u001b[0m         \u001b[0mself\u001b[0m\u001b[0;34m.\u001b[0m\u001b[0mvc\u001b[0m\u001b[0;34m.\u001b[0m\u001b[0massign\u001b[0m\u001b[0;34m(\u001b[0m\u001b[0mchanges\u001b[0m\u001b[0;34m)\u001b[0m\u001b[0;34m\u001b[0m\u001b[0;34m\u001b[0m\u001b[0m\n\u001b[1;32m    260\u001b[0m         \u001b[0;32mreturn\u001b[0m \u001b[0moutput\u001b[0m\u001b[0;34m\u001b[0m\u001b[0;34m\u001b[0m\u001b[0m\n",
            "\u001b[0;31mXlaRuntimeError\u001b[0m: UNKNOWN: Failed to determine best cudnn convolution algorithm for:\n%cudnn-conv-bias-activation.8 = (f32[100,256,256,256]{3,2,1,0}, u8[0]{0}) custom-call(f32[100,3,257,257]{3,2,1,0} %pad.4, f32[256,3,2,2]{3,2,1,0} %transpose, f32[256]{0} %bitcast.38), window={size=2x2}, dim_labels=bf01_oi01->bf01, custom_call_target=\"__cudnn$convBiasActivationForward\", metadata={op_name=\"jit(jit)/jit(main)/conv_general_dilated[window_strides=(1, 1) padding=((0, 1), (0, 1)) lhs_dilation=(1, 1) rhs_dilation=(1, 1) dimension_numbers=ConvDimensionNumbers(lhs_spec=(0, 1, 2, 3), rhs_spec=(3, 2, 0, 1), out_spec=(0, 1, 2, 3)) feature_group_count=1 batch_group_count=1 precision=None preferred_element_type=None]\" source_file=\"/usr/local/lib/python3.8/dist-packages/objax/nn/layers.py\" source_line=199}, backend_config=\"{\\\"conv_result_scale\\\":1,\\\"activation_mode\\\":\\\"0\\\",\\\"side_input_scale\\\":0}\"\n\nOriginal error: RESOURCE_EXHAUSTED: Out of memory while trying to allocate 6727663616 bytes.\n\nTo ignore this failure and try to use a fallback algorithm (which may have suboptimal performance), use XLA_FLAGS=--xla_gpu_strict_conv_algorithm_picker=false.  Please also file a bug for the root cause of failing autotuning."
          ]
        }
      ],
      "source": [
        "# train without differential privacy (dp)\n",
        "train_accuracies_regular, valid_accuracies_regular = train(epochs, batch, lr, x_train, x_valid, y_train, y_valid, train_op_regular, predict_regular)"
      ]
    },
    {
      "cell_type": "code",
      "execution_count": null,
      "metadata": {
        "colab": {
          "base_uri": "https://localhost:8080/",
          "height": 295
        },
        "id": "mfYgUE6ZYHFO",
        "outputId": "aee279bd-bf92-4d82-e5ef-964490c174de"
      },
      "outputs": [
        {
          "output_type": "display_data",
          "data": {
            "text/plain": [
              "<Figure size 432x288 with 1 Axes>"
            ],
            "image/png": "[encoded data removed]"
          },
          "metadata": {
            "needs_background": "light"
          }
        }
      ],
      "source": [
        "plt.title(\"Training and Validation Accuracies of Regular CNN\")\n",
        "plt.plot(train_accuracies_regular, label=\"Train\")\n",
        "plt.plot(valid_accuracies_regular, label=\"Validation\")\n",
        "plt.xlabel(\"Epoch\")\n",
        "plt.ylabel(\"Accuracy (%)\")\n",
        "plt.legend(loc='best')\n",
        "plt.show()"
      ]
    },
    {
      "cell_type": "code",
      "execution_count": null,
      "metadata": {
        "colab": {
          "base_uri": "https://localhost:8080/"
        },
        "id": "QSgSLVcxXdm8",
        "outputId": "e524f20d-7436-42c5-9eb6-c3e0a421aa80"
      },
      "outputs": [
        {
          "name": "stdout",
          "output_type": "stream",
          "text": [
            "Test Accuracy of Regular Model:  56.18333333333333\n"
          ]
        }
      ],
      "source": [
        "test_accuracy_regular = (np.array(predict_regular(x_test).argmax(1)).flatten() == y_test).sum()\n",
        "print(\"Test Accuracy of Regular Model: \", 100*test_accuracy_regular/x_test.shape[0])"
      ]
    },
    {
      "cell_type": "markdown",
      "metadata": {
        "id": "5sr9fXeiRoui"
      },
      "source": [
        "## Train CNN with Differential Privacy\n",
        "\n",
        "In train_op_dp, add gaussian noise and gradient clipping\n"
      ]
    },
    {
      "cell_type": "code",
      "execution_count": null,
      "metadata": {
        "id": "0zMhovEUaPbr"
      },
      "outputs": [],
      "source": [
        "# hyperparameters\n",
        "epochs = 100\n",
        "batch = 100\n",
        "lr = 0.1\n",
        "sigma = 4 # noise scale\n",
        "C = 300 # gradient norm (Best C = median of the norms of the unclipped gradients) - mean was 299.5 after running with C=100\n",
        "L = int(np.sqrt(len(x))) # L = √ N is the best group size"
      ]
    },
    {
      "cell_type": "code",
      "execution_count": null,
      "metadata": {
        "id": "gsOu1Iz4SssE"
      },
      "outputs": [],
      "source": [
        "#define model\n",
        "model_dp = CNN(channels = 3, classes = 10)\n",
        "\n",
        "#define loss\n",
        "def loss_fn_dp(x, y):\n",
        "    return objax.functional.loss.cross_entropy_logits_sparse(model_dp(x), y).mean()\n",
        "\n",
        "#define prediction function (to get results of model training)\n",
        "predict_dp = objax.Jit(lambda x: objax.functional.softmax(model_dp(x)), model_dp.vars())\n",
        "\n",
        "# define 'forward' operation.\n",
        "gv_dp = objax.GradValues(loss_fn_dp, model_dp.vars()) #dictionary that stores gradients\n",
        "tv_dp = objax.ModuleList(objax.TrainRef(x) for x in model_dp.vars().subset(objax.TrainVar)) #trainable variables\n",
        "unclipped_grad = jn.arange(len(tv_dp.vars())*epochs) #store in list, to find best C\n",
        "\n",
        "def train_op_dp(x, y, lr):\n",
        "    g, v = gv_dp(x, y) # apply gradient\n",
        "\n",
        "    # ** optimzer: DP-SGD **\n",
        "\n",
        "    i = 0 # which model variable\n",
        "    for grad, params in zip(g, tv_dp.vars()):\n",
        "\n",
        "      # get random \"lot (L)\" of examples to add noise to:\n",
        "      lot_idxs = np.random.choice(len(x), L)\n",
        "      g_lot, __ = gv_dp(x[lot_idxs], y[lot_idxs]) #get grad only for lot\n",
        "      grad = g_lot[i]\n",
        "    \n",
        "      #gradient clipping\n",
        "      norm = jn.linalg.norm(grad)\n",
        "      unclipped_grad.at[i].set(norm) #store unlcipped gradients\n",
        "      grad_clipped = grad / jn.maximum(jn.empty(jn.shape(norm)) + 1, norm/C)\n",
        "\n",
        "      #apply guassian\n",
        "      mu = 0\n",
        "      std = sigma*C\n",
        "      key = jax.random.PRNGKey(0) # to ensure guassian stays the same for all runs\n",
        "      guassian = mu + std * jax.random.normal(key, jn.shape(grad_clipped))\n",
        "      grad_w_guassian = jn.multiply(1/L, jn.add(grad_clipped, guassian))\n",
        "      \n",
        "      #update params\n",
        "      params.value -= jn.multiply(grad_clipped, lr) \n",
        "\n",
        "      i+=1\n",
        "\n",
        "    return v # v is the loss\n",
        "\n",
        "train_op_dp = objax.Jit(train_op_dp, gv_dp.vars() + tv_dp.vars()) # compile train_op to make it faste"
      ]
    },
    {
      "cell_type": "code",
      "execution_count": null,
      "metadata": {
        "colab": {
          "base_uri": "https://localhost:8080/"
        },
        "id": "tPQUk2vCRc7G",
        "outputId": "72155b89-10da-4930-eb2c-8913bd42a877"
      },
      "outputs": [
        {
          "name": "stdout",
          "output_type": "stream",
          "text": [
            "Epoch 1  Training Accuracy 20.6167 Validation Accuracy 23.0000\n",
            "Epoch 2  Training Accuracy 26.2208 Validation Accuracy 26.8667\n",
            "Epoch 3  Training Accuracy 30.2958 Validation Accuracy 31.0833\n",
            "Epoch 4  Training Accuracy 32.0229 Validation Accuracy 32.0000\n",
            "Epoch 5  Training Accuracy 32.8000 Validation Accuracy 32.8500\n",
            "Epoch 6  Training Accuracy 34.6167 Validation Accuracy 31.1500\n",
            "Epoch 7  Training Accuracy 35.6625 Validation Accuracy 36.2667\n",
            "Epoch 8  Training Accuracy 36.9854 Validation Accuracy 36.8000\n",
            "Epoch 9  Training Accuracy 37.6042 Validation Accuracy 37.5333\n",
            "Epoch 10  Training Accuracy 38.8000 Validation Accuracy 38.7667\n",
            "Epoch 11  Training Accuracy 39.6604 Validation Accuracy 39.8167\n",
            "Epoch 12  Training Accuracy 40.8229 Validation Accuracy 40.5500\n",
            "Epoch 13  Training Accuracy 41.8958 Validation Accuracy 41.3167\n",
            "Epoch 14  Training Accuracy 42.6667 Validation Accuracy 43.2667\n",
            "Epoch 15  Training Accuracy 43.9125 Validation Accuracy 44.3000\n",
            "Epoch 16  Training Accuracy 44.5938 Validation Accuracy 44.5167\n",
            "Epoch 17  Training Accuracy 45.3062 Validation Accuracy 45.7833\n",
            "Epoch 18  Training Accuracy 46.1625 Validation Accuracy 44.8000\n",
            "Epoch 19  Training Accuracy 46.5813 Validation Accuracy 46.3667\n",
            "Epoch 20  Training Accuracy 46.9250 Validation Accuracy 46.9667\n",
            "Epoch 21  Training Accuracy 47.7437 Validation Accuracy 48.1667\n",
            "Epoch 22  Training Accuracy 48.7646 Validation Accuracy 46.8000\n",
            "Epoch 23  Training Accuracy 48.5146 Validation Accuracy 48.2667\n",
            "Epoch 24  Training Accuracy 49.0333 Validation Accuracy 48.3333\n",
            "Epoch 25  Training Accuracy 49.0146 Validation Accuracy 48.3500\n",
            "Epoch 26  Training Accuracy 49.5792 Validation Accuracy 47.8500\n",
            "Epoch 27  Training Accuracy 49.3042 Validation Accuracy 50.4333\n",
            "Epoch 28  Training Accuracy 50.6562 Validation Accuracy 51.0167\n",
            "Epoch 29  Training Accuracy 50.9500 Validation Accuracy 49.3833\n",
            "Epoch 30  Training Accuracy 50.9042 Validation Accuracy 50.3167\n",
            "Epoch 31  Training Accuracy 51.5146 Validation Accuracy 51.4667\n",
            "Epoch 32  Training Accuracy 52.1729 Validation Accuracy 51.9500\n",
            "Epoch 33  Training Accuracy 52.4292 Validation Accuracy 52.7000\n",
            "Epoch 34  Training Accuracy 52.7021 Validation Accuracy 52.6667\n",
            "Epoch 35  Training Accuracy 53.0792 Validation Accuracy 52.4167\n",
            "Epoch 36  Training Accuracy 52.4396 Validation Accuracy 53.2667\n",
            "Epoch 37  Training Accuracy 53.3583 Validation Accuracy 51.7000\n",
            "Epoch 38  Training Accuracy 53.7542 Validation Accuracy 53.9500\n",
            "Epoch 39  Training Accuracy 53.9875 Validation Accuracy 54.0833\n",
            "Epoch 40  Training Accuracy 54.3500 Validation Accuracy 53.8167\n",
            "Epoch 41  Training Accuracy 54.4146 Validation Accuracy 54.2833\n",
            "Epoch 42  Training Accuracy 54.6917 Validation Accuracy 53.9333\n",
            "Epoch 43  Training Accuracy 54.6937 Validation Accuracy 53.9167\n",
            "Epoch 44  Training Accuracy 54.6937 Validation Accuracy 54.7000\n",
            "Epoch 45  Training Accuracy 55.1833 Validation Accuracy 55.0833\n",
            "Epoch 46  Training Accuracy 55.6813 Validation Accuracy 55.4333\n",
            "Epoch 47  Training Accuracy 55.8375 Validation Accuracy 55.2833\n",
            "Epoch 48  Training Accuracy 56.0271 Validation Accuracy 56.3333\n",
            "Epoch 49  Training Accuracy 55.9583 Validation Accuracy 56.2500\n",
            "Epoch 50  Training Accuracy 56.1146 Validation Accuracy 55.6167\n",
            "Epoch 51  Training Accuracy 56.2646 Validation Accuracy 56.5667\n",
            "Epoch 52  Training Accuracy 56.4271 Validation Accuracy 57.0500\n",
            "Epoch 53  Training Accuracy 56.9458 Validation Accuracy 56.1500\n",
            "Epoch 54  Training Accuracy 57.1292 Validation Accuracy 56.3333\n",
            "Epoch 55  Training Accuracy 56.6667 Validation Accuracy 56.8500\n",
            "Epoch 56  Training Accuracy 56.9146 Validation Accuracy 55.8667\n",
            "Epoch 57  Training Accuracy 56.8375 Validation Accuracy 56.5000\n",
            "Epoch 58  Training Accuracy 56.7333 Validation Accuracy 56.6333\n",
            "Epoch 59  Training Accuracy 57.2229 Validation Accuracy 56.1667\n",
            "Epoch 60  Training Accuracy 57.6292 Validation Accuracy 57.2833\n",
            "Epoch 61  Training Accuracy 57.5375 Validation Accuracy 56.8500\n",
            "Epoch 62  Training Accuracy 57.7792 Validation Accuracy 57.0833\n",
            "Epoch 63  Training Accuracy 57.7521 Validation Accuracy 57.8167\n",
            "Epoch 64  Training Accuracy 57.6646 Validation Accuracy 57.7000\n",
            "Epoch 65  Training Accuracy 58.0417 Validation Accuracy 58.6500\n",
            "Epoch 66  Training Accuracy 57.9792 Validation Accuracy 57.8833\n",
            "Epoch 67  Training Accuracy 58.3354 Validation Accuracy 57.0833\n",
            "Epoch 68  Training Accuracy 58.1271 Validation Accuracy 58.3000\n",
            "Epoch 69  Training Accuracy 58.2375 Validation Accuracy 57.8000\n",
            "Epoch 70  Training Accuracy 58.3833 Validation Accuracy 57.7500\n",
            "Epoch 71  Training Accuracy 58.3292 Validation Accuracy 57.5167\n",
            "Epoch 72  Training Accuracy 58.3083 Validation Accuracy 58.5833\n",
            "Epoch 73  Training Accuracy 58.5187 Validation Accuracy 58.5333\n",
            "Epoch 74  Training Accuracy 58.4417 Validation Accuracy 57.9167\n",
            "Epoch 75  Training Accuracy 58.5063 Validation Accuracy 58.2333\n",
            "Epoch 76  Training Accuracy 58.8208 Validation Accuracy 58.6167\n",
            "Epoch 77  Training Accuracy 58.8479 Validation Accuracy 59.2000\n",
            "Epoch 78  Training Accuracy 59.0375 Validation Accuracy 58.3000\n",
            "Epoch 79  Training Accuracy 59.0750 Validation Accuracy 58.9667\n",
            "Epoch 80  Training Accuracy 59.3271 Validation Accuracy 58.3333\n",
            "Epoch 81  Training Accuracy 59.2188 Validation Accuracy 59.1833\n",
            "Epoch 82  Training Accuracy 59.3937 Validation Accuracy 58.7833\n",
            "Epoch 83  Training Accuracy 59.6083 Validation Accuracy 58.0833\n",
            "Epoch 84  Training Accuracy 59.6167 Validation Accuracy 59.3333\n",
            "Epoch 85  Training Accuracy 59.8292 Validation Accuracy 60.2333\n",
            "Epoch 86  Training Accuracy 59.6812 Validation Accuracy 59.2833\n",
            "Epoch 87  Training Accuracy 59.9063 Validation Accuracy 60.0000\n",
            "Epoch 88  Training Accuracy 59.7750 Validation Accuracy 59.3833\n",
            "Epoch 89  Training Accuracy 59.9604 Validation Accuracy 59.2000\n",
            "Epoch 90  Training Accuracy 59.9583 Validation Accuracy 59.6167\n",
            "Epoch 91  Training Accuracy 59.8125 Validation Accuracy 59.8500\n",
            "Epoch 92  Training Accuracy 60.2417 Validation Accuracy 59.2667\n",
            "Epoch 93  Training Accuracy 59.9625 Validation Accuracy 59.4167\n",
            "Epoch 94  Training Accuracy 59.8479 Validation Accuracy 59.3333\n",
            "Epoch 95  Training Accuracy 59.9979 Validation Accuracy 59.8500\n",
            "Epoch 96  Training Accuracy 60.2188 Validation Accuracy 59.2333\n",
            "Epoch 97  Training Accuracy 60.5271 Validation Accuracy 60.2000\n",
            "Epoch 98  Training Accuracy 59.9979 Validation Accuracy 60.4333\n",
            "Epoch 99  Training Accuracy 60.3292 Validation Accuracy 59.4667\n",
            "Epoch 100  Training Accuracy 60.1313 Validation Accuracy 59.8167\n",
            "---- For hyperparameter tuning: ----\n",
            "mean of unclipped gradients ->  299.5\n"
          ]
        }
      ],
      "source": [
        "# train with differential privacy\n",
        "train_accuracies_dp, valid_accuracies_dp = train(epochs, batch, lr, x_train, x_valid, y_train, y_valid, train_op_dp, predict_dp)\n",
        "\n",
        "print (\"---- For hyperparameter tuning: ----\")\n",
        "print(\"mean of unclipped gradients -> \", jn.mean(unclipped_grad))"
      ]
    },
    {
      "cell_type": "code",
      "execution_count": null,
      "metadata": {
        "colab": {
          "base_uri": "https://localhost:8080/",
          "height": 295
        },
        "id": "Lq48XHa2YywJ",
        "outputId": "5261c1fc-1aa1-4aab-a365-f290e99c5bf7"
      },
      "outputs": [
        {
          "data": {
            "image/png": "[encoded data removed]",
            "text/plain": [
              "<Figure size 432x288 with 1 Axes>"
            ]
          },
          "metadata": {
            "needs_background": "light"
          },
          "output_type": "display_data"
        }
      ],
      "source": [
        "plt.title(\"Training and Validation Accuracies of Differentialy Private CNN\")\n",
        "plt.plot(train_accuracies_dp, label=\"Train\")\n",
        "plt.plot(valid_accuracies_dp, label=\"Validation\")\n",
        "plt.xlabel(\"Epoch\")\n",
        "plt.ylabel(\"Accuracy (%)\")\n",
        "plt.legend(loc='best')\n",
        "plt.show()"
      ]
    },
    {
      "cell_type": "code",
      "execution_count": null,
      "metadata": {
        "colab": {
          "base_uri": "https://localhost:8080/"
        },
        "id": "XjjfyzjSY6FJ",
        "outputId": "f88aecd5-6cfe-4271-b059-8437f0428334"
      },
      "outputs": [
        {
          "name": "stdout",
          "output_type": "stream",
          "text": [
            "Test Accuracy of Regular Model:  55.86666666666667\n"
          ]
        }
      ],
      "source": [
        "test_accuracy_dp = (np.array(predict_dp(x_test).argmax(1)).flatten() == y_test).sum()\n",
        "print(\"Test Accuracy of Regular Model: \", 100*test_accuracy_dp/x_test.shape[0])"
      ]
    }
  ],
  "metadata": {
    "accelerator": "GPU",
    "colab": {
      "provenance": []
    },
    "gpuClass": "standard",
    "kernelspec": {
      "display_name": "Jupyter Notebook",
      "language": "python",
      "name": "jupyter-notebook"
    },
    "language_info": {
      "codemirror_mode": {
        "name": "ipython",
        "version": 3
      },
      "file_extension": ".py",
      "mimetype": "text/x-python",
      "name": "python",
      "nbconvert_exporter": "python",
      "pygments_lexer": "ipython3",
      "version": "3.11.0"
    }
  },
  "nbformat": 4,
  "nbformat_minor": 0
}