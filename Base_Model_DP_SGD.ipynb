{
  "nbformat": 4,
  "nbformat_minor": 0,
  "metadata": {
    "colab": {
      "provenance": [],
      "toc_visible": true
    },
    "kernelspec": {
      "name": "python3",
      "display_name": "Python 3"
    },
    "language_info": {
      "name": "python"
    },
    "accelerator": "GPU",
    "gpuClass": "standard"
  },
  "cells": [
    {
      "cell_type": "markdown",
      "source": [
        "<img src=\"https://ethical-principles-in-ai.github.io/static/media/epai_logo.e502dc0cef3c434c1abf.png\" width=\"100\">"
      ],
      "metadata": {
        "id": "4JSrfSYJo7JF"
      }
    },
    {
      "cell_type": "markdown",
      "source": [
        "# Deep Learning with Differential Privacy: Base Model\n",
        "\n",
        "This model provides a baseline for comparison between various differential privacy techniques. It uses the DP-SGD techqniue, as described in [Abadi et al.](https://arxiv.org/abs/1607.00133). Guassian noise is applied within SGD to ensure the model cannot be reverse engineered using inputs/outputs, which makes the model differientially private."
      ],
      "metadata": {
        "id": "rTtGPThhlUvB"
      }
    },
    {
      "cell_type": "code",
      "execution_count": 57,
      "metadata": {
        "id": "00pnurrnlT-K"
      },
      "outputs": [],
      "source": [
        "# imports\n",
        "!pip --quiet install  objax\n",
        "import objax # to define a custom model with more control\n",
        "import tensorflow as tf \n",
        "from sklearn.utils import shuffle\n",
        "from sklearn.model_selection import train_test_split\n",
        "import matplotlib.pyplot as plt\n",
        "import numpy as np\n",
        "import jax.numpy as jn\n",
        "import jax"
      ]
    },
    {
      "cell_type": "markdown",
      "source": [
        "## Data, Model Creation, and Function Definitions"
      ],
      "metadata": {
        "id": "VCsxyXdkQ_uU"
      }
    },
    {
      "cell_type": "code",
      "source": [
        "# load data\n",
        "(x_train, y_train), (x_test, y_test) = tf.keras.datasets.cifar10.load_data() # dataset of 60000 32x32 coloured images\n",
        "x = np.concatenate([x_train, x_test], axis = 0)\n",
        "y = np.concatenate([y_train, y_test], axis = 0)\n",
        "\n",
        "# shuffle\n",
        "x, y = shuffle(x, y, random_state=0)\n",
        "\n",
        "# split into 80% train, 10% valid, 10% test\n",
        "x_train, x_remaining, y_train, y_remaining = train_test_split(x, y, train_size=0.8)\n",
        "x_valid, x_test, y_valid, y_test = train_test_split(x_remaining, y_remaining, test_size=0.5) # split remaining 20% into 10% and 10%\n",
        "\n",
        "#convert to proper format\n",
        "def convert_x(x):\n",
        "  return x.transpose(0, 3, 1, 2) / 255.0 # normalize, and ensure correct indicies for model\n",
        "\n",
        "x_train = convert_x(x_train)\n",
        "y_train = y_train.flatten()\n",
        "\n",
        "x_valid = convert_x(x_valid)\n",
        "y_valid = y_valid.flatten()\n",
        "\n",
        "x_test = convert_x(x_test)\n",
        "y_test = y_test.flatten()"
      ],
      "metadata": {
        "colab": {
          "base_uri": "https://localhost:8080/"
        },
        "id": "TLUSwK0Lm_XO",
        "outputId": "0721d32e-427c-4fc6-c5b7-22825e6c9262"
      },
      "execution_count": 4,
      "outputs": [
        {
          "output_type": "stream",
          "name": "stdout",
          "text": [
            "Downloading data from https://www.cs.toronto.edu/~kriz/cifar-10-python.tar.gz\n",
            "170498071/170498071 [==============================] - 13s 0us/step\n"
          ]
        }
      ]
    },
    {
      "cell_type": "code",
      "source": [
        "# define cnn\n",
        "class CNN(objax.Module):\n",
        "  def __init__(self, channels = 3, classes = 10):\n",
        "    self.conv1 = objax.nn.Sequential([objax.nn.Conv2D(channels, 16, 2), objax.functional.relu])\n",
        "    self.conv2 = objax.nn.Sequential([objax.nn.Conv2D(16, 32, 2), objax.functional.relu])\n",
        "    self.fc1 = objax.nn.Linear(32, classes)\n",
        "\n",
        "  def __call__(self, x):\n",
        "    x = objax.functional.max_pool_2d(self.conv1(x), 2, 2)\n",
        "    x = self.conv2(x)\n",
        "    x = x.mean((2,3)) #global average pooling \n",
        "    x = self.fc1(x)\n",
        "    return x"
      ],
      "metadata": {
        "id": "pEgrzvAIn1AH"
      },
      "execution_count": 5,
      "outputs": []
    },
    {
      "cell_type": "code",
      "source": [
        "# show preview of dataset images\n",
        "plt.figure()\n",
        "f, axarr = plt.subplots(3,1) \n",
        "axarr[0].imshow(x_train[0].transpose(1,2,0))\n",
        "axarr[1].imshow(x_valid[0].transpose(1,2,0))\n",
        "axarr[2].imshow(x_test[0].transpose(1,2,0))"
      ],
      "metadata": {
        "colab": {
          "base_uri": "https://localhost:8080/",
          "height": 304
        },
        "id": "v43qz6hAnEXE",
        "outputId": "7e5ac9ad-adfd-41c7-9256-3bcf294074d8"
      },
      "execution_count": 6,
      "outputs": [
        {
          "output_type": "execute_result",
          "data": {
            "text/plain": [
              "<matplotlib.image.AxesImage at 0x7fd530669be0>"
            ]
          },
          "metadata": {},
          "execution_count": 6
        },
        {
          "output_type": "display_data",
          "data": {
            "text/plain": [
              "<Figure size 432x288 with 0 Axes>"
            ]
          },
          "metadata": {}
        },
        {
          "output_type": "display_data",
          "data": {
            "text/plain": [
              "<Figure size 432x288 with 3 Axes>"
            ],
            "image/png": "[encoded data removed]"
          },
          "metadata": {
            "needs_background": "light"
          }
        }
      ]
    },
    {
      "cell_type": "code",
      "source": [
        "#training loop helper function\n",
        "def train_per_batch(x, y, lr, batch, train_op, predict):\n",
        "  acc = 0\n",
        "  shuffle_indicies = np.arange(len(x))\n",
        "  np.random.shuffle(shuffle_indicies) #shuffle before running batches to remove correlation\n",
        "\n",
        "  for i in range(0, x.shape[0], batch):\n",
        "      batch_idxs = shuffle_indicies[i:i+batch]\n",
        "\n",
        "      #run train_op step\n",
        "      loss = float(train_op(x[batch_idxs], y[batch_idxs], lr)[0]) * len(batch_idxs)\n",
        "      \n",
        "      #store accuracy\n",
        "      acc += (np.array(predict(x[batch_idxs]).argmax(1)).flatten() == y[batch_idxs]).sum()\n",
        "\n",
        "  return acc\n",
        "\n",
        "#training loop\n",
        "def train(epochs, batch, lr, x_train, x_valid, y_train, y_valid, train_op, predict):\n",
        "  train_accuracies = []\n",
        "  valid_accuracies = []\n",
        "\n",
        "  for epoch in range(1, epochs+1):\n",
        "      train_loss = []\n",
        "      valid_loss = []\n",
        "\n",
        "      # batch training\n",
        "      avg_train_acc = train_per_batch(x_train, y_train, lr, batch, train_op, predict) / x_train.shape[0]\n",
        "      train_accuracies.append(avg_train_acc)\n",
        "      \n",
        "      # batch validation \n",
        "      avg_val_acc = train_per_batch(x_valid, y_valid, lr, batch, train_op, predict) / x_valid.shape[0]\n",
        "      valid_accuracies.append(avg_val_acc)\n",
        "\n",
        "      print('Epoch %d  Training Accuracy %.4f Validation Accuracy %.4f' % (epoch, avg_train_acc*100, avg_val_acc*100))\n",
        "    \n",
        "  return train_accuracies, valid_accuracies"
      ],
      "metadata": {
        "id": "HdvTNLnT450u"
      },
      "execution_count": 22,
      "outputs": []
    },
    {
      "cell_type": "markdown",
      "source": [
        "## Train Regular CNN"
      ],
      "metadata": {
        "id": "Sx9ytkpaROBn"
      }
    },
    {
      "cell_type": "code",
      "source": [
        "# hyperparameters\n",
        "epochs = 100\n",
        "batch = 100\n",
        "lr = 0.1"
      ],
      "metadata": {
        "id": "cSvlFDT_aJ59"
      },
      "execution_count": 23,
      "outputs": []
    },
    {
      "cell_type": "code",
      "source": [
        "#define model\n",
        "model_regular = CNN(channels = 3, classes = 10)\n",
        "\n",
        "#define loss\n",
        "def loss_fn_regular(x, y):\n",
        "    return objax.functional.loss.cross_entropy_logits_sparse(model_regular(x), y).mean()\n",
        "\n",
        "#define prediction function (to get results of model training)\n",
        "predict_regular = objax.Jit(lambda x: objax.functional.softmax(model_regular(x)), model_regular.vars())\n",
        "\n",
        "# define 'forward' operation.\n",
        "gv_regular = objax.GradValues(loss_fn_regular, model_regular.vars()) #function that calculates gradient\n",
        "tv_regular = objax.ModuleList(objax.TrainRef(x) for x in model_regular.vars().subset(objax.TrainVar)) #trainable variables\n",
        "\n",
        "def train_op_regular(x, y, lr):\n",
        "    g, v = gv_regular(x, y) # apply gradient\n",
        "    \n",
        "    # ** optimzer: SGD **\n",
        "    for grad, params in zip(g, tv_regular.vars()):\n",
        "      params.value -= jn.multiply(grad, lr) #jax speeds up computation\n",
        "\n",
        "    return v # v is the loss\n",
        "\n",
        "train_op_regular = objax.Jit(train_op_regular, gv_regular.vars() + tv_regular.vars()) # compile train_op to make it faster"
      ],
      "metadata": {
        "id": "mGWKDLHu0rdJ"
      },
      "execution_count": 17,
      "outputs": []
    },
    {
      "cell_type": "code",
      "source": [
        "# train without differential privacy (dp)\n",
        "train_accuracies_regular, valid_accuracies_regular = train(epochs, batch, lr, x_train, x_valid, y_train, y_valid, train_op_regular, predict_regular)"
      ],
      "metadata": {
        "colab": {
          "base_uri": "https://localhost:8080/"
        },
        "id": "y1rAgia_QvKj",
        "outputId": "d8367704-e67e-42fb-efbb-578df568b156"
      },
      "execution_count": 18,
      "outputs": [
        {
          "output_type": "stream",
          "name": "stdout",
          "text": [
            "Epoch 1  Training Accuracy 21.27 Validation Accuracy 24.45\n",
            "Epoch 2  Training Accuracy 25.45 Validation Accuracy 28.07\n",
            "Epoch 3  Training Accuracy 28.39 Validation Accuracy 29.58\n",
            "Epoch 4  Training Accuracy 30.08 Validation Accuracy 31.55\n",
            "Epoch 5  Training Accuracy 31.43 Validation Accuracy 33.68\n",
            "Epoch 6  Training Accuracy 33.10 Validation Accuracy 34.65\n",
            "Epoch 7  Training Accuracy 34.48 Validation Accuracy 34.47\n",
            "Epoch 8  Training Accuracy 35.61 Validation Accuracy 37.52\n",
            "Epoch 9  Training Accuracy 36.50 Validation Accuracy 38.30\n",
            "Epoch 10  Training Accuracy 38.04 Validation Accuracy 38.90\n",
            "Epoch 11  Training Accuracy 39.28 Validation Accuracy 39.50\n",
            "Epoch 12  Training Accuracy 40.20 Validation Accuracy 41.65\n",
            "Epoch 13  Training Accuracy 41.44 Validation Accuracy 42.48\n",
            "Epoch 14  Training Accuracy 42.75 Validation Accuracy 43.68\n",
            "Epoch 15  Training Accuracy 43.67 Validation Accuracy 44.88\n",
            "Epoch 16  Training Accuracy 44.75 Validation Accuracy 45.53\n",
            "Epoch 17  Training Accuracy 45.64 Validation Accuracy 46.70\n",
            "Epoch 18  Training Accuracy 46.58 Validation Accuracy 47.52\n",
            "Epoch 19  Training Accuracy 47.34 Validation Accuracy 48.42\n",
            "Epoch 20  Training Accuracy 48.24 Validation Accuracy 48.52\n",
            "Epoch 21  Training Accuracy 48.79 Validation Accuracy 49.98\n",
            "Epoch 22  Training Accuracy 49.48 Validation Accuracy 50.57\n",
            "Epoch 23  Training Accuracy 50.29 Validation Accuracy 51.52\n",
            "Epoch 24  Training Accuracy 50.98 Validation Accuracy 52.10\n",
            "Epoch 25  Training Accuracy 51.15 Validation Accuracy 52.47\n",
            "Epoch 26  Training Accuracy 51.54 Validation Accuracy 52.65\n",
            "Epoch 27  Training Accuracy 51.88 Validation Accuracy 52.97\n",
            "Epoch 28  Training Accuracy 52.20 Validation Accuracy 52.97\n",
            "Epoch 29  Training Accuracy 52.63 Validation Accuracy 53.93\n",
            "Epoch 30  Training Accuracy 52.91 Validation Accuracy 53.90\n",
            "Epoch 31  Training Accuracy 53.27 Validation Accuracy 54.57\n",
            "Epoch 32  Training Accuracy 53.55 Validation Accuracy 55.17\n",
            "Epoch 33  Training Accuracy 53.80 Validation Accuracy 55.03\n",
            "Epoch 34  Training Accuracy 53.71 Validation Accuracy 55.70\n",
            "Epoch 35  Training Accuracy 53.99 Validation Accuracy 55.62\n",
            "Epoch 36  Training Accuracy 54.26 Validation Accuracy 55.22\n",
            "Epoch 37  Training Accuracy 54.55 Validation Accuracy 55.72\n",
            "Epoch 38  Training Accuracy 54.84 Validation Accuracy 56.50\n",
            "Epoch 39  Training Accuracy 54.99 Validation Accuracy 56.70\n",
            "Epoch 40  Training Accuracy 54.89 Validation Accuracy 57.55\n",
            "Epoch 41  Training Accuracy 55.44 Validation Accuracy 56.58\n",
            "Epoch 42  Training Accuracy 55.72 Validation Accuracy 56.63\n",
            "Epoch 43  Training Accuracy 55.88 Validation Accuracy 56.70\n",
            "Epoch 44  Training Accuracy 55.93 Validation Accuracy 57.72\n",
            "Epoch 45  Training Accuracy 55.95 Validation Accuracy 57.55\n",
            "Epoch 46  Training Accuracy 56.15 Validation Accuracy 57.63\n",
            "Epoch 47  Training Accuracy 56.02 Validation Accuracy 57.83\n",
            "Epoch 48  Training Accuracy 56.35 Validation Accuracy 58.42\n",
            "Epoch 49  Training Accuracy 56.63 Validation Accuracy 57.77\n",
            "Epoch 50  Training Accuracy 56.61 Validation Accuracy 58.48\n",
            "Epoch 51  Training Accuracy 57.00 Validation Accuracy 57.82\n",
            "Epoch 52  Training Accuracy 56.95 Validation Accuracy 58.15\n",
            "Epoch 53  Training Accuracy 56.98 Validation Accuracy 57.75\n",
            "Epoch 54  Training Accuracy 57.15 Validation Accuracy 58.08\n",
            "Epoch 55  Training Accuracy 57.44 Validation Accuracy 58.38\n",
            "Epoch 56  Training Accuracy 57.41 Validation Accuracy 59.15\n",
            "Epoch 57  Training Accuracy 57.50 Validation Accuracy 58.67\n",
            "Epoch 58  Training Accuracy 57.31 Validation Accuracy 58.93\n",
            "Epoch 59  Training Accuracy 57.76 Validation Accuracy 59.38\n",
            "Epoch 60  Training Accuracy 57.78 Validation Accuracy 58.95\n",
            "Epoch 61  Training Accuracy 58.00 Validation Accuracy 59.28\n",
            "Epoch 62  Training Accuracy 58.24 Validation Accuracy 59.72\n",
            "Epoch 63  Training Accuracy 57.94 Validation Accuracy 59.48\n",
            "Epoch 64  Training Accuracy 57.98 Validation Accuracy 59.55\n",
            "Epoch 65  Training Accuracy 58.34 Validation Accuracy 59.50\n",
            "Epoch 66  Training Accuracy 58.21 Validation Accuracy 60.13\n",
            "Epoch 67  Training Accuracy 58.50 Validation Accuracy 59.60\n",
            "Epoch 68  Training Accuracy 58.70 Validation Accuracy 60.07\n",
            "Epoch 69  Training Accuracy 58.79 Validation Accuracy 60.25\n",
            "Epoch 70  Training Accuracy 58.77 Validation Accuracy 59.83\n",
            "Epoch 71  Training Accuracy 58.72 Validation Accuracy 59.20\n",
            "Epoch 72  Training Accuracy 58.88 Validation Accuracy 60.27\n",
            "Epoch 73  Training Accuracy 58.94 Validation Accuracy 60.08\n",
            "Epoch 74  Training Accuracy 58.96 Validation Accuracy 60.83\n",
            "Epoch 75  Training Accuracy 59.13 Validation Accuracy 60.20\n",
            "Epoch 76  Training Accuracy 59.27 Validation Accuracy 60.43\n",
            "Epoch 77  Training Accuracy 59.21 Validation Accuracy 60.35\n",
            "Epoch 78  Training Accuracy 59.37 Validation Accuracy 59.92\n",
            "Epoch 79  Training Accuracy 59.46 Validation Accuracy 60.73\n",
            "Epoch 80  Training Accuracy 59.23 Validation Accuracy 60.40\n",
            "Epoch 81  Training Accuracy 59.61 Validation Accuracy 60.62\n",
            "Epoch 82  Training Accuracy 59.54 Validation Accuracy 60.83\n",
            "Epoch 83  Training Accuracy 59.80 Validation Accuracy 60.72\n",
            "Epoch 84  Training Accuracy 59.62 Validation Accuracy 60.73\n",
            "Epoch 85  Training Accuracy 59.69 Validation Accuracy 60.83\n",
            "Epoch 86  Training Accuracy 59.74 Validation Accuracy 60.67\n",
            "Epoch 87  Training Accuracy 59.96 Validation Accuracy 61.22\n",
            "Epoch 88  Training Accuracy 60.02 Validation Accuracy 60.65\n",
            "Epoch 89  Training Accuracy 59.99 Validation Accuracy 60.52\n",
            "Epoch 90  Training Accuracy 60.05 Validation Accuracy 61.33\n",
            "Epoch 91  Training Accuracy 60.10 Validation Accuracy 61.43\n",
            "Epoch 92  Training Accuracy 60.15 Validation Accuracy 60.42\n",
            "Epoch 93  Training Accuracy 60.22 Validation Accuracy 61.73\n",
            "Epoch 94  Training Accuracy 60.05 Validation Accuracy 61.85\n",
            "Epoch 95  Training Accuracy 60.17 Validation Accuracy 61.77\n",
            "Epoch 96  Training Accuracy 60.29 Validation Accuracy 61.43\n",
            "Epoch 97  Training Accuracy 60.30 Validation Accuracy 61.23\n",
            "Epoch 98  Training Accuracy 60.52 Validation Accuracy 62.27\n",
            "Epoch 99  Training Accuracy 60.36 Validation Accuracy 61.80\n",
            "Epoch 100  Training Accuracy 60.79 Validation Accuracy 62.27\n"
          ]
        }
      ]
    },
    {
      "cell_type": "code",
      "source": [
        "plt.title(\"Training and Validation Accuracies of Regular CNN\")\n",
        "plt.plot(train_accuracies_regular, label=\"Train\")\n",
        "plt.plot(valid_accuracies_regular, label=\"Validation\")\n",
        "plt.xlabel(\"Epoch\")\n",
        "plt.ylabel(\"Accuracy (%)\")\n",
        "plt.legend(loc='best')\n",
        "plt.show()"
      ],
      "metadata": {
        "colab": {
          "base_uri": "https://localhost:8080/",
          "height": 295
        },
        "id": "mfYgUE6ZYHFO",
        "outputId": "b82605c5-a885-4cf1-8702-c466ac1300d9"
      },
      "execution_count": 21,
      "outputs": [
        {
          "output_type": "display_data",
          "data": {
            "text/plain": [
              "<Figure size 432x288 with 1 Axes>"
            ],
            "image/png": "[encoded data removed]"
          },
          "metadata": {
            "needs_background": "light"
          }
        }
      ]
    },
    {
      "cell_type": "code",
      "source": [
        "test_accuracy_regular = (np.array(predict_regular(x_test).argmax(1)).flatten() == y_test).sum()\n",
        "print(\"Test Accuracy of Regular Model: \", 100*test_accuracy_regular/x_test.shape[0])"
      ],
      "metadata": {
        "colab": {
          "base_uri": "https://localhost:8080/"
        },
        "id": "QSgSLVcxXdm8",
        "outputId": "e524f20d-7436-42c5-9eb6-c3e0a421aa80"
      },
      "execution_count": 19,
      "outputs": [
        {
          "output_type": "stream",
          "name": "stdout",
          "text": [
            "Test Accuracy of Regular Model:  56.18333333333333\n"
          ]
        }
      ]
    },
    {
      "cell_type": "markdown",
      "source": [
        "## Train CNN with Differential Privacy\n",
        "\n",
        "In train_op_dp, add gaussian noise and gradient clipping\n"
      ],
      "metadata": {
        "id": "5sr9fXeiRoui"
      }
    },
    {
      "cell_type": "code",
      "source": [
        "# hyperparameters\n",
        "epochs = 100\n",
        "batch = 100\n",
        "lr = 0.1\n",
        "sigma = 4 # noise scale\n",
        "C = 100 # gradient norm (Best C = median of the norms of the unclipped gradients)\n",
        "L = int(np.sqrt(len(x))) # L = √ N is the best group size"
      ],
      "metadata": {
        "id": "0zMhovEUaPbr"
      },
      "execution_count": 152,
      "outputs": []
    },
    {
      "cell_type": "code",
      "source": [
        "#define model\n",
        "model_dp = CNN(channels = 3, classes = 10)\n",
        "\n",
        "#define loss\n",
        "def loss_fn_dp(x, y):\n",
        "    return objax.functional.loss.cross_entropy_logits_sparse(model_dp(x), y).mean()\n",
        "\n",
        "#define prediction function (to get results of model training)\n",
        "predict_dp = objax.Jit(lambda x: objax.functional.softmax(model_dp(x)), model_dp.vars())\n",
        "\n",
        "# define 'forward' operation.\n",
        "gv_dp = objax.GradValues(loss_fn_dp, model_dp.vars()) #function that calculates gradient\n",
        "tv_dp = objax.ModuleList(objax.TrainRef(x) for x in model_dp.vars().subset(objax.TrainVar)) #trainable variables\n",
        "unclipped_grad = [] #store in list, to find best C\n",
        "\n",
        "def train_op_dp(x, y, lr):\n",
        "    g, v = gv_dp(x, y) # apply gradient\n",
        "\n",
        "    # ** optimzer: DP-SGD **\n",
        "    \n",
        "    i = 0 # which model variable\n",
        "    for grad, params in zip(g, tv_dp.vars()):\n",
        "\n",
        "      # get random \"lot (L)\" of examples to add noise to:\n",
        "      lot_idxs = np.random.choice(len(x), L)\n",
        "      g_lot, __ = gv_dp(x[lot_idxs], y[lot_idxs]) #get grad only for lot\n",
        "      grad = g_lot[i]\n",
        "    \n",
        "      #gradient clipping\n",
        "      norm = jn.linalg.norm(grad)\n",
        "      unclipped_grad.append(norm)\n",
        "      grad_clipped = grad / jn.maximum(jn.empty(jn.shape(norm)) + 1, norm/C)\n",
        "\n",
        "      #apply guassian\n",
        "      mu = 0\n",
        "      std = sigma*C\n",
        "      key = jax.random.PRNGKey(0) # to ensure guassian stays the same for all runs\n",
        "      guassian = mu + std * jax.random.normal(key, jn.shape(grad_clipped))\n",
        "      grad_w_guassian = jn.multiply(1/L, jn.add(grad_clipped, guassian))\n",
        "      \n",
        "      #update params\n",
        "      params.value -= jn.multiply(grad_clipped, lr) \n",
        "\n",
        "      i+=1\n",
        "\n",
        "    return v # v is the loss\n",
        "\n",
        "train_op_dp = objax.Jit(train_op_dp, gv_dp.vars() + tv_dp.vars()) # compile train_op to make it faste"
      ],
      "metadata": {
        "id": "gsOu1Iz4SssE"
      },
      "execution_count": 157,
      "outputs": []
    },
    {
      "cell_type": "code",
      "source": [
        "# train with differential privacy\n",
        "train_accuracies_dp, valid_accuracies_dp = train(epochs, batch, lr, x_train, x_valid, y_train, y_valid, train_op_dp, predict_dp)\n",
        "\n",
        "#print (\"---- For hyperparameter tuning: ----\")\n",
        "#print(\"mean of unclipped gradients -> \", jn.mean(unclipped_grad))"
      ],
      "metadata": {
        "colab": {
          "base_uri": "https://localhost:8080/"
        },
        "id": "tPQUk2vCRc7G",
        "outputId": "9085f912-67de-4c0d-eb36-e4e31a44399b"
      },
      "execution_count": 158,
      "outputs": [
        {
          "output_type": "stream",
          "name": "stdout",
          "text": [
            "Epoch 1  Training Accuracy 18.9708 Validation Accuracy 23.3667\n",
            "Epoch 2  Training Accuracy 24.6667 Validation Accuracy 27.4333\n",
            "Epoch 3  Training Accuracy 27.8271 Validation Accuracy 30.3500\n",
            "Epoch 4  Training Accuracy 30.1833 Validation Accuracy 32.5667\n",
            "Epoch 5  Training Accuracy 32.3188 Validation Accuracy 33.5500\n",
            "Epoch 6  Training Accuracy 33.6750 Validation Accuracy 35.4333\n",
            "Epoch 7  Training Accuracy 35.6979 Validation Accuracy 36.6833\n",
            "Epoch 8  Training Accuracy 36.8167 Validation Accuracy 38.9000\n",
            "Epoch 9  Training Accuracy 37.8146 Validation Accuracy 38.6000\n",
            "Epoch 10  Training Accuracy 38.9729 Validation Accuracy 39.9667\n",
            "Epoch 11  Training Accuracy 40.4229 Validation Accuracy 41.0667\n",
            "Epoch 12  Training Accuracy 41.2042 Validation Accuracy 42.6333\n",
            "Epoch 13  Training Accuracy 42.0750 Validation Accuracy 42.6000\n",
            "Epoch 14  Training Accuracy 42.8042 Validation Accuracy 43.8167\n",
            "Epoch 15  Training Accuracy 43.7771 Validation Accuracy 44.3167\n",
            "Epoch 16  Training Accuracy 43.5583 Validation Accuracy 44.3667\n",
            "Epoch 17  Training Accuracy 44.1667 Validation Accuracy 45.2500\n",
            "Epoch 18  Training Accuracy 44.9250 Validation Accuracy 46.0833\n",
            "Epoch 19  Training Accuracy 45.6917 Validation Accuracy 46.5500\n",
            "Epoch 20  Training Accuracy 46.2458 Validation Accuracy 46.7000\n",
            "Epoch 21  Training Accuracy 46.6146 Validation Accuracy 47.1500\n",
            "Epoch 22  Training Accuracy 47.2708 Validation Accuracy 48.6500\n",
            "Epoch 23  Training Accuracy 48.0021 Validation Accuracy 48.8667\n",
            "Epoch 24  Training Accuracy 48.4854 Validation Accuracy 49.8000\n",
            "Epoch 25  Training Accuracy 48.7521 Validation Accuracy 49.6500\n",
            "Epoch 26  Training Accuracy 48.4250 Validation Accuracy 50.4167\n",
            "Epoch 27  Training Accuracy 49.5021 Validation Accuracy 50.4167\n",
            "Epoch 28  Training Accuracy 50.2625 Validation Accuracy 52.0000\n",
            "Epoch 29  Training Accuracy 50.7646 Validation Accuracy 52.0500\n",
            "Epoch 30  Training Accuracy 50.7167 Validation Accuracy 52.8000\n",
            "Epoch 31  Training Accuracy 51.3646 Validation Accuracy 52.2167\n",
            "Epoch 32  Training Accuracy 51.3813 Validation Accuracy 52.3000\n",
            "Epoch 33  Training Accuracy 51.1167 Validation Accuracy 52.8667\n",
            "Epoch 34  Training Accuracy 52.3271 Validation Accuracy 53.5833\n",
            "Epoch 35  Training Accuracy 52.3438 Validation Accuracy 53.7500\n",
            "Epoch 36  Training Accuracy 52.3250 Validation Accuracy 53.6000\n",
            "Epoch 37  Training Accuracy 52.4167 Validation Accuracy 53.5833\n",
            "Epoch 38  Training Accuracy 52.5563 Validation Accuracy 53.8833\n",
            "Epoch 39  Training Accuracy 53.0188 Validation Accuracy 54.2333\n",
            "Epoch 40  Training Accuracy 53.0396 Validation Accuracy 54.7833\n",
            "Epoch 41  Training Accuracy 53.3771 Validation Accuracy 54.3667\n",
            "Epoch 42  Training Accuracy 53.6167 Validation Accuracy 54.7333\n",
            "Epoch 43  Training Accuracy 53.4979 Validation Accuracy 55.1833\n",
            "Epoch 44  Training Accuracy 54.2146 Validation Accuracy 54.2667\n",
            "Epoch 45  Training Accuracy 54.1958 Validation Accuracy 56.0167\n",
            "Epoch 46  Training Accuracy 54.4167 Validation Accuracy 55.6500\n",
            "Epoch 47  Training Accuracy 54.6875 Validation Accuracy 56.2167\n",
            "Epoch 48  Training Accuracy 55.0958 Validation Accuracy 56.4833\n",
            "Epoch 49  Training Accuracy 55.4292 Validation Accuracy 56.3333\n",
            "Epoch 50  Training Accuracy 55.4792 Validation Accuracy 56.1833\n",
            "Epoch 51  Training Accuracy 55.5375 Validation Accuracy 56.3333\n",
            "Epoch 52  Training Accuracy 55.6333 Validation Accuracy 56.4833\n",
            "Epoch 53  Training Accuracy 55.4833 Validation Accuracy 57.2500\n",
            "Epoch 54  Training Accuracy 55.8833 Validation Accuracy 57.0167\n",
            "Epoch 55  Training Accuracy 56.0229 Validation Accuracy 57.7333\n",
            "Epoch 56  Training Accuracy 56.2542 Validation Accuracy 57.3167\n",
            "Epoch 57  Training Accuracy 56.1562 Validation Accuracy 56.1667\n",
            "Epoch 58  Training Accuracy 56.2417 Validation Accuracy 56.8833\n",
            "Epoch 59  Training Accuracy 56.1958 Validation Accuracy 57.6000\n",
            "Epoch 60  Training Accuracy 56.5479 Validation Accuracy 58.1167\n",
            "Epoch 61  Training Accuracy 56.8813 Validation Accuracy 58.7833\n",
            "Epoch 62  Training Accuracy 56.5729 Validation Accuracy 58.1667\n",
            "Epoch 63  Training Accuracy 57.0812 Validation Accuracy 57.9167\n",
            "Epoch 64  Training Accuracy 56.9562 Validation Accuracy 58.6000\n",
            "Epoch 65  Training Accuracy 57.2313 Validation Accuracy 57.8500\n",
            "Epoch 66  Training Accuracy 57.0833 Validation Accuracy 58.2000\n",
            "Epoch 67  Training Accuracy 57.1646 Validation Accuracy 58.3667\n",
            "Epoch 68  Training Accuracy 57.5438 Validation Accuracy 58.6333\n",
            "Epoch 69  Training Accuracy 57.8146 Validation Accuracy 58.4833\n",
            "Epoch 70  Training Accuracy 58.0688 Validation Accuracy 59.1667\n",
            "Epoch 71  Training Accuracy 57.5854 Validation Accuracy 59.0333\n",
            "Epoch 72  Training Accuracy 57.7063 Validation Accuracy 58.7667\n",
            "Epoch 73  Training Accuracy 57.7479 Validation Accuracy 58.9333\n",
            "Epoch 74  Training Accuracy 58.1979 Validation Accuracy 59.5000\n",
            "Epoch 75  Training Accuracy 58.0521 Validation Accuracy 59.0333\n",
            "Epoch 76  Training Accuracy 58.2750 Validation Accuracy 59.0333\n",
            "Epoch 77  Training Accuracy 58.1042 Validation Accuracy 59.6167\n",
            "Epoch 78  Training Accuracy 58.5271 Validation Accuracy 59.5833\n",
            "Epoch 79  Training Accuracy 58.4833 Validation Accuracy 58.7333\n",
            "Epoch 80  Training Accuracy 58.6458 Validation Accuracy 59.8000\n",
            "Epoch 81  Training Accuracy 58.8771 Validation Accuracy 59.4833\n",
            "Epoch 82  Training Accuracy 58.7188 Validation Accuracy 59.3833\n",
            "Epoch 83  Training Accuracy 59.0250 Validation Accuracy 60.1667\n",
            "Epoch 84  Training Accuracy 59.2625 Validation Accuracy 59.5500\n",
            "Epoch 85  Training Accuracy 59.2563 Validation Accuracy 59.8667\n",
            "Epoch 86  Training Accuracy 59.1896 Validation Accuracy 60.7000\n",
            "Epoch 87  Training Accuracy 59.2896 Validation Accuracy 60.5833\n",
            "Epoch 88  Training Accuracy 59.3521 Validation Accuracy 60.7000\n",
            "Epoch 89  Training Accuracy 59.4187 Validation Accuracy 60.7333\n",
            "Epoch 90  Training Accuracy 59.3958 Validation Accuracy 60.3167\n",
            "Epoch 91  Training Accuracy 59.5542 Validation Accuracy 60.4833\n",
            "Epoch 92  Training Accuracy 59.5042 Validation Accuracy 60.9167\n",
            "Epoch 93  Training Accuracy 59.4292 Validation Accuracy 60.5167\n",
            "Epoch 94  Training Accuracy 59.7771 Validation Accuracy 61.0167\n",
            "Epoch 95  Training Accuracy 59.9292 Validation Accuracy 60.1667\n",
            "Epoch 96  Training Accuracy 60.0792 Validation Accuracy 61.6500\n",
            "Epoch 97  Training Accuracy 60.1458 Validation Accuracy 61.3500\n",
            "Epoch 98  Training Accuracy 59.8354 Validation Accuracy 61.3333\n",
            "Epoch 99  Training Accuracy 60.1979 Validation Accuracy 61.7667\n",
            "Epoch 100  Training Accuracy 59.8396 Validation Accuracy 60.7333\n"
          ]
        }
      ]
    },
    {
      "cell_type": "code",
      "source": [
        "plt.title(\"Training and Validation Accuracies of Differentialy Private CNN\")\n",
        "plt.plot(train_accuracies_dp, label=\"Train\")\n",
        "plt.plot(valid_accuracies_dp, label=\"Validation\")\n",
        "plt.xlabel(\"Epoch\")\n",
        "plt.ylabel(\"Accuracy (%)\")\n",
        "plt.legend(loc='best')\n",
        "plt.show()"
      ],
      "metadata": {
        "colab": {
          "base_uri": "https://localhost:8080/",
          "height": 295
        },
        "id": "Lq48XHa2YywJ",
        "outputId": "71826ae4-f537-4f1e-e3ba-05a8d0b87abe"
      },
      "execution_count": 159,
      "outputs": [
        {
          "output_type": "display_data",
          "data": {
            "text/plain": [
              "<Figure size 432x288 with 1 Axes>"
            ],
            "image/png": "[encoded data removed]"
          },
          "metadata": {
            "needs_background": "light"
          }
        }
      ]
    },
    {
      "cell_type": "code",
      "source": [
        "test_accuracy_dp = (np.array(predict_dp(x_test).argmax(1)).flatten() == y_test).sum()\n",
        "print(\"Test Accuracy of Regular Model: \", 100*test_accuracy_dp/x_test.shape[0])"
      ],
      "metadata": {
        "colab": {
          "base_uri": "https://localhost:8080/"
        },
        "id": "XjjfyzjSY6FJ",
        "outputId": "00ee9f39-a578-4184-d3c9-4584ffd56820"
      },
      "execution_count": 160,
      "outputs": [
        {
          "output_type": "stream",
          "name": "stdout",
          "text": [
            "Test Accuracy of Regular Model:  56.983333333333334\n"
          ]
        }
      ]
    }
  ]
}